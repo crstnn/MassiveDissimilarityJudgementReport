{
 "cells": [
  {
   "cell_type": "markdown",
   "id": "14351d42-33cb-48e3-83cf-ad64594309c7",
   "metadata": {},
   "source": [
    "## Preliminary Analysis of Dominik's 93 Colour Patch Comparison Data"
   ]
  },
  {
   "cell_type": "markdown",
   "id": "624bc122-04e9-4619-88ca-5a0003cfa479",
   "metadata": {},
   "source": [
    "2022-Jan-28  \n",
    "Ariel Zeleznikow-Johnston"
   ]
  },
  {
   "cell_type": "code",
   "execution_count": 2,
   "id": "df255c52-512d-4ea2-968f-c9e08791d980",
   "metadata": {},
   "outputs": [],
   "source": [
    "# hardcoded values\n",
    "n.compare = 320\n",
    "cor_threshold = 0.5\n",
    "n.stim = 93"
   ]
  },
  {
   "cell_type": "code",
   "execution_count": 91,
   "id": "58743a36-c581-4198-b584-8916c6501142",
   "metadata": {},
   "outputs": [],
   "source": [
    "library(rgl)\n",
    "library(stringr)"
   ]
  },
  {
   "cell_type": "code",
   "execution_count": 49,
   "id": "abd5314e-e30a-408d-8665-b8e1c73b9749",
   "metadata": {
    "collapsed": true,
    "jupyter": {
     "outputs_hidden": true
    },
    "tags": []
   },
   "outputs": [
    {
     "name": "stderr",
     "output_type": "stream",
     "text": [
      "Downloading GitHub repo rstudio/webshot2@HEAD\n",
      "\n"
     ]
    },
    {
     "name": "stdout",
     "output_type": "stream",
     "text": [
      "chromote (NA     -> e6a9fef95...) [GitHub]\n",
      "rlang    (0.4.11 -> 1.0.0       ) [CRAN]\n",
      "Rcpp     (1.0.7  -> 1.0.8       ) [CRAN]\n",
      "magrittr (2.0.1  -> 2.0.2       ) [CRAN]\n",
      "later    (1.2.0  -> 1.3.0       ) [CRAN]\n"
     ]
    },
    {
     "name": "stderr",
     "output_type": "stream",
     "text": [
      "Downloading GitHub repo rstudio/chromote@HEAD\n",
      "\n"
     ]
    },
    {
     "name": "stdout",
     "output_type": "stream",
     "text": [
      "rlang       (0.4.11 -> 1.0.0   ) [CRAN]\n",
      "Rcpp        (1.0.7  -> 1.0.8   ) [CRAN]\n",
      "magrittr    (2.0.1  -> 2.0.2   ) [CRAN]\n",
      "later       (1.2.0  -> 1.3.0   ) [CRAN]\n",
      "AsioHeaders (NA     -> 1.16.1-1) [CRAN]\n",
      "cpp11       (0.4.1  -> 0.4.2   ) [CRAN]\n",
      "websocket   (NA     -> 1.4.1   ) [CRAN]\n",
      "jsonlite    (1.7.2  -> 1.7.3   ) [CRAN]\n"
     ]
    },
    {
     "name": "stderr",
     "output_type": "stream",
     "text": [
      "Installing 8 packages: rlang, Rcpp, magrittr, later, AsioHeaders, cpp11, websocket, jsonlite\n",
      "\n"
     ]
    },
    {
     "name": "stdout",
     "output_type": "stream",
     "text": [
      "package 'rlang' successfully unpacked and MD5 sums checked\n"
     ]
    },
    {
     "name": "stderr",
     "output_type": "stream",
     "text": [
      "Warning message:\n",
      "\"cannot remove prior installation of package 'rlang'\"\n",
      "Warning message in file.copy(savedcopy, lib, recursive = TRUE):\n",
      "\"problem copying C:\\Users\\zelez\\anaconda3\\Lib\\R\\library\\00LOCK\\rlang\\libs\\x64\\rlang.dll to C:\\Users\\zelez\\anaconda3\\Lib\\R\\library\\rlang\\libs\\x64\\rlang.dll: Permission denied\"\n",
      "Warning message:\n",
      "\"restored 'rlang'\"\n"
     ]
    },
    {
     "name": "stdout",
     "output_type": "stream",
     "text": [
      "package 'Rcpp' successfully unpacked and MD5 sums checked\n"
     ]
    },
    {
     "name": "stderr",
     "output_type": "stream",
     "text": [
      "Warning message:\n",
      "\"cannot remove prior installation of package 'Rcpp'\"\n",
      "Warning message in file.copy(savedcopy, lib, recursive = TRUE):\n",
      "\"problem copying C:\\Users\\zelez\\anaconda3\\Lib\\R\\library\\00LOCK\\Rcpp\\libs\\x64\\Rcpp.dll to C:\\Users\\zelez\\anaconda3\\Lib\\R\\library\\Rcpp\\libs\\x64\\Rcpp.dll: Permission denied\"\n",
      "Warning message:\n",
      "\"restored 'Rcpp'\"\n"
     ]
    },
    {
     "name": "stdout",
     "output_type": "stream",
     "text": [
      "package 'magrittr' successfully unpacked and MD5 sums checked\n"
     ]
    },
    {
     "name": "stderr",
     "output_type": "stream",
     "text": [
      "Warning message:\n",
      "\"cannot remove prior installation of package 'magrittr'\"\n",
      "Warning message in file.copy(savedcopy, lib, recursive = TRUE):\n",
      "\"problem copying C:\\Users\\zelez\\anaconda3\\Lib\\R\\library\\00LOCK\\magrittr\\libs\\x64\\magrittr.dll to C:\\Users\\zelez\\anaconda3\\Lib\\R\\library\\magrittr\\libs\\x64\\magrittr.dll: Permission denied\"\n",
      "Warning message:\n",
      "\"restored 'magrittr'\"\n"
     ]
    },
    {
     "name": "stdout",
     "output_type": "stream",
     "text": [
      "package 'later' successfully unpacked and MD5 sums checked\n",
      "package 'AsioHeaders' successfully unpacked and MD5 sums checked\n",
      "package 'cpp11' successfully unpacked and MD5 sums checked\n",
      "package 'websocket' successfully unpacked and MD5 sums checked\n",
      "package 'jsonlite' successfully unpacked and MD5 sums checked\n"
     ]
    },
    {
     "name": "stderr",
     "output_type": "stream",
     "text": [
      "Warning message:\n",
      "\"cannot remove prior installation of package 'jsonlite'\"\n",
      "Warning message in file.copy(savedcopy, lib, recursive = TRUE):\n",
      "\"problem copying C:\\Users\\zelez\\anaconda3\\Lib\\R\\library\\00LOCK\\jsonlite\\libs\\x64\\jsonlite.dll to C:\\Users\\zelez\\anaconda3\\Lib\\R\\library\\jsonlite\\libs\\x64\\jsonlite.dll: Permission denied\"\n",
      "Warning message:\n",
      "\"restored 'jsonlite'\"\n"
     ]
    },
    {
     "name": "stdout",
     "output_type": "stream",
     "text": [
      "\n",
      "The downloaded binary packages are in\n",
      "\tC:\\Users\\zelez\\AppData\\Local\\Temp\\RtmpMrYkBQ\\downloaded_packages\n"
     ]
    },
    {
     "name": "stderr",
     "output_type": "stream",
     "text": [
      "WARNING: Rtools is required to build R packages, but is not currently installed.\n",
      "\n",
      "Please download and install Rtools 4.0 from https://cran.r-project.org/bin/windows/Rtools/.\n",
      "\n"
     ]
    },
    {
     "name": "stdout",
     "output_type": "stream",
     "text": [
      "\u001b[32mv\u001b[39m  \u001b[90mchecking for file 'C:\\Users\\zelez\\AppData\\Local\\Temp\\RtmpMrYkBQ\\remotes546c60983a42\\rstudio-chromote-e6a9fef/DESCRIPTION'\u001b[39m\u001b[36m\u001b[39m\n",
      "\u001b[90m-\u001b[39m\u001b[90m  \u001b[39m\u001b[90mpreparing 'chromote':\u001b[39m\u001b[36m\u001b[39m\n",
      "\u001b[32mv\u001b[39m  \u001b[90mchecking DESCRIPTION meta-information\u001b[39m\u001b[36m\u001b[39m\n",
      "\u001b[90m-\u001b[39m\u001b[90m  \u001b[39m\u001b[90mchecking for LF line-endings in source and make files and shell scripts\u001b[39m\u001b[36m\u001b[39m\n",
      "\u001b[90m-\u001b[39m\u001b[90m  \u001b[39m\u001b[90mchecking for empty or unneeded directories\u001b[39m\u001b[36m\u001b[39m\n",
      "\u001b[90m-\u001b[39m\u001b[90m  \u001b[39m\u001b[90mbuilding 'chromote_0.0.0.9003.tar.gz'\u001b[39m\u001b[36m\u001b[39m\n",
      "   \n",
      "\r"
     ]
    },
    {
     "name": "stderr",
     "output_type": "stream",
     "text": [
      "Installing 4 packages: rlang, Rcpp, magrittr, later\n",
      "\n"
     ]
    },
    {
     "name": "stdout",
     "output_type": "stream",
     "text": [
      "package 'rlang' successfully unpacked and MD5 sums checked\n"
     ]
    },
    {
     "name": "stderr",
     "output_type": "stream",
     "text": [
      "Warning message:\n",
      "\"cannot remove prior installation of package 'rlang'\"\n",
      "Warning message in file.copy(savedcopy, lib, recursive = TRUE):\n",
      "\"problem copying C:\\Users\\zelez\\anaconda3\\Lib\\R\\library\\00LOCK\\rlang\\libs\\x64\\rlang.dll to C:\\Users\\zelez\\anaconda3\\Lib\\R\\library\\rlang\\libs\\x64\\rlang.dll: Permission denied\"\n",
      "Warning message:\n",
      "\"restored 'rlang'\"\n"
     ]
    },
    {
     "name": "stdout",
     "output_type": "stream",
     "text": [
      "package 'Rcpp' successfully unpacked and MD5 sums checked\n"
     ]
    },
    {
     "name": "stderr",
     "output_type": "stream",
     "text": [
      "Warning message:\n",
      "\"cannot remove prior installation of package 'Rcpp'\"\n",
      "Warning message in file.copy(savedcopy, lib, recursive = TRUE):\n",
      "\"problem copying C:\\Users\\zelez\\anaconda3\\Lib\\R\\library\\00LOCK\\Rcpp\\libs\\x64\\Rcpp.dll to C:\\Users\\zelez\\anaconda3\\Lib\\R\\library\\Rcpp\\libs\\x64\\Rcpp.dll: Permission denied\"\n",
      "Warning message:\n",
      "\"restored 'Rcpp'\"\n"
     ]
    },
    {
     "name": "stdout",
     "output_type": "stream",
     "text": [
      "package 'magrittr' successfully unpacked and MD5 sums checked\n"
     ]
    },
    {
     "name": "stderr",
     "output_type": "stream",
     "text": [
      "Warning message:\n",
      "\"cannot remove prior installation of package 'magrittr'\"\n",
      "Warning message in file.copy(savedcopy, lib, recursive = TRUE):\n",
      "\"problem copying C:\\Users\\zelez\\anaconda3\\Lib\\R\\library\\00LOCK\\magrittr\\libs\\x64\\magrittr.dll to C:\\Users\\zelez\\anaconda3\\Lib\\R\\library\\magrittr\\libs\\x64\\magrittr.dll: Permission denied\"\n",
      "Warning message:\n",
      "\"restored 'magrittr'\"\n"
     ]
    },
    {
     "name": "stdout",
     "output_type": "stream",
     "text": [
      "package 'later' successfully unpacked and MD5 sums checked\n",
      "\n",
      "The downloaded binary packages are in\n",
      "\tC:\\Users\\zelez\\AppData\\Local\\Temp\\RtmpMrYkBQ\\downloaded_packages\n"
     ]
    },
    {
     "name": "stderr",
     "output_type": "stream",
     "text": [
      "Skipping install of 'chromote' from a github remote, the SHA1 (e6a9fef9) has not changed since last install.\n",
      "  Use `force = TRUE` to force installation\n",
      "\n",
      "WARNING: Rtools is required to build R packages, but is not currently installed.\n",
      "\n",
      "Please download and install Rtools 4.0 from https://cran.r-project.org/bin/windows/Rtools/.\n",
      "\n"
     ]
    },
    {
     "name": "stdout",
     "output_type": "stream",
     "text": [
      "\u001b[32mv\u001b[39m  \u001b[90mchecking for file 'C:\\Users\\zelez\\AppData\\Local\\Temp\\RtmpMrYkBQ\\remotes546c504c7299\\rstudio-webshot2-6cc8950/DESCRIPTION'\u001b[39m\u001b[36m\u001b[39m\n",
      "\u001b[90m-\u001b[39m\u001b[90m  \u001b[39m\u001b[90mpreparing 'webshot2':\u001b[39m\u001b[36m\u001b[39m\n",
      "\u001b[32mv\u001b[39m  \u001b[90mchecking DESCRIPTION meta-information\u001b[39m\u001b[36m\u001b[39m\n",
      "\u001b[90m-\u001b[39m\u001b[90m  \u001b[39m\u001b[90mchecking for LF line-endings in source and make files and shell scripts\u001b[39m\u001b[36m\u001b[39m\n",
      "\u001b[90m-\u001b[39m\u001b[90m  \u001b[39m\u001b[90mchecking for empty or unneeded directories\u001b[39m\u001b[36m\u001b[39m\n",
      "\u001b[90m-\u001b[39m\u001b[90m  \u001b[39m\u001b[90mbuilding 'webshot2_0.0.0.9000.tar.gz'\u001b[39m\u001b[36m\u001b[39m\n",
      "   \n",
      "\r"
     ]
    },
    {
     "name": "stderr",
     "output_type": "stream",
     "text": [
      "Registered S3 method overwritten by 'webshot2':\n",
      "  method        from   \n",
      "  print.webshot webshot\n",
      "\n",
      "\n",
      "Attaching package: 'webshot2'\n",
      "\n",
      "\n",
      "The following objects are masked from 'package:webshot':\n",
      "\n",
      "    appshot, resize, rmdshot, shrink, webshot\n",
      "\n",
      "\n"
     ]
    }
   ],
   "source": [
    "library(remotes)\n",
    "remotes::install_github(\"rstudio/webshot2\")\n",
    "library(webshot2)"
   ]
  },
  {
   "cell_type": "code",
   "execution_count": 4,
   "id": "3886692e-8ef9-4012-8353-f87f14043dad",
   "metadata": {},
   "outputs": [
    {
     "name": "stderr",
     "output_type": "stream",
     "text": [
      "-- \u001b[1mAttaching packages\u001b[22m ----------------------------------------------------------------------------------------------------------------------------------- tidyverse 1.3.1 --\n",
      "\n",
      "\u001b[32mv\u001b[39m \u001b[34mggplot2\u001b[39m 3.3.5     \u001b[32mv\u001b[39m \u001b[34mpurrr  \u001b[39m 0.3.4\n",
      "\u001b[32mv\u001b[39m \u001b[34mtibble \u001b[39m 3.1.4     \u001b[32mv\u001b[39m \u001b[34mdplyr  \u001b[39m 1.0.7\n",
      "\u001b[32mv\u001b[39m \u001b[34mtidyr  \u001b[39m 1.1.3     \u001b[32mv\u001b[39m \u001b[34mstringr\u001b[39m 1.4.0\n",
      "\u001b[32mv\u001b[39m \u001b[34mreadr  \u001b[39m 2.0.2     \u001b[32mv\u001b[39m \u001b[34mforcats\u001b[39m 0.5.1\n",
      "\n",
      "-- \u001b[1mConflicts\u001b[22m -------------------------------------------------------------------------------------------------------------------------------------- tidyverse_conflicts() --\n",
      "\u001b[31mx\u001b[39m \u001b[34mdplyr\u001b[39m::\u001b[32mfilter()\u001b[39m masks \u001b[34mstats\u001b[39m::filter()\n",
      "\u001b[31mx\u001b[39m \u001b[34mdplyr\u001b[39m::\u001b[32mlag()\u001b[39m    masks \u001b[34mstats\u001b[39m::lag()\n",
      "\n"
     ]
    },
    {
     "name": "stdout",
     "output_type": "stream",
     "text": [
      "package 'ramify' successfully unpacked and MD5 sums checked\n",
      "\n",
      "The downloaded binary packages are in\n",
      "\tC:\\Users\\zelez\\AppData\\Local\\Temp\\RtmpMrYkBQ\\downloaded_packages\n",
      "package 'reshape2' successfully unpacked and MD5 sums checked\n",
      "\n",
      "The downloaded binary packages are in\n",
      "\tC:\\Users\\zelez\\AppData\\Local\\Temp\\RtmpMrYkBQ\\downloaded_packages\n"
     ]
    },
    {
     "name": "stderr",
     "output_type": "stream",
     "text": [
      "Loading required package: viridisLite\n",
      "\n",
      "\n",
      "Attaching package: 'MASS'\n",
      "\n",
      "\n",
      "The following object is masked from 'package:dplyr':\n",
      "\n",
      "    select\n",
      "\n",
      "\n"
     ]
    },
    {
     "name": "stdout",
     "output_type": "stream",
     "text": [
      "package 'hrbrthemes' successfully unpacked and MD5 sums checked\n",
      "\n",
      "The downloaded binary packages are in\n",
      "\tC:\\Users\\zelez\\AppData\\Local\\Temp\\RtmpMrYkBQ\\downloaded_packages\n"
     ]
    },
    {
     "name": "stderr",
     "output_type": "stream",
     "text": [
      "\n",
      "Attaching package: 'scales'\n",
      "\n",
      "\n",
      "The following object is masked from 'package:viridis':\n",
      "\n",
      "    viridis_pal\n",
      "\n",
      "\n",
      "The following object is masked from 'package:purrr':\n",
      "\n",
      "    discard\n",
      "\n",
      "\n",
      "The following object is masked from 'package:readr':\n",
      "\n",
      "    col_factor\n",
      "\n",
      "\n"
     ]
    },
    {
     "name": "stdout",
     "output_type": "stream",
     "text": [
      "package 'pglm' successfully unpacked and MD5 sums checked\n",
      "\n",
      "The downloaded binary packages are in\n",
      "\tC:\\Users\\zelez\\AppData\\Local\\Temp\\RtmpMrYkBQ\\downloaded_packages\n"
     ]
    }
   ],
   "source": [
    "library(tidyverse)\n",
    "install.packages(\"ramify\")\n",
    "library(dplyr)\n",
    "library(ggplot2)\n",
    "install.packages(\"reshape2\")\n",
    "library(viridis)\n",
    "library(MASS)\n",
    "install.packages(\"hrbrthemes\")\n",
    "library(scales)\n",
    "library(broom)\n",
    "install.packages(\"pglm\")\n",
    "library(gtools)"
   ]
  },
  {
   "cell_type": "markdown",
   "id": "20915d66-e17f-4db4-81ee-5c27470352b1",
   "metadata": {},
   "source": [
    "### Loading Data"
   ]
  },
  {
   "cell_type": "code",
   "execution_count": 5,
   "id": "50cdb806-c4d8-4b01-a92b-5f94329e5d0e",
   "metadata": {},
   "outputs": [],
   "source": [
    "# matching regex of any amount of characters then followed by .csv\n",
    "files <- list.files(path=\"./data\", pattern=\"*.csv\", full.names=TRUE)\n",
    "filesizes <- file.size(files)\n",
    "\n",
    "# individual participant files use a unique ID to mark which colour pairs they saw\n",
    "truthColourTableColumnNames <- c(\"r1\", \"g1\", \"b1\", \"r2\", \"g2\", \"b2\")\n",
    "truthColourTable <- read.csv(\"./colourcodes/colourcodes.csv\", header=F)\n",
    "names(truthColourTable) <- truthColourTableColumnNames\n",
    "\n",
    "# not sure what the point of this is...?\n",
    "files <- files[-(which(filesizes < 4))]\n",
    "\n",
    "pilotdata <- sapply(files, read.csv, simplify=FALSE) %>% bind_rows(.id = \"fileId\")"
   ]
  },
  {
   "cell_type": "code",
   "execution_count": 6,
   "id": "c92f6abf-55c1-4710-b525-db2ce4aa00cc",
   "metadata": {},
   "outputs": [],
   "source": [
    "# changing realcomparison from zero-indexed to one-indexed\n",
    "\n",
    "participantsIDFrame <- data.frame(unique(pilotdata$participant))\n",
    "\n",
    "pilotdata <- pilotdata %>% arrange(\"participant\")"
   ]
  },
  {
   "cell_type": "code",
   "execution_count": 7,
   "id": "6be27c56-b064-425f-9e60-554576da3a5c",
   "metadata": {},
   "outputs": [],
   "source": [
    "# variables of interest from collected data\n",
    "trial_vars<- c( \"participant\", \"practice_comparison\", \"pracsimilarity\", \"realcomparison\", \"similarity\", \"response_time\", \"trials_2.thisN\") \n",
    "catch_vars<- c(\"participant\", \"catch_response_time\", \"catchnumberprac\", \"catchpracsimilarity\", \"catchnumber\", \"catchsimilarity\", \"catchRT\", \"catchtrialorder\")\n",
    "trialdata <- (pilotdata %>% filter(!is.na(realcomparison)))[trial_vars] # no catch trials\n",
    "catchdata <- (pilotdata %>% filter(!is.na(catchnumber)))[catch_vars] # no main trials\n",
    "trialdata = rename(trialdata, dissimilarity = similarity)\n",
    "\n",
    "trialdata$realcomparison <- trialdata$realcomparison + 1 # fixing the indexing?\n",
    "\n",
    "rgb2hex <- function(r, g, b) {rgb(r, g, b, maxColorValue = 255)}"
   ]
  },
  {
   "cell_type": "code",
   "execution_count": 8,
   "id": "48ed3f9d-489b-47f3-b826-85206e6da5a2",
   "metadata": {},
   "outputs": [],
   "source": [
    "# getting the colour pair comparison information\n",
    "\n",
    "# compartmentalising the two dots presented to participants\n",
    "firstColourSet <- truthColourTable[,truthColourTableColumnNames[1:3]]\n",
    "secondColourSet <- truthColourTable[,truthColourTableColumnNames[4:6]]\n",
    "\n",
    "names(firstColourSet) <- names(secondColourSet) <- c(\"r\", \"g\", \"b\")\n",
    "\n",
    "#conversion of 3 RGB columns in both colour tables to HEX for easier manipulation\n",
    "firstColourSetHEX <- apply(firstColourSet, 1, function (x) rgb2hex(x[1], x[2], x[3]))\n",
    "secondColourSetHEX <- apply(secondColourSet, 1, function (x) rgb2hex(x[1], x[2], x[3]))\n",
    "                            \n",
    "#conversion of 3 RGB columns in both colour tables to HEX for easier manipulation\n",
    "firstColourSetHEX <- apply(firstColourSet, 1, function (x) rgb2hex(x[1], x[2], x[3]))\n",
    "secondColourSetHEX <- apply(secondColourSet, 1, function (x) rgb2hex(x[1], x[2], x[3]))\n",
    "\n",
    "colourSetHEX <- data.frame(firstColour = firstColourSetHEX, secondColour = secondColourSetHEX)\n"
   ]
  },
  {
   "cell_type": "markdown",
   "id": "81e8f595-ca83-420d-9ab7-0dd85e30600f",
   "metadata": {},
   "source": [
    "### Cleaning Data"
   ]
  },
  {
   "cell_type": "markdown",
   "id": "81b40a80-1e23-4d74-b1a2-d2ef62f9f141",
   "metadata": {},
   "source": [
    "##### Catch Trials"
   ]
  },
  {
   "cell_type": "code",
   "execution_count": 9,
   "id": "bc41d0f8-f561-42a8-9e1f-2bc310ce9d3b",
   "metadata": {},
   "outputs": [],
   "source": [
    "# catch trial scoring\n",
    "#hist(catchdataParticipant$accuracy)\n"
   ]
  },
  {
   "cell_type": "code",
   "execution_count": 10,
   "id": "20abf6df-13e7-4ef9-b7c2-44b12426e6bd",
   "metadata": {},
   "outputs": [],
   "source": [
    "# assess whether participants passed\n",
    "catch.assess <- function(catchdata){\n",
    "    catchdata <- catchdata %>% mutate(is_valid_catch_response = if_else(catchnumber == catchsimilarity, 1, 0), is_invalid_catch_response = if_else(catchnumber != catchsimilarity, 1, 0))\n",
    "    catchdataParticipant <- catchdata %>% group_by(participant) %>% \n",
    "      summarise(correct_responses=sum(is_valid_catch_response), incorrect_responses = sum(is_invalid_catch_response))\n",
    "\n",
    "    catchdataParticipant$total <- catchdataParticipant$correct_responses + catchdataParticipant$incorrect_responses\n",
    "    catchdataParticipant$accuracy <- (catchdataParticipant$correct_responses/catchdataParticipant$total) * 100\n",
    "    return(catchdataParticipant)\n",
    "}\n",
    "\n",
    "# remove participants who scored below a certain threshold\n",
    "catch.remove <- function(catchdata, trialdata, threshold){\n",
    "    catch.participant <- catch.assess(catchdata)\n",
    "    passed <- subset(catch.participant, accuracy >= threshold)$participant\n",
    "    clean <- subset(trialdata, trialdata$participant %in% passed)\n",
    "    return(clean)\n",
    "}\n"
   ]
  },
  {
   "cell_type": "code",
   "execution_count": 11,
   "id": "4db0363e-c4e6-49f7-88a1-04a0cc69f279",
   "metadata": {},
   "outputs": [],
   "source": [
    "# clean the trial data\n",
    "clean.data <- catch.remove(catchdata,trialdata,80) # using 80% threshold"
   ]
  },
  {
   "cell_type": "markdown",
   "id": "68ec94b4-fa08-424b-a2a6-4876fcf213af",
   "metadata": {},
   "source": [
    "##### Within-subject double pass consistency"
   ]
  },
  {
   "cell_type": "code",
   "execution_count": 12,
   "id": "1baa7082-6406-48db-a5ba-728284d0f9fc",
   "metadata": {},
   "outputs": [],
   "source": [
    "# each participant should have completed 320 trials\n",
    "count.remove <- function(data, threshold){\n",
    "    count <- data %>% count(participant)\n",
    "    passed <- subset(count, n == threshold)$participant\n",
    "    clean <- subset(data, participant %in% passed)\n",
    "    return(clean)\n",
    "}\n",
    "\n",
    "clean.data <- count.remove(clean.data,n.compare)"
   ]
  },
  {
   "cell_type": "markdown",
   "id": "798acd1b-8f4c-4f94-a8d9-e55f80981893",
   "metadata": {},
   "source": [
    "##### Within-subject double pass consistency"
   ]
  },
  {
   "cell_type": "code",
   "execution_count": 13,
   "id": "c3a30604-f773-409a-8078-116e4d3533a6",
   "metadata": {},
   "outputs": [
    {
     "name": "stderr",
     "output_type": "stream",
     "text": [
      "Warning message in cor(v1, v2):\n",
      "\"the standard deviation is zero\"\n",
      "Something went wrong with correlations for participant: 60fdee1f5bb38a56c58631bc\n",
      "\n"
     ]
    }
   ],
   "source": [
    "double.pass.check <- function(data){\n",
    "    v1 <- data$dissimilarity[1:(n.compare/2)]\n",
    "    v2 <- data$dissimilarity[(n.compare/2+1):n.compare]\n",
    "    return(cor(v1,v2))\n",
    "}\n",
    "\n",
    "pass.remove <- function(data, threshold=cor_threshold){\n",
    "    IDs <- unique(data$participant)\n",
    "    passed <- vector()\n",
    "    for(id in IDs){\n",
    "        tryCatch(\n",
    "            {\n",
    "                if(double.pass.check(subset(data, participant == id)) >= threshold){\n",
    "                    passed <- c(passed,id)\n",
    "                }\n",
    "            },\n",
    "            error=function(cond){\n",
    "                message(paste(\"Something went wrong with correlations for participant:\",id))\n",
    "            }\n",
    "        )\n",
    "        \n",
    "    }\n",
    "    clean <- subset(data, participant %in% passed)\n",
    "    return(clean)\n",
    "}\n",
    "\n",
    "clean.data <- pass.remove(clean.data)"
   ]
  },
  {
   "cell_type": "markdown",
   "id": "f61c300b-ad30-4fb3-9556-f9dbe87528d9",
   "metadata": {},
   "source": [
    "### Descriptive plots & statistics"
   ]
  },
  {
   "cell_type": "markdown",
   "id": "4802ca6f-42f9-426f-a18c-7ea0c92f9214",
   "metadata": {},
   "source": [
    "##### Matrix Visualisations"
   ]
  },
  {
   "cell_type": "markdown",
   "id": "89845cda-1b75-4b48-ba6a-40ae56ca3d77",
   "metadata": {},
   "source": [
    "Setting up the matrix"
   ]
  },
  {
   "cell_type": "code",
   "execution_count": 14,
   "id": "44ec34a3-f78e-4c89-a993-8772bad3fbe4",
   "metadata": {},
   "outputs": [],
   "source": [
    "# read in the colour comparison truth table\n",
    "colourSetHEX <- data.frame(firstColour = firstColourSetHEX, secondColour = secondColourSetHEX)\n",
    "\n",
    "rowsTotalSetHEX <- rbind(data.frame(colour = firstColourSetHEX), data.frame(colour = secondColourSetHEX)) %>% group_by_all %>% count\n",
    "\n",
    "# preliminary check that the data has been read in correctly\n",
    "countOfUniqueRowsFirstSet <- length(unique(firstColourSetHEX))\n",
    "countOfUniqueRowsSecondSet <- length(unique(secondColourSetHEX))\n",
    "countOfUniqueRowsTotalSet <- length(rowsTotalSetHEX$colour)"
   ]
  },
  {
   "cell_type": "code",
   "execution_count": 15,
   "id": "8e08265d-03c3-4bfa-b782-2ae1247aed97",
   "metadata": {},
   "outputs": [],
   "source": [
    "# set lower triangle of matrix to NA - this gives heatmap its unique upper triangle\n",
    "upperTriangularMatrix <- upper.tri(matrix(1, ncol = countOfUniqueRowsTotalSet, nrow = countOfUniqueRowsTotalSet), \n",
    "                              diag = FALSE)\n",
    "upperTriangularMatrix[upperTriangularMatrix == 1] <- NA\n",
    "color.mat.df <- data.frame(upperTriangularMatrix)\n",
    "color.mat <- upperTriangularMatrix\n",
    "\n",
    "#head(uniqueColourCountDF)"
   ]
  },
  {
   "cell_type": "code",
   "execution_count": 16,
   "id": "4e3177d4-a01e-4bfe-bf63-b1c6228d16ed",
   "metadata": {},
   "outputs": [],
   "source": [
    "# setting all give colours as both row and column names\n",
    "colnames(color.mat.df) <- rownames(color.mat.df) <- rowsTotalSetHEX$colour\n",
    "colnames(color.mat) <- rownames(color.mat) <- rowsTotalSetHEX$colour"
   ]
  },
  {
   "cell_type": "markdown",
   "id": "97a3462e-aded-4bea-85c7-727dae4cba72",
   "metadata": {},
   "source": [
    "Matrix plot of group mean for each comparison"
   ]
  },
  {
   "cell_type": "code",
   "execution_count": 17,
   "id": "0a7c9901-9661-420f-8988-0547750eb670",
   "metadata": {},
   "outputs": [],
   "source": [
    "# get mean dissimilarity for each colour comparison\n",
    "group.mean <- clean.data %>% group_by(realcomparison) %>% summarise(across(dissimilarity, mean, na.rm = TRUE))"
   ]
  },
  {
   "cell_type": "code",
   "execution_count": 18,
   "id": "61b34a06-593a-4412-9489-737f8f15f911",
   "metadata": {},
   "outputs": [],
   "source": [
    "gp.mean.data <- colourSetHEX\n",
    "gp.mean.data$value <- group.mean$dissimilarity"
   ]
  },
  {
   "cell_type": "code",
   "execution_count": 19,
   "id": "541c6f05-a75b-414f-aa9b-3b50ffceea85",
   "metadata": {},
   "outputs": [],
   "source": [
    "#head(gp.mean.data)"
   ]
  },
  {
   "cell_type": "code",
   "execution_count": 20,
   "id": "ada27eb7-4a1d-4093-889b-ee102ef31f25",
   "metadata": {},
   "outputs": [],
   "source": [
    "# fill matrix\n",
    "matrix.df.fill <- function(data,matrix.df){\n",
    "    for(i in 1:nrow(data)){\n",
    "        #print(i)\n",
    "        row <- data[i,]\n",
    "        #print(matrix.df[row$firstColour,row$secondColour])\n",
    "        matrix.df[row$firstColour,row$secondColour] <- row$value\n",
    "        matrix.df[row$secondColour,row$firstColour] <- row$value # symmetric\n",
    "        #print(matrix.df[row$firstColour,row$secondColour])\n",
    "    }\n",
    "    return(matrix.df)\n",
    "}"
   ]
  },
  {
   "cell_type": "code",
   "execution_count": 21,
   "id": "29bd41eb-69af-4dd8-9939-2b04ab049b6b",
   "metadata": {},
   "outputs": [],
   "source": [
    "group.mean.mat.df <- matrix.df.fill(gp.mean.data,color.mat.df)\n"
   ]
  },
  {
   "cell_type": "code",
   "execution_count": 22,
   "id": "7d2686ca-488a-499e-9931-77e373ade13b",
   "metadata": {},
   "outputs": [],
   "source": [
    "# for visualisation purposes, make a column value indicating correlation with first row\n",
    "row.cor <- function(df){\n",
    "    v.cor <- vector()\n",
    "    for(i in 1:nrow(df)){\n",
    "        v.cor <- c(v.cor, cor(df[1],df[i]))\n",
    "    }    \n",
    "    return(v.cor)\n",
    "}\n",
    "\n",
    "row.factors <- function(colors, correlations){\n",
    "    colors$cor <- correlations\n",
    "    ordered <- colors[order(-colors$cor),]\n",
    "    return(ordered$colour)\n",
    "}\n",
    "\n",
    "row.facs <- row.factors(rowsTotalSetHEX,row.cor(group.mean.mat.df))"
   ]
  },
  {
   "cell_type": "code",
   "execution_count": 23,
   "id": "0657c1b9-bcc5-4560-9792-0be8ca7be64f",
   "metadata": {},
   "outputs": [],
   "source": [
    "group.mean.mat.df$color1 <- rowsTotalSetHEX$colour\n",
    "group.mean.mat.df$color2 <- rowsTotalSetHEX$colour"
   ]
  },
  {
   "cell_type": "code",
   "execution_count": 24,
   "id": "af939607-d9f0-42cf-8a3b-ccbad0501b09",
   "metadata": {},
   "outputs": [],
   "source": [
    "#head(group.mean.mat.df)"
   ]
  },
  {
   "cell_type": "code",
   "execution_count": 25,
   "id": "7c9fdcd1-7883-4de3-8295-b82d437154c7",
   "metadata": {},
   "outputs": [],
   "source": [
    "group.mean.df <- gather(group.mean.mat.df, color1, mean,\n",
    "                        rowsTotalSetHEX$colour[1]:rowsTotalSetHEX$colour[nrow(rowsTotalSetHEX)],\n",
    "                       factor_key=TRUE)"
   ]
  },
  {
   "cell_type": "code",
   "execution_count": 26,
   "id": "443cdd29-9849-4bc4-ba1f-01516535080b",
   "metadata": {},
   "outputs": [],
   "source": [
    "group.mean.df$color1 <- with(group.mean.df, factor(color1, levels = row.facs))\n",
    "group.mean.df$color2 <- with(group.mean.df, factor(color2, levels = row.facs))"
   ]
  },
  {
   "cell_type": "code",
   "execution_count": 27,
   "id": "75f284f1-0a89-48da-a825-330b191094c1",
   "metadata": {},
   "outputs": [
    {
     "name": "stderr",
     "output_type": "stream",
     "text": [
      "Warning message:\n",
      "\"Vectorized input to `element_text()` is not officially supported.\n",
      "Results may be unexpected or may change in future versions of ggplot2.\"\n",
      "Warning message:\n",
      "\"Vectorized input to `element_text()` is not officially supported.\n",
      "Results may be unexpected or may change in future versions of ggplot2.\"\n"
     ]
    }
   ],
   "source": [
    "# plot the matrix\n",
    "matrix.mean <- ggplot(group.mean.df, aes(x = color1, y = color2, fill = mean)) + geom_raster() +\n",
    "    theme(axis.text.x = element_text(colour=row.facs, angle=90),\n",
    "         axis.text.y = element_text(colour=row.facs)) +\n",
    "    scale_fill_gradientn(colours = c(\"white\",\"black\"),\n",
    "                        limits = c(0,7),\n",
    "                        breaks=c(0,1,2,3,4,5,6,7))\n",
    "ggsave(\"mean dissim matrix.png\",matrix.mean,height=15,width=17)\n",
    "    "
   ]
  },
  {
   "cell_type": "markdown",
   "id": "ae3a8b0d-c9b9-47fe-9284-78fa279ddd82",
   "metadata": {},
   "source": [
    "Check for triangle inequality violations"
   ]
  },
  {
   "cell_type": "code",
   "execution_count": 28,
   "id": "5ecc5662-5b98-4cd0-8a1a-f418960f59c8",
   "metadata": {},
   "outputs": [],
   "source": [
    "# get rid of extraneous columns\n",
    "mean.mat.df <- subset(group.mean.mat.df, select = c(-color1, -color2))\n",
    "mean.mat <- data.matrix(mean.mat.df)\n"
   ]
  },
  {
   "cell_type": "code",
   "execution_count": 29,
   "id": "3c394812-66a6-464c-9ff9-aaca0799da81",
   "metadata": {},
   "outputs": [],
   "source": [
    "mean.mat[lower.tri(mean.mat, diag = FALSE)] <- NA\n",
    "#head(mean.mat)"
   ]
  },
  {
   "cell_type": "code",
   "execution_count": 30,
   "id": "44ec19c1-249a-4318-86c0-4a2fb1db4e6c",
   "metadata": {},
   "outputs": [],
   "source": [
    "# test for triangle inequality violation given three values\n",
    "tri.violate <- function(vals){\n",
    "        \n",
    "    vals <- sort(vals) # sort from smallest to largest dissimilarity\n",
    "    if(anyNA(vals)){\n",
    "        return(FALSE) # don't bother with NAs, e.g. in lower triangle of matrix\n",
    "    }\n",
    "    if(vals[3] > (vals[1] + vals[2])){ # I think this is all that's needed\n",
    "        return(TRUE)\n",
    "    } else if (vals[2] > vals[1] + vals[3]) { # don't think this is possible\n",
    "        return(TRUE)\n",
    "    } else if (vals[1] > vals[2] + vals[1]){ # don't think this is possible\n",
    "        return(TRUE)\n",
    "    }\n",
    "    else {\n",
    "        return(FALSE)\n",
    "    }\n",
    "}"
   ]
  },
  {
   "cell_type": "code",
   "execution_count": 31,
   "id": "d07558ce-e38b-4bd6-af59-b3a305fbcbf8",
   "metadata": {},
   "outputs": [],
   "source": [
    "# perform the test across all of a subject's judgments\n",
    "mat.tri.violate <- function(mat){\n",
    "    n.stim <- nrow(mat)\n",
    "    violations <- list()\n",
    "    i.violate = 1\n",
    "    for(i in 1:(n.stim-3)){\n",
    "        for(j in (i+1):(n.stim-2)){\n",
    "            k = 1\n",
    "            while(k < (n.stim-j+1)){\n",
    "                \n",
    "                #testing\n",
    "                #print(paste(\"i:\",i,\"j:\",j,\"k:\",k,\"k+j\",k+j))\n",
    "                \n",
    "                stimuli <- c(i,j,j+k)\n",
    "                d.ij <- mat[i,j]\n",
    "                d.jk <- mat[j,j+k]\n",
    "                d.ik <- mat[i,j+k]\n",
    "                vals <- c(d.ij, d.jk, d.ik)\n",
    "                if(tri.violate(vals)){\n",
    "                    violations[[i.violate]] <- stimuli\n",
    "                    i.violate <- i.violate+1\n",
    "                }\n",
    "                k <- k + 1\n",
    "            }\n",
    "        }\n",
    "    }\n",
    "    return(violations)\n",
    "}"
   ]
  },
  {
   "cell_type": "code",
   "execution_count": 32,
   "id": "0cc11a81-7584-46b8-b787-3ef02aadcec8",
   "metadata": {},
   "outputs": [],
   "source": [
    "score.tri.violate <- function(mat){\n",
    "    count <- length(mat.tri.violate(mat))\n",
    "    n.stim <- nrow(mat)\n",
    "    n.combo <- length(combinations(n.stim,3)) / 2 # is this right? Removing symmetry redundancy?\n",
    "    return(count/n.combo)\n",
    "}"
   ]
  },
  {
   "cell_type": "code",
   "execution_count": 33,
   "id": "606c697b-013b-4320-9211-63df95b6e5be",
   "metadata": {},
   "outputs": [
    {
     "data": {
      "text/html": [
       "0.00404317515116954"
      ],
      "text/latex": [
       "0.00404317515116954"
      ],
      "text/markdown": [
       "0.00404317515116954"
      ],
      "text/plain": [
       "[1] 0.004043175"
      ]
     },
     "metadata": {},
     "output_type": "display_data"
    }
   ],
   "source": [
    "score.tri.violate(mean.mat)"
   ]
  },
  {
   "cell_type": "markdown",
   "id": "d378f5ef-6530-42aa-bcfd-c2f36d1eaec0",
   "metadata": {},
   "source": [
    "Check normalised trace"
   ]
  },
  {
   "cell_type": "code",
   "execution_count": 34,
   "id": "3b4b667f-6f22-4134-83a9-7d6314b5fefb",
   "metadata": {},
   "outputs": [
    {
     "data": {
      "text/html": [
       "0.578947445354513"
      ],
      "text/latex": [
       "0.578947445354513"
      ],
      "text/markdown": [
       "0.578947445354513"
      ],
      "text/plain": [
       "[1] 0.5789474"
      ]
     },
     "metadata": {},
     "output_type": "display_data"
    }
   ],
   "source": [
    "group.norm.trace <- sum(diag(mean.mat))/nrow(mean.mat)\n",
    "group.norm.trace"
   ]
  },
  {
   "cell_type": "markdown",
   "id": "87c8a702-a54b-4a3a-bf2d-e842bbf2c5b5",
   "metadata": {},
   "source": [
    "##### Dissimilarity Distributions"
   ]
  },
  {
   "cell_type": "code",
   "execution_count": 95,
   "id": "88b22777-3585-4af5-aeae-7926e18f4b72",
   "metadata": {},
   "outputs": [
    {
     "name": "stderr",
     "output_type": "stream",
     "text": [
      "Warning message:\n",
      "\"Removed 2 rows containing missing values (geom_bar).\"\n"
     ]
    },
    {
     "data": {
      "image/png": "[encoded data removed]",
      "text/plain": [
       "plot without title"
      ]
     },
     "metadata": {
      "image/png": {
       "height": 420,
       "width": 420
      }
     },
     "output_type": "display_data"
    }
   ],
   "source": [
    "# distribution of dissimilarity values\n",
    "dissim.distr <- ggplot(group.mean.df, aes(x=mean)) + geom_histogram(binwidth=0.25) +\n",
    "                xlim(0,7) + xlab('Dissimilarity') + ggtitle('Group Mean') + scale_y_continuous(trans='log1p')\n",
    "dissim.distr"
   ]
  },
  {
   "cell_type": "code",
   "execution_count": 97,
   "id": "8115c3af-a297-4fe7-a181-ed6e7ba23d48",
   "metadata": {},
   "outputs": [
    {
     "name": "stderr",
     "output_type": "stream",
     "text": [
      "`stat_bin()` using `bins = 30`. Pick better value with `binwidth`.\n",
      "\n",
      "Warning message:\n",
      "\"Removed 111 rows containing non-finite values (stat_bin).\"\n",
      "Warning message:\n",
      "\"Removed 2 rows containing missing values (geom_bar).\"\n"
     ]
    },
    {
     "data": {
      "image/png": "[encoded data removed]",
      "text/plain": [
       "plot without title"
      ]
     },
     "metadata": {
      "image/png": {
       "height": 420,
       "width": 420
      }
     },
     "output_type": "display_data"
    }
   ],
   "source": [
    "log.dissim.distr <- ggplot(group.mean.df, aes(x=log(mean))) + geom_histogram() +\n",
    "                xlim(0,log(7)) + xlab('log(Dissimilarity)') + ggtitle('Group Mean') + scale_y_continuous(trans='log1p')\n",
    "log.dissim.distr"
   ]
  },
  {
   "cell_type": "markdown",
   "id": "73e585f0-c13b-43fb-896a-5ee27ae3441d",
   "metadata": {},
   "source": [
    "### Additional visualisations"
   ]
  },
  {
   "cell_type": "markdown",
   "id": "686ae2a6-3d56-406b-8ce4-d554f227c8cf",
   "metadata": {},
   "source": [
    "Data distribution of a beta distribution - can I visualise the data using MDS after putting the data through a beta distribution link function?"
   ]
  },
  {
   "cell_type": "code",
   "execution_count": 62,
   "id": "44cb0f63-ddbe-41e0-9c1f-62c872692c46",
   "metadata": {},
   "outputs": [],
   "source": [
    "# set up the MDS matrix\n",
    "data.dist <- dist(mean.mat, diag=TRUE)"
   ]
  },
  {
   "cell_type": "code",
   "execution_count": 92,
   "id": "d8aef882-b52f-47db-959e-9c12985b9cc4",
   "metadata": {},
   "outputs": [],
   "source": [
    "visualise3d <- function(dist,name){\n",
    "    \n",
    "    \n",
    "    dir.create(paste('animation/',name,'/',sep=''))\n",
    "    \n",
    "    mean.mds <- cmdscale(dist, k = 3, eig=TRUE)\n",
    "    # Create x, y, z refs\n",
    "    data.x <- mean.mds$points[,1]\n",
    "    data.y <- mean.mds$points[,2]\n",
    "    data.z <- mean.mds$points[,3]\n",
    "    # plot\n",
    "    colors <- colnames(mean.mat)\n",
    "\n",
    "    plot <- plot3d(data.x,data.y,data.z, col = colors, size = 10)\n",
    "\n",
    "    for(i in seq(0,350, by = 10)){ # make an animation\n",
    "        view3d(theta=i)\n",
    "        save.name <- paste('animation/',name,'/3dplot',str_pad(i,4,pad='0'),'.png',sep='')\n",
    "        snapshot3d(save.name, fmt = 'png',\n",
    "                width = 1000, height = 1000)\n",
    "    }\n",
    "}"
   ]
  },
  {
   "cell_type": "code",
   "execution_count": 78,
   "id": "83f518fb-e993-46bb-9752-63fd70937948",
   "metadata": {},
   "outputs": [
    {
     "data": {
      "image/png": "[encoded data removed]",
      "text/plain": [
       "plot without title"
      ]
     },
     "metadata": {
      "image/png": {
       "height": 420,
       "width": 420
      }
     },
     "output_type": "display_data"
    }
   ],
   "source": [
    "plot(mean.mds$eig, col = 'red', xlim=c(1,10), ylim = c(0,13000))"
   ]
  },
  {
   "cell_type": "code",
   "execution_count": 79,
   "id": "56c54ab2-805d-4246-bc2f-1bd8c4a8e85e",
   "metadata": {},
   "outputs": [
    {
     "data": {
      "text/html": [
       "<style>\n",
       ".list-inline {list-style: none; margin:0; padding: 0}\n",
       ".list-inline>li {display: inline-block}\n",
       ".list-inline>li:not(:last-child)::after {content: \"\\00b7\"; padding: 0 .5ex}\n",
       "</style>\n",
       "<ol class=list-inline><li>0.595391420841576</li><li>0.719438440492645</li></ol>\n"
      ],
      "text/latex": [
       "\\begin{enumerate*}\n",
       "\\item 0.595391420841576\n",
       "\\item 0.719438440492645\n",
       "\\end{enumerate*}\n"
      ],
      "text/markdown": [
       "1. 0.595391420841576\n",
       "2. 0.719438440492645\n",
       "\n",
       "\n"
      ],
      "text/plain": [
       "[1] 0.5953914 0.7194384"
      ]
     },
     "metadata": {},
     "output_type": "display_data"
    }
   ],
   "source": [
    "mean.mds$GOF"
   ]
  },
  {
   "cell_type": "code",
   "execution_count": 81,
   "id": "66af118f-5372-4a7a-99a6-6b071649f970",
   "metadata": {},
   "outputs": [],
   "source": [
    "log.mean.mds <- cmdscale(log(data.dist), k = 3, eig=TRUE)"
   ]
  },
  {
   "cell_type": "code",
   "execution_count": 82,
   "id": "dbc9403d-dd3e-4b00-a8e0-ab99eefb5782",
   "metadata": {},
   "outputs": [
    {
     "data": {
      "text/html": [
       "<style>\n",
       ".list-inline {list-style: none; margin:0; padding: 0}\n",
       ".list-inline>li {display: inline-block}\n",
       ".list-inline>li:not(:last-child)::after {content: \"\\00b7\"; padding: 0 .5ex}\n",
       "</style>\n",
       "<ol class=list-inline><li>0.394470934541281</li><li>0.395027350312623</li></ol>\n"
      ],
      "text/latex": [
       "\\begin{enumerate*}\n",
       "\\item 0.394470934541281\n",
       "\\item 0.395027350312623\n",
       "\\end{enumerate*}\n"
      ],
      "text/markdown": [
       "1. 0.394470934541281\n",
       "2. 0.395027350312623\n",
       "\n",
       "\n"
      ],
      "text/plain": [
       "[1] 0.3944709 0.3950274"
      ]
     },
     "metadata": {},
     "output_type": "display_data"
    }
   ],
   "source": [
    "log.mean.mds$GOF"
   ]
  },
  {
   "cell_type": "code",
   "execution_count": 84,
   "id": "e336b517-a616-424a-8194-c1c902ceeb21",
   "metadata": {},
   "outputs": [
    {
     "data": {
      "image/png": "[encoded data removed]",
      "text/plain": [
       "plot without title"
      ]
     },
     "metadata": {
      "image/png": {
       "height": 420,
       "width": 420
      }
     },
     "output_type": "display_data"
    }
   ],
   "source": [
    "plot(log.mean.mds$eig, col = 'red', xlim=c(1,10))"
   ]
  },
  {
   "cell_type": "code",
   "execution_count": 93,
   "id": "b2f8714c-d320-47f5-844c-5bf4f10f62ff",
   "metadata": {},
   "outputs": [
    {
     "name": "stderr",
     "output_type": "stream",
     "text": [
      "Warning message in dir.create(paste(\"animation/\", name, \"/\", sep = \"\")):\n",
      "\"'animation\\log mean' already exists\"\n"
     ]
    }
   ],
   "source": [
    "visualise3d(log(data.dist),'log mean')"
   ]
  },
  {
   "cell_type": "code",
   "execution_count": 96,
   "id": "b6260c75-c6e3-41d7-a66f-5ac54f48ea5b",
   "metadata": {},
   "outputs": [],
   "source": [
    "visualise3d((data.dist),'raw')"
   ]
  },
  {
   "cell_type": "code",
   "execution_count": null,
   "id": "af81f4bb-d092-4704-980f-1c54cd592d72",
   "metadata": {},
   "outputs": [],
   "source": []
  }
 ],
 "metadata": {
  "kernelspec": {
   "display_name": "R",
   "language": "R",
   "name": "ir"
  },
  "language_info": {
   "codemirror_mode": "r",
   "file_extension": ".r",
   "mimetype": "text/x-r-source",
   "name": "R",
   "pygments_lexer": "r",
   "version": "4.0.5"
  }
 },
 "nbformat": 4,
 "nbformat_minor": 5
}
