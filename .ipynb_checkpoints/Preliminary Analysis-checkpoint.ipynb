{
 "cells": [
  {
   "cell_type": "markdown",
   "id": "14351d42-33cb-48e3-83cf-ad64594309c7",
   "metadata": {},
   "source": [
    "## Preliminary Analysis of Dominik's 93 Colour Patch Comparison Data"
   ]
  },
  {
   "cell_type": "markdown",
   "id": "624bc122-04e9-4619-88ca-5a0003cfa479",
   "metadata": {},
   "source": [
    "2022-Jan-28  \n",
    "Ariel Zeleznikow-Johnston"
   ]
  },
  {
   "cell_type": "code",
   "execution_count": 292,
   "id": "df255c52-512d-4ea2-968f-c9e08791d980",
   "metadata": {},
   "outputs": [],
   "source": [
    "# hardcoded values\n",
    "n.compare = 320\n",
    "cor_threshold = 0.5\n",
    "n.stim = 93\n",
    "catch_threshold = 70"
   ]
  },
  {
   "cell_type": "code",
   "execution_count": 293,
   "id": "58743a36-c581-4198-b584-8916c6501142",
   "metadata": {},
   "outputs": [],
   "source": [
    "Sys.setenv(RGL_USE_NULL = TRUE)\n",
    "library(rgl)\n",
    "library(stringr)"
   ]
  },
  {
   "cell_type": "code",
   "execution_count": 294,
   "id": "abd5314e-e30a-408d-8665-b8e1c73b9749",
   "metadata": {
    "tags": []
   },
   "outputs": [
    {
     "name": "stderr",
     "output_type": "stream",
     "text": [
      "Skipping install of 'webshot2' from a github remote, the SHA1 (6cc8950c) has not changed since last install.\n",
      "  Use `force = TRUE` to force installation\n",
      "\n"
     ]
    }
   ],
   "source": [
    "library(remotes)\n",
    "remotes::install_github(\"rstudio/webshot2\")\n"
   ]
  },
  {
   "cell_type": "code",
   "execution_count": 4,
   "id": "42ff4941-47f0-4de0-9e76-e477e3b470f8",
   "metadata": {},
   "outputs": [],
   "source": [
    "library(rsample)"
   ]
  },
  {
   "cell_type": "code",
   "execution_count": 5,
   "id": "925aea7e-4bd2-42f9-815e-2c858aea8b6c",
   "metadata": {},
   "outputs": [],
   "source": [
    "library(webshot2)"
   ]
  },
  {
   "cell_type": "code",
   "execution_count": 6,
   "id": "3886692e-8ef9-4012-8353-f87f14043dad",
   "metadata": {},
   "outputs": [
    {
     "name": "stderr",
     "output_type": "stream",
     "text": [
      "-- \u001b[1mAttaching packages\u001b[22m ------------------------------------------------------------------------------- tidyverse 1.3.1 --\n",
      "\n",
      "\u001b[32mv\u001b[39m \u001b[34mggplot2\u001b[39m 3.3.5     \u001b[32mv\u001b[39m \u001b[34mpurrr  \u001b[39m 0.3.4\n",
      "\u001b[32mv\u001b[39m \u001b[34mtibble \u001b[39m 3.1.4     \u001b[32mv\u001b[39m \u001b[34mdplyr  \u001b[39m 1.0.7\n",
      "\u001b[32mv\u001b[39m \u001b[34mtidyr  \u001b[39m 1.1.3     \u001b[32mv\u001b[39m \u001b[34mforcats\u001b[39m 0.5.1\n",
      "\u001b[32mv\u001b[39m \u001b[34mreadr  \u001b[39m 2.0.2     \n",
      "\n",
      "-- \u001b[1mConflicts\u001b[22m ---------------------------------------------------------------------------------- tidyverse_conflicts() --\n",
      "\u001b[31mx\u001b[39m \u001b[34mdplyr\u001b[39m::\u001b[32mfilter()\u001b[39m masks \u001b[34mstats\u001b[39m::filter()\n",
      "\u001b[31mx\u001b[39m \u001b[34mdplyr\u001b[39m::\u001b[32mlag()\u001b[39m    masks \u001b[34mstats\u001b[39m::lag()\n",
      "\n"
     ]
    },
    {
     "name": "stdout",
     "output_type": "stream",
     "text": [
      "package 'ramify' successfully unpacked and MD5 sums checked\n",
      "\n",
      "The downloaded binary packages are in\n",
      "\tC:\\Users\\zelez\\AppData\\Local\\Temp\\RtmpKSosfw\\downloaded_packages\n",
      "package 'reshape2' successfully unpacked and MD5 sums checked\n",
      "\n",
      "The downloaded binary packages are in\n",
      "\tC:\\Users\\zelez\\AppData\\Local\\Temp\\RtmpKSosfw\\downloaded_packages\n"
     ]
    },
    {
     "name": "stderr",
     "output_type": "stream",
     "text": [
      "Loading required package: viridisLite\n",
      "\n",
      "\n",
      "Attaching package: 'MASS'\n",
      "\n",
      "\n",
      "The following object is masked from 'package:dplyr':\n",
      "\n",
      "    select\n",
      "\n",
      "\n"
     ]
    },
    {
     "name": "stdout",
     "output_type": "stream",
     "text": [
      "package 'hrbrthemes' successfully unpacked and MD5 sums checked\n",
      "\n",
      "The downloaded binary packages are in\n",
      "\tC:\\Users\\zelez\\AppData\\Local\\Temp\\RtmpKSosfw\\downloaded_packages\n"
     ]
    },
    {
     "name": "stderr",
     "output_type": "stream",
     "text": [
      "\n",
      "Attaching package: 'scales'\n",
      "\n",
      "\n",
      "The following object is masked from 'package:viridis':\n",
      "\n",
      "    viridis_pal\n",
      "\n",
      "\n",
      "The following object is masked from 'package:purrr':\n",
      "\n",
      "    discard\n",
      "\n",
      "\n",
      "The following object is masked from 'package:readr':\n",
      "\n",
      "    col_factor\n",
      "\n",
      "\n"
     ]
    },
    {
     "name": "stdout",
     "output_type": "stream",
     "text": [
      "package 'pglm' successfully unpacked and MD5 sums checked\n",
      "\n",
      "The downloaded binary packages are in\n",
      "\tC:\\Users\\zelez\\AppData\\Local\\Temp\\RtmpKSosfw\\downloaded_packages\n"
     ]
    },
    {
     "name": "stderr",
     "output_type": "stream",
     "text": [
      "\n",
      "Attaching package: 'gtools'\n",
      "\n",
      "\n",
      "The following object is masked from 'package:rsample':\n",
      "\n",
      "    permutations\n",
      "\n",
      "\n"
     ]
    }
   ],
   "source": [
    "library(tidyverse)\n",
    "install.packages(\"ramify\")\n",
    "library(dplyr)\n",
    "library(ggplot2)\n",
    "install.packages(\"reshape2\")\n",
    "library(viridis)\n",
    "library(MASS)\n",
    "install.packages(\"hrbrthemes\")\n",
    "library(scales)\n",
    "library(broom)\n",
    "install.packages(\"pglm\")\n",
    "library(gtools)"
   ]
  },
  {
   "cell_type": "markdown",
   "id": "20915d66-e17f-4db4-81ee-5c27470352b1",
   "metadata": {},
   "source": [
    "### Loading Data"
   ]
  },
  {
   "cell_type": "code",
   "execution_count": 7,
   "id": "50cdb806-c4d8-4b01-a92b-5f94329e5d0e",
   "metadata": {},
   "outputs": [],
   "source": [
    "# matching regex of any amount of characters then followed by .csv\n",
    "files <- list.files(path=\"./data\", pattern=\"*.csv\", full.names=TRUE)\n",
    "filesizes <- file.size(files)\n",
    "\n",
    "# individual participant files use a unique ID to mark which colour pairs they saw\n",
    "truthColourTableColumnNames <- c(\"r1\", \"g1\", \"b1\", \"r2\", \"g2\", \"b2\")\n",
    "truthColourTable <- read.csv(\"./colourcodes/colourcodes.csv\", header=F)\n",
    "names(truthColourTable) <- truthColourTableColumnNames\n",
    "\n",
    "# not sure what the point of this is...?\n",
    "files <- files[-(which(filesizes < 4))]\n",
    "\n",
    "pilotdata <- sapply(files, read.csv, simplify=FALSE) %>% bind_rows(.id = \"fileId\")"
   ]
  },
  {
   "cell_type": "code",
   "execution_count": 8,
   "id": "c92f6abf-55c1-4710-b525-db2ce4aa00cc",
   "metadata": {},
   "outputs": [],
   "source": [
    "# changing realcomparison from zero-indexed to one-indexed\n",
    "\n",
    "participantsIDFrame <- data.frame(unique(pilotdata$participant))\n",
    "\n",
    "pilotdata <- pilotdata %>% arrange(\"participant\")"
   ]
  },
  {
   "cell_type": "code",
   "execution_count": 9,
   "id": "6be27c56-b064-425f-9e60-554576da3a5c",
   "metadata": {},
   "outputs": [],
   "source": [
    "# variables of interest from collected data\n",
    "trial_vars<- c( \"participant\", \"practice_comparison\", \"pracsimilarity\", \"realcomparison\", \"similarity\", \"response_time\", \"trials_2.thisN\") \n",
    "catch_vars<- c(\"participant\", \"catch_response_time\", \"catchnumberprac\", \"catchpracsimilarity\", \"catchnumber\", \"catchsimilarity\", \"catchRT\", \"catchtrialorder\")\n",
    "trialdata <- (pilotdata %>% filter(!is.na(realcomparison)))[trial_vars] # no catch trials\n",
    "catchdata <- (pilotdata %>% filter(!is.na(catchnumber)))[catch_vars] # no main trials\n",
    "trialdata = rename(trialdata, dissimilarity = similarity)\n",
    "\n",
    "trialdata$realcomparison <- trialdata$realcomparison + 1 # fixing the indexing?\n",
    "\n",
    "rgb2hex <- function(r, g, b) {rgb(r, g, b, maxColorValue = 255)}"
   ]
  },
  {
   "cell_type": "code",
   "execution_count": 142,
   "id": "48ed3f9d-489b-47f3-b826-85206e6da5a2",
   "metadata": {},
   "outputs": [],
   "source": [
    "# getting the colour pair comparison information\n",
    "\n",
    "# compartmentalising the two dots presented to participants\n",
    "firstColourSet <- truthColourTable[,truthColourTableColumnNames[1:3]]\n",
    "secondColourSet <- truthColourTable[,truthColourTableColumnNames[4:6]]\n",
    "\n",
    "names(firstColourSet) <- names(secondColourSet) <- c(\"r\", \"g\", \"b\")\n",
    "\n",
    "#conversion of 3 RGB columns in both colour tables to HEX for easier manipulation\n",
    "firstColourSetHEX <- apply(firstColourSet, 1, function (x) rgb2hex(x[1], x[2], x[3]))\n",
    "secondColourSetHEX <- apply(secondColourSet, 1, function (x) rgb2hex(x[1], x[2], x[3]))\n",
    "                            \n",
    "#conversion of 3 RGB columns in both colour tables to HEX for easier manipulation\n",
    "firstColourSetHEX <- apply(firstColourSet, 1, function (x) rgb2hex(x[1], x[2], x[3]))\n",
    "secondColourSetHEX <- apply(secondColourSet, 1, function (x) rgb2hex(x[1], x[2], x[3]))\n",
    "\n",
    "# colourSetHEX is used as a reference throughout the rest of the analysis for the colour pair comparisons     \n",
    "colourSetHEX <- data.frame(firstColour = firstColourSetHEX, secondColour = secondColourSetHEX)\n"
   ]
  },
  {
   "cell_type": "markdown",
   "id": "81e8f595-ca83-420d-9ab7-0dd85e30600f",
   "metadata": {},
   "source": [
    "### Cleaning Data"
   ]
  },
  {
   "cell_type": "markdown",
   "id": "81b40a80-1e23-4d74-b1a2-d2ef62f9f141",
   "metadata": {},
   "source": [
    "##### Catch Trials"
   ]
  },
  {
   "cell_type": "code",
   "execution_count": 11,
   "id": "bc41d0f8-f561-42a8-9e1f-2bc310ce9d3b",
   "metadata": {},
   "outputs": [],
   "source": [
    "# catch trial scoring\n",
    "#hist(catchdataParticipant$accuracy)\n"
   ]
  },
  {
   "cell_type": "code",
   "execution_count": 12,
   "id": "20abf6df-13e7-4ef9-b7c2-44b12426e6bd",
   "metadata": {},
   "outputs": [],
   "source": [
    "# assess whether participants passed\n",
    "catch.assess <- function(catchdata){\n",
    "    catchdata <- catchdata %>% mutate(is_valid_catch_response = if_else(catchnumber == catchsimilarity, 1, 0), is_invalid_catch_response = if_else(catchnumber != catchsimilarity, 1, 0))\n",
    "    catchdataParticipant <- catchdata %>% group_by(participant) %>% \n",
    "      summarise(correct_responses=sum(is_valid_catch_response), incorrect_responses = sum(is_invalid_catch_response))\n",
    "\n",
    "    catchdataParticipant$total <- catchdataParticipant$correct_responses + catchdataParticipant$incorrect_responses\n",
    "    catchdataParticipant$accuracy <- (catchdataParticipant$correct_responses/catchdataParticipant$total) * 100\n",
    "    return(catchdataParticipant)\n",
    "}\n",
    "\n",
    "# remove participants who scored below a certain threshold\n",
    "catch.remove <- function(catchdata, trialdata, threshold){\n",
    "    catch.participant <- catch.assess(catchdata)\n",
    "    passed <- subset(catch.participant, accuracy >= threshold)$participant\n",
    "    clean <- subset(trialdata, trialdata$participant %in% passed)\n",
    "    return(clean)\n",
    "}\n"
   ]
  },
  {
   "cell_type": "code",
   "execution_count": 13,
   "id": "4db0363e-c4e6-49f7-88a1-04a0cc69f279",
   "metadata": {},
   "outputs": [],
   "source": [
    "# clean the trial data\n",
    "clean.data <- catch.remove(catchdata,trialdata,catch_threshold) # using 80% threshold"
   ]
  },
  {
   "cell_type": "markdown",
   "id": "68ec94b4-fa08-424b-a2a6-4876fcf213af",
   "metadata": {},
   "source": [
    "##### Within-subject double pass consistency"
   ]
  },
  {
   "cell_type": "code",
   "execution_count": 14,
   "id": "1baa7082-6406-48db-a5ba-728284d0f9fc",
   "metadata": {},
   "outputs": [],
   "source": [
    "# each participant should have completed 320 trials\n",
    "count.remove <- function(data, threshold){\n",
    "    count <- data %>% count(participant)\n",
    "    passed <- subset(count, n == threshold)$participant\n",
    "    clean <- subset(data, participant %in% passed)\n",
    "    return(clean)\n",
    "}\n",
    "\n",
    "clean.data <- count.remove(clean.data,n.compare)"
   ]
  },
  {
   "cell_type": "markdown",
   "id": "798acd1b-8f4c-4f94-a8d9-e55f80981893",
   "metadata": {},
   "source": [
    "##### Within-subject double pass consistency"
   ]
  },
  {
   "cell_type": "code",
   "execution_count": 15,
   "id": "c3a30604-f773-409a-8078-116e4d3533a6",
   "metadata": {},
   "outputs": [
    {
     "name": "stderr",
     "output_type": "stream",
     "text": [
      "Warning message in cor(v1, v2):\n",
      "\"the standard deviation is zero\"\n",
      "Something went wrong with correlations for participant: 60fdee1f5bb38a56c58631bc\n",
      "\n"
     ]
    }
   ],
   "source": [
    "double.pass.check <- function(data){\n",
    "    v1 <- data$dissimilarity[1:(n.compare/2)]\n",
    "    v2 <- data$dissimilarity[(n.compare/2+1):n.compare]\n",
    "    return(cor(v1,v2))\n",
    "}\n",
    "\n",
    "pass.remove <- function(data, threshold=cor_threshold){\n",
    "    IDs <- unique(data$participant)\n",
    "    passed <- vector()\n",
    "    for(id in IDs){\n",
    "        tryCatch(\n",
    "            {\n",
    "                if(double.pass.check(subset(data, participant == id)) >= threshold){\n",
    "                    passed <- c(passed,id)\n",
    "                }\n",
    "            },\n",
    "            error=function(cond){\n",
    "                message(paste(\"Something went wrong with correlations for participant:\",id))\n",
    "            }\n",
    "        )\n",
    "        \n",
    "    }\n",
    "    clean <- subset(data, participant %in% passed)\n",
    "    return(clean)\n",
    "}\n",
    "\n",
    "clean.data <- pass.remove(clean.data)"
   ]
  },
  {
   "cell_type": "markdown",
   "id": "f61c300b-ad30-4fb3-9556-f9dbe87528d9",
   "metadata": {},
   "source": [
    "### Descriptive plots & statistics"
   ]
  },
  {
   "cell_type": "markdown",
   "id": "4802ca6f-42f9-426f-a18c-7ea0c92f9214",
   "metadata": {},
   "source": [
    "##### Matrix Visualisations"
   ]
  },
  {
   "cell_type": "markdown",
   "id": "89845cda-1b75-4b48-ba6a-40ae56ca3d77",
   "metadata": {},
   "source": [
    "Setting up the matrix"
   ]
  },
  {
   "cell_type": "code",
   "execution_count": 16,
   "id": "44ec34a3-f78e-4c89-a993-8772bad3fbe4",
   "metadata": {},
   "outputs": [],
   "source": [
    "# read in the colour comparison truth table\n",
    "colourSetHEX <- data.frame(firstColour = firstColourSetHEX, secondColour = secondColourSetHEX)\n",
    "\n",
    "rowsTotalSetHEX <- rbind(data.frame(colour = firstColourSetHEX), data.frame(colour = secondColourSetHEX)) %>% group_by_all %>% count\n",
    "\n",
    "# preliminary check that the data has been read in correctly\n",
    "countOfUniqueRowsFirstSet <- length(unique(firstColourSetHEX))\n",
    "countOfUniqueRowsSecondSet <- length(unique(secondColourSetHEX))\n",
    "countOfUniqueRowsTotalSet <- length(rowsTotalSetHEX$colour)"
   ]
  },
  {
   "cell_type": "code",
   "execution_count": 17,
   "id": "8e08265d-03c3-4bfa-b782-2ae1247aed97",
   "metadata": {},
   "outputs": [],
   "source": [
    "# set lower triangle of matrix to NA - this gives heatmap its unique upper triangle\n",
    "upperTriangularMatrix <- upper.tri(matrix(1, ncol = countOfUniqueRowsTotalSet, nrow = countOfUniqueRowsTotalSet), \n",
    "                              diag = FALSE)\n",
    "upperTriangularMatrix[upperTriangularMatrix == 1] <- NA\n",
    "color.mat.df <- data.frame(upperTriangularMatrix)\n",
    "color.mat <- upperTriangularMatrix\n",
    "\n",
    "#head(uniqueColourCountDF)"
   ]
  },
  {
   "cell_type": "code",
   "execution_count": 18,
   "id": "4e3177d4-a01e-4bfe-bf63-b1c6228d16ed",
   "metadata": {},
   "outputs": [],
   "source": [
    "# setting all give colours as both row and column names\n",
    "colnames(color.mat.df) <- rownames(color.mat.df) <- rowsTotalSetHEX$colour\n",
    "colnames(color.mat) <- rownames(color.mat) <- rowsTotalSetHEX$colour"
   ]
  },
  {
   "cell_type": "markdown",
   "id": "97a3462e-aded-4bea-85c7-727dae4cba72",
   "metadata": {},
   "source": [
    "Matrix plot of group mean for each comparison"
   ]
  },
  {
   "cell_type": "code",
   "execution_count": 19,
   "id": "0a7c9901-9661-420f-8988-0547750eb670",
   "metadata": {},
   "outputs": [],
   "source": [
    "# get mean dissimilarity for each colour comparison\n",
    "group.mean <- clean.data %>% \n",
    "                group_by(realcomparison) %>% \n",
    "                summarise(across(dissimilarity, mean, na.rm = TRUE))"
   ]
  },
  {
   "cell_type": "code",
   "execution_count": 20,
   "id": "85417eb6-8668-4c3c-8b81-a01f49b41e2a",
   "metadata": {},
   "outputs": [],
   "source": [
    "# create a mean dissimilarity dataframe using realcomparison indexing\n",
    "group.avg.df <- function(data, colors.df){\n",
    "    means.df <- data %>%\n",
    "                group_by(realcomparison) %>%\n",
    "                summarise(across(dissimilarity, mean, na.rm = TRUE))\n",
    "    # sorting \n",
    "    means.df$realcomparison <- as.numeric(means.df$realcomparison)\n",
    "    means.df <- means.df[order(means.df$realcomparison),]\n",
    "    colors.df$value <- means.df$dissimilarity\n",
    "    return(colors.df)\n",
    "}"
   ]
  },
  {
   "cell_type": "code",
   "execution_count": 21,
   "id": "61b34a06-593a-4412-9489-737f8f15f911",
   "metadata": {},
   "outputs": [],
   "source": [
    "gp.mean.data <- colourSetHEX\n",
    "gp.mean.data$value <- group.mean$dissimilarity"
   ]
  },
  {
   "cell_type": "code",
   "execution_count": 22,
   "id": "541c6f05-a75b-414f-aa9b-3b50ffceea85",
   "metadata": {},
   "outputs": [],
   "source": [
    "#head(gp.mean.data)"
   ]
  },
  {
   "cell_type": "code",
   "execution_count": 23,
   "id": "ada27eb7-4a1d-4093-889b-ee102ef31f25",
   "metadata": {},
   "outputs": [],
   "source": [
    "# fill matrix\n",
    "matrix.df.fill <- function(data,matrix.df){\n",
    "    for(i in 1:nrow(data)){\n",
    "        #print(i)\n",
    "        row <- data[i,]\n",
    "        #print(matrix.df[row$firstColour,row$secondColour])\n",
    "        matrix.df[row$firstColour,row$secondColour] <- row$value\n",
    "        matrix.df[row$secondColour,row$firstColour] <- row$value # symmetric\n",
    "        #print(matrix.df[row$firstColour,row$secondColour])\n",
    "    }\n",
    "    return(matrix.df)\n",
    "}"
   ]
  },
  {
   "cell_type": "code",
   "execution_count": 24,
   "id": "29bd41eb-69af-4dd8-9939-2b04ab049b6b",
   "metadata": {},
   "outputs": [],
   "source": [
    "group.mean.mat.df <- matrix.df.fill(gp.mean.data,color.mat.df)\n"
   ]
  },
  {
   "cell_type": "code",
   "execution_count": 25,
   "id": "7d2686ca-488a-499e-9931-77e373ade13b",
   "metadata": {},
   "outputs": [],
   "source": [
    "# for visualisation purposes, make a column value indicating correlation with first row\n",
    "row.cor <- function(df){\n",
    "    v.cor <- vector()\n",
    "    for(i in 1:nrow(df)){\n",
    "        v.cor <- c(v.cor, cor(df[1],df[i]))\n",
    "    }    \n",
    "    return(v.cor)\n",
    "}\n",
    "\n",
    "row.factors <- function(colors, correlations){\n",
    "    colors$cor <- correlations\n",
    "    ordered <- colors[order(-colors$cor),]\n",
    "    return(ordered$colour)\n",
    "}\n",
    "\n",
    "row.facs <- row.factors(rowsTotalSetHEX,row.cor(group.mean.mat.df))"
   ]
  },
  {
   "cell_type": "code",
   "execution_count": 26,
   "id": "0657c1b9-bcc5-4560-9792-0be8ca7be64f",
   "metadata": {},
   "outputs": [],
   "source": [
    "group.mean.mat.df$color1 <- rowsTotalSetHEX$colour\n",
    "group.mean.mat.df$color2 <- rowsTotalSetHEX$colour"
   ]
  },
  {
   "cell_type": "code",
   "execution_count": 27,
   "id": "af939607-d9f0-42cf-8a3b-ccbad0501b09",
   "metadata": {},
   "outputs": [],
   "source": [
    "#head(group.mean.mat.df)"
   ]
  },
  {
   "cell_type": "code",
   "execution_count": 28,
   "id": "7c9fdcd1-7883-4de3-8295-b82d437154c7",
   "metadata": {},
   "outputs": [],
   "source": [
    "group.mean.df <- gather(group.mean.mat.df, color1, mean,\n",
    "                        rowsTotalSetHEX$colour[1]:rowsTotalSetHEX$colour[nrow(rowsTotalSetHEX)],\n",
    "                       factor_key=TRUE)"
   ]
  },
  {
   "cell_type": "code",
   "execution_count": 29,
   "id": "443cdd29-9849-4bc4-ba1f-01516535080b",
   "metadata": {},
   "outputs": [],
   "source": [
    "group.mean.df$color1 <- with(group.mean.df, factor(color1, levels = row.facs))\n",
    "group.mean.df$color2 <- with(group.mean.df, factor(color2, levels = row.facs))"
   ]
  },
  {
   "cell_type": "code",
   "execution_count": 30,
   "id": "75f284f1-0a89-48da-a825-330b191094c1",
   "metadata": {},
   "outputs": [
    {
     "name": "stderr",
     "output_type": "stream",
     "text": [
      "Warning message:\n",
      "\"Vectorized input to `element_text()` is not officially supported.\n",
      "Results may be unexpected or may change in future versions of ggplot2.\"\n",
      "Warning message:\n",
      "\"Vectorized input to `element_text()` is not officially supported.\n",
      "Results may be unexpected or may change in future versions of ggplot2.\"\n"
     ]
    }
   ],
   "source": [
    "# plot the matrix\n",
    "matrix.mean <- ggplot(group.mean.df, aes(x = color1, y = color2, fill = log(mean+1))) + geom_raster() + ggtitle('log(dissimilarity+1)') +\n",
    "    theme(axis.text.x = element_text(colour=row.facs, angle=90),\n",
    "         axis.text.y = element_text(colour=row.facs)) +\n",
    "    scale_fill_gradientn(colours = c(\"white\",\"black\"),\n",
    "                        limits = c(0,log(7+1)),\n",
    "                        breaks=c(0,1,2,3,4,5,6,7))\n",
    "ggsave(\"log mean dissim matrix.png\",matrix.mean,height=15,width=17)\n",
    "    "
   ]
  },
  {
   "cell_type": "markdown",
   "id": "ae3a8b0d-c9b9-47fe-9284-78fa279ddd82",
   "metadata": {},
   "source": [
    "Check for triangle inequality violations"
   ]
  },
  {
   "cell_type": "code",
   "execution_count": 268,
   "id": "f83d7a78-f091-4431-9aa9-2cc1a89e20ca",
   "metadata": {},
   "outputs": [
    {
     "data": {
      "text/html": [
       "<table class=\"dataframe\">\n",
       "<caption>A data.frame: 6 × 95</caption>\n",
       "<thead>\n",
       "\t<tr><th></th><th scope=col>#010300</th><th scope=col>#022C88</th><th scope=col>#02529A</th><th scope=col>#032040</th><th scope=col>#03406F</th><th scope=col>#034E49</th><th scope=col>#086E79</th><th scope=col>#09384C</th><th scope=col>#0A3B38</th><th scope=col>#0C4FA2</th><th scope=col>⋯</th><th scope=col>#F6F7F1</th><th scope=col>#FAAF99</th><th scope=col>#FAC88D</th><th scope=col>#FB702E</th><th scope=col>#FBA628</th><th scope=col>#FBEC77</th><th scope=col>#FCDD2A</th><th scope=col>#FF8F00</th><th scope=col>color1</th><th scope=col>color2</th></tr>\n",
       "\t<tr><th></th><th scope=col>&lt;dbl&gt;</th><th scope=col>&lt;dbl&gt;</th><th scope=col>&lt;dbl&gt;</th><th scope=col>&lt;dbl&gt;</th><th scope=col>&lt;dbl&gt;</th><th scope=col>&lt;dbl&gt;</th><th scope=col>&lt;dbl&gt;</th><th scope=col>&lt;dbl&gt;</th><th scope=col>&lt;dbl&gt;</th><th scope=col>&lt;dbl&gt;</th><th scope=col>⋯</th><th scope=col>&lt;dbl&gt;</th><th scope=col>&lt;dbl&gt;</th><th scope=col>&lt;dbl&gt;</th><th scope=col>&lt;dbl&gt;</th><th scope=col>&lt;dbl&gt;</th><th scope=col>&lt;dbl&gt;</th><th scope=col>&lt;dbl&gt;</th><th scope=col>&lt;dbl&gt;</th><th scope=col>&lt;chr&gt;</th><th scope=col>&lt;chr&gt;</th></tr>\n",
       "</thead>\n",
       "<tbody>\n",
       "\t<tr><th scope=row>#010300</th><td>0.000000</td><td>5.1818182</td><td>5.9000000</td><td>3.8214286</td><td>5.1666667</td><td>4.733333</td><td>5.117647</td><td>3.7500000</td><td>4.029412</td><td>5.350000</td><td>⋯</td><td>6.500000</td><td>6.605263</td><td>6.333333</td><td>6.833333</td><td>6.675000</td><td>6.500000</td><td>5.733333</td><td>6.619048</td><td>#010300</td><td>#010300</td></tr>\n",
       "\t<tr><th scope=row>#022C88</th><td>5.181818</td><td>0.1956522</td><td>1.1578947</td><td>2.5833333</td><td>0.9375000</td><td>3.181818</td><td>2.500000</td><td>2.5625000</td><td>4.923077</td><td>1.600000</td><td>⋯</td><td>6.233333</td><td>5.800000</td><td>6.000000</td><td>6.545455</td><td>6.000000</td><td>5.928571</td><td>5.657895</td><td>6.088235</td><td>#022C88</td><td>#022C88</td></tr>\n",
       "\t<tr><th scope=row>#02529A</th><td>5.900000</td><td>1.1578947</td><td>0.7352941</td><td>2.9210526</td><td>1.5714286</td><td>3.541667</td><td>2.075000</td><td>2.9444444</td><td>3.250000</td><td>0.500000</td><td>⋯</td><td>6.035714</td><td>5.472222</td><td>6.142857</td><td>6.092593</td><td>6.538462</td><td>6.038462</td><td>6.666667</td><td>5.631579</td><td>#02529A</td><td>#02529A</td></tr>\n",
       "\t<tr><th scope=row>#032040</th><td>3.821429</td><td>2.5833333</td><td>2.9210526</td><td>0.8076923</td><td>1.7692308</td><td>3.472222</td><td>2.875000</td><td>0.8333333</td><td>2.200000</td><td>3.157895</td><td>⋯</td><td>6.136364</td><td>6.352941</td><td>6.033333</td><td>6.229167</td><td>6.025000</td><td>6.058824</td><td>6.041667</td><td>6.263158</td><td>#032040</td><td>#032040</td></tr>\n",
       "\t<tr><th scope=row>#03406F</th><td>5.166667</td><td>0.9375000</td><td>1.5714286</td><td>1.7692308</td><td>0.7941176</td><td>3.277778</td><td>2.846154</td><td>1.4500000</td><td>3.136364</td><td>1.781250</td><td>⋯</td><td>6.000000</td><td>5.788462</td><td>6.357143</td><td>6.208333</td><td>6.200000</td><td>5.961538</td><td>5.625000</td><td>6.000000</td><td>#03406F</td><td>#03406F</td></tr>\n",
       "\t<tr><th scope=row>#034E49</th><td>4.733333</td><td>3.1818182</td><td>3.5416667</td><td>3.4722222</td><td>3.2777778</td><td>1.045455</td><td>2.115385</td><td>2.1250000</td><td>0.800000</td><td>2.900000</td><td>⋯</td><td>6.342105</td><td>6.406250</td><td>5.307692</td><td>5.750000</td><td>5.970588</td><td>5.785714</td><td>5.625000</td><td>6.343750</td><td>#034E49</td><td>#034E49</td></tr>\n",
       "</tbody>\n",
       "</table>\n"
      ],
      "text/latex": [
       "A data.frame: 6 × 95\n",
       "\\begin{tabular}{r|lllllllllllllllllllll}\n",
       "  & \\#010300 & \\#022C88 & \\#02529A & \\#032040 & \\#03406F & \\#034E49 & \\#086E79 & \\#09384C & \\#0A3B38 & \\#0C4FA2 & ⋯ & \\#F6F7F1 & \\#FAAF99 & \\#FAC88D & \\#FB702E & \\#FBA628 & \\#FBEC77 & \\#FCDD2A & \\#FF8F00 & color1 & color2\\\\\n",
       "  & <dbl> & <dbl> & <dbl> & <dbl> & <dbl> & <dbl> & <dbl> & <dbl> & <dbl> & <dbl> & ⋯ & <dbl> & <dbl> & <dbl> & <dbl> & <dbl> & <dbl> & <dbl> & <dbl> & <chr> & <chr>\\\\\n",
       "\\hline\n",
       "\t\\#010300 & 0.000000 & 5.1818182 & 5.9000000 & 3.8214286 & 5.1666667 & 4.733333 & 5.117647 & 3.7500000 & 4.029412 & 5.350000 & ⋯ & 6.500000 & 6.605263 & 6.333333 & 6.833333 & 6.675000 & 6.500000 & 5.733333 & 6.619048 & \\#010300 & \\#010300\\\\\n",
       "\t\\#022C88 & 5.181818 & 0.1956522 & 1.1578947 & 2.5833333 & 0.9375000 & 3.181818 & 2.500000 & 2.5625000 & 4.923077 & 1.600000 & ⋯ & 6.233333 & 5.800000 & 6.000000 & 6.545455 & 6.000000 & 5.928571 & 5.657895 & 6.088235 & \\#022C88 & \\#022C88\\\\\n",
       "\t\\#02529A & 5.900000 & 1.1578947 & 0.7352941 & 2.9210526 & 1.5714286 & 3.541667 & 2.075000 & 2.9444444 & 3.250000 & 0.500000 & ⋯ & 6.035714 & 5.472222 & 6.142857 & 6.092593 & 6.538462 & 6.038462 & 6.666667 & 5.631579 & \\#02529A & \\#02529A\\\\\n",
       "\t\\#032040 & 3.821429 & 2.5833333 & 2.9210526 & 0.8076923 & 1.7692308 & 3.472222 & 2.875000 & 0.8333333 & 2.200000 & 3.157895 & ⋯ & 6.136364 & 6.352941 & 6.033333 & 6.229167 & 6.025000 & 6.058824 & 6.041667 & 6.263158 & \\#032040 & \\#032040\\\\\n",
       "\t\\#03406F & 5.166667 & 0.9375000 & 1.5714286 & 1.7692308 & 0.7941176 & 3.277778 & 2.846154 & 1.4500000 & 3.136364 & 1.781250 & ⋯ & 6.000000 & 5.788462 & 6.357143 & 6.208333 & 6.200000 & 5.961538 & 5.625000 & 6.000000 & \\#03406F & \\#03406F\\\\\n",
       "\t\\#034E49 & 4.733333 & 3.1818182 & 3.5416667 & 3.4722222 & 3.2777778 & 1.045455 & 2.115385 & 2.1250000 & 0.800000 & 2.900000 & ⋯ & 6.342105 & 6.406250 & 5.307692 & 5.750000 & 5.970588 & 5.785714 & 5.625000 & 6.343750 & \\#034E49 & \\#034E49\\\\\n",
       "\\end{tabular}\n"
      ],
      "text/markdown": [
       "\n",
       "A data.frame: 6 × 95\n",
       "\n",
       "| <!--/--> | #010300 &lt;dbl&gt; | #022C88 &lt;dbl&gt; | #02529A &lt;dbl&gt; | #032040 &lt;dbl&gt; | #03406F &lt;dbl&gt; | #034E49 &lt;dbl&gt; | #086E79 &lt;dbl&gt; | #09384C &lt;dbl&gt; | #0A3B38 &lt;dbl&gt; | #0C4FA2 &lt;dbl&gt; | ⋯ ⋯ | #F6F7F1 &lt;dbl&gt; | #FAAF99 &lt;dbl&gt; | #FAC88D &lt;dbl&gt; | #FB702E &lt;dbl&gt; | #FBA628 &lt;dbl&gt; | #FBEC77 &lt;dbl&gt; | #FCDD2A &lt;dbl&gt; | #FF8F00 &lt;dbl&gt; | color1 &lt;chr&gt; | color2 &lt;chr&gt; |\n",
       "|---|---|---|---|---|---|---|---|---|---|---|---|---|---|---|---|---|---|---|---|---|---|\n",
       "| #010300 | 0.000000 | 5.1818182 | 5.9000000 | 3.8214286 | 5.1666667 | 4.733333 | 5.117647 | 3.7500000 | 4.029412 | 5.350000 | ⋯ | 6.500000 | 6.605263 | 6.333333 | 6.833333 | 6.675000 | 6.500000 | 5.733333 | 6.619048 | #010300 | #010300 |\n",
       "| #022C88 | 5.181818 | 0.1956522 | 1.1578947 | 2.5833333 | 0.9375000 | 3.181818 | 2.500000 | 2.5625000 | 4.923077 | 1.600000 | ⋯ | 6.233333 | 5.800000 | 6.000000 | 6.545455 | 6.000000 | 5.928571 | 5.657895 | 6.088235 | #022C88 | #022C88 |\n",
       "| #02529A | 5.900000 | 1.1578947 | 0.7352941 | 2.9210526 | 1.5714286 | 3.541667 | 2.075000 | 2.9444444 | 3.250000 | 0.500000 | ⋯ | 6.035714 | 5.472222 | 6.142857 | 6.092593 | 6.538462 | 6.038462 | 6.666667 | 5.631579 | #02529A | #02529A |\n",
       "| #032040 | 3.821429 | 2.5833333 | 2.9210526 | 0.8076923 | 1.7692308 | 3.472222 | 2.875000 | 0.8333333 | 2.200000 | 3.157895 | ⋯ | 6.136364 | 6.352941 | 6.033333 | 6.229167 | 6.025000 | 6.058824 | 6.041667 | 6.263158 | #032040 | #032040 |\n",
       "| #03406F | 5.166667 | 0.9375000 | 1.5714286 | 1.7692308 | 0.7941176 | 3.277778 | 2.846154 | 1.4500000 | 3.136364 | 1.781250 | ⋯ | 6.000000 | 5.788462 | 6.357143 | 6.208333 | 6.200000 | 5.961538 | 5.625000 | 6.000000 | #03406F | #03406F |\n",
       "| #034E49 | 4.733333 | 3.1818182 | 3.5416667 | 3.4722222 | 3.2777778 | 1.045455 | 2.115385 | 2.1250000 | 0.800000 | 2.900000 | ⋯ | 6.342105 | 6.406250 | 5.307692 | 5.750000 | 5.970588 | 5.785714 | 5.625000 | 6.343750 | #034E49 | #034E49 |\n",
       "\n"
      ],
      "text/plain": [
       "        #010300  #022C88   #02529A   #032040   #03406F   #034E49  #086E79 \n",
       "#010300 0.000000 5.1818182 5.9000000 3.8214286 5.1666667 4.733333 5.117647\n",
       "#022C88 5.181818 0.1956522 1.1578947 2.5833333 0.9375000 3.181818 2.500000\n",
       "#02529A 5.900000 1.1578947 0.7352941 2.9210526 1.5714286 3.541667 2.075000\n",
       "#032040 3.821429 2.5833333 2.9210526 0.8076923 1.7692308 3.472222 2.875000\n",
       "#03406F 5.166667 0.9375000 1.5714286 1.7692308 0.7941176 3.277778 2.846154\n",
       "#034E49 4.733333 3.1818182 3.5416667 3.4722222 3.2777778 1.045455 2.115385\n",
       "        #09384C   #0A3B38  #0C4FA2  <U+22EF>        #F6F7F1  #FAAF99  #FAC88D \n",
       "#010300 3.7500000 4.029412 5.350000 <U+22EF> 6.500000 6.605263 6.333333\n",
       "#022C88 2.5625000 4.923077 1.600000 <U+22EF> 6.233333 5.800000 6.000000\n",
       "#02529A 2.9444444 3.250000 0.500000 <U+22EF> 6.035714 5.472222 6.142857\n",
       "#032040 0.8333333 2.200000 3.157895 <U+22EF> 6.136364 6.352941 6.033333\n",
       "#03406F 1.4500000 3.136364 1.781250 <U+22EF> 6.000000 5.788462 6.357143\n",
       "#034E49 2.1250000 0.800000 2.900000 <U+22EF> 6.342105 6.406250 5.307692\n",
       "        #FB702E  #FBA628  #FBEC77  #FCDD2A  #FF8F00  color1  color2 \n",
       "#010300 6.833333 6.675000 6.500000 5.733333 6.619048 #010300 #010300\n",
       "#022C88 6.545455 6.000000 5.928571 5.657895 6.088235 #022C88 #022C88\n",
       "#02529A 6.092593 6.538462 6.038462 6.666667 5.631579 #02529A #02529A\n",
       "#032040 6.229167 6.025000 6.058824 6.041667 6.263158 #032040 #032040\n",
       "#03406F 6.208333 6.200000 5.961538 5.625000 6.000000 #03406F #03406F\n",
       "#034E49 5.750000 5.970588 5.785714 5.625000 6.343750 #034E49 #034E49"
      ]
     },
     "metadata": {},
     "output_type": "display_data"
    }
   ],
   "source": [
    "head(group.mean.mat.df)"
   ]
  },
  {
   "cell_type": "code",
   "execution_count": 31,
   "id": "5ecc5662-5b98-4cd0-8a1a-f418960f59c8",
   "metadata": {},
   "outputs": [],
   "source": [
    "# get rid of extraneous columns\n",
    "mean.mat.df <- subset(group.mean.mat.df, select = c(-color1, -color2))\n",
    "mean.mat <- data.matrix(mean.mat.df)\n"
   ]
  },
  {
   "cell_type": "code",
   "execution_count": 32,
   "id": "3c394812-66a6-464c-9ff9-aaca0799da81",
   "metadata": {},
   "outputs": [],
   "source": [
    "mean.mat[lower.tri(mean.mat, diag = FALSE)] <- NA\n",
    "#head(mean.mat)"
   ]
  },
  {
   "cell_type": "code",
   "execution_count": 33,
   "id": "44ec19c1-249a-4318-86c0-4a2fb1db4e6c",
   "metadata": {},
   "outputs": [],
   "source": [
    "# test for triangle inequality violation given three values\n",
    "tri.violate <- function(vals){\n",
    "        \n",
    "    vals <- sort(vals) # sort from smallest to largest dissimilarity\n",
    "    if(anyNA(vals)){\n",
    "        return(FALSE) # don't bother with NAs, e.g. in lower triangle of matrix\n",
    "    }\n",
    "    if(vals[3] > (vals[1] + vals[2])){ # I think this is all that's needed\n",
    "        return(TRUE)\n",
    "    } else if (vals[2] > vals[1] + vals[3]) { # don't think this is possible\n",
    "        return(TRUE)\n",
    "    } else if (vals[1] > vals[2] + vals[1]){ # don't think this is possible\n",
    "        return(TRUE)\n",
    "    }\n",
    "    else {\n",
    "        return(FALSE)\n",
    "    }\n",
    "}"
   ]
  },
  {
   "cell_type": "code",
   "execution_count": 34,
   "id": "d07558ce-e38b-4bd6-af59-b3a305fbcbf8",
   "metadata": {},
   "outputs": [],
   "source": [
    "# perform the test across all of a subject's judgments\n",
    "mat.tri.violate <- function(mat){\n",
    "    n.stim <- nrow(mat)\n",
    "    violations <- list()\n",
    "    i.violate = 1\n",
    "    for(i in 1:(n.stim-3)){\n",
    "        for(j in (i+1):(n.stim-2)){\n",
    "            k = 1\n",
    "            while(k < (n.stim-j+1)){\n",
    "                \n",
    "                #testing\n",
    "                #print(paste(\"i:\",i,\"j:\",j,\"k:\",k,\"k+j\",k+j))\n",
    "                \n",
    "                stimuli <- c(i,j,j+k)\n",
    "                d.ij <- mat[i,j]\n",
    "                d.jk <- mat[j,j+k]\n",
    "                d.ik <- mat[i,j+k]\n",
    "                vals <- c(d.ij, d.jk, d.ik)\n",
    "                if(tri.violate(vals)){\n",
    "                    violations[[i.violate]] <- stimuli\n",
    "                    i.violate <- i.violate+1\n",
    "                }\n",
    "                k <- k + 1\n",
    "            }\n",
    "        }\n",
    "    }\n",
    "    return(violations)\n",
    "}"
   ]
  },
  {
   "cell_type": "code",
   "execution_count": 35,
   "id": "0cc11a81-7584-46b8-b787-3ef02aadcec8",
   "metadata": {},
   "outputs": [],
   "source": [
    "score.tri.violate <- function(mat){\n",
    "    count <- length(mat.tri.violate(mat))\n",
    "    n.stim <- nrow(mat)\n",
    "    n.combo <- length(combinations(n.stim,3)) / 2 # is this right? Removing symmetry redundancy?\n",
    "    return(count/n.combo)\n",
    "}"
   ]
  },
  {
   "cell_type": "code",
   "execution_count": null,
   "id": "606c697b-013b-4320-9211-63df95b6e5be",
   "metadata": {},
   "outputs": [],
   "source": [
    "score.tri.violate(mean.mat)"
   ]
  },
  {
   "cell_type": "markdown",
   "id": "d378f5ef-6530-42aa-bcfd-c2f36d1eaec0",
   "metadata": {},
   "source": [
    "Check normalised trace"
   ]
  },
  {
   "cell_type": "code",
   "execution_count": null,
   "id": "3b4b667f-6f22-4134-83a9-7d6314b5fefb",
   "metadata": {},
   "outputs": [],
   "source": [
    "group.norm.trace <- sum(diag(mean.mat))/nrow(mean.mat)\n",
    "group.norm.trace"
   ]
  },
  {
   "cell_type": "markdown",
   "id": "87c8a702-a54b-4a3a-bf2d-e842bbf2c5b5",
   "metadata": {},
   "source": [
    "##### Dissimilarity Distributions"
   ]
  },
  {
   "cell_type": "code",
   "execution_count": null,
   "id": "88b22777-3585-4af5-aeae-7926e18f4b72",
   "metadata": {},
   "outputs": [],
   "source": [
    "# distribution of dissimilarity values\n",
    "dissim.distr <- ggplot(group.mean.df, aes(x=mean)) + geom_histogram(binwidth=0.25) +\n",
    "                xlim(0,7) + xlab('Dissimilarity') + ggtitle('Group Mean') + scale_y_continuous(trans='log1p')\n",
    "dissim.distr"
   ]
  },
  {
   "cell_type": "code",
   "execution_count": null,
   "id": "8115c3af-a297-4fe7-a181-ed6e7ba23d48",
   "metadata": {},
   "outputs": [],
   "source": [
    "log.dissim.distr <- ggplot(group.mean.df, aes(x=log(mean))) + geom_histogram() +\n",
    "                xlim(0,log(7)) + xlab('log(Dissimilarity)') + ggtitle('Group Mean') + scale_y_continuous(trans='log1p')\n",
    "log.dissim.distr"
   ]
  },
  {
   "cell_type": "markdown",
   "id": "73e585f0-c13b-43fb-896a-5ee27ae3441d",
   "metadata": {},
   "source": [
    "### Additional visualisations"
   ]
  },
  {
   "cell_type": "markdown",
   "id": "686ae2a6-3d56-406b-8ce4-d554f227c8cf",
   "metadata": {},
   "source": [
    "Data distribution of a beta distribution - can I visualise the data using MDS after putting the data through a beta distribution link function?"
   ]
  },
  {
   "cell_type": "code",
   "execution_count": 265,
   "id": "44cb0f63-ddbe-41e0-9c1f-62c872692c46",
   "metadata": {},
   "outputs": [],
   "source": [
    "# set up the MDS matrix\n",
    "data2dist <- function(mat){\n",
    "    return(as.dist(t(mat), diag=TRUE))\n",
    "}\n",
    "\n",
    "data.dist <- data2dist(mean.mat)"
   ]
  },
  {
   "cell_type": "code",
   "execution_count": 298,
   "id": "d8aef882-b52f-47db-959e-9c12985b9cc4",
   "metadata": {},
   "outputs": [],
   "source": [
    "visualise3d <- function(dist,name,classical=TRUE,diagnose=FALSE){\n",
    "    \n",
    "    \n",
    "    dir.create(name)\n",
    "    if(classical){\n",
    "        mean.mds <- cmdscale(dist, k = 3, eig=TRUE)\n",
    "    } else {\n",
    "        name <- paste(name,'non-metric',sep='_')\n",
    "        mean.mds <- isoMDS(dist, k = 3, eig=TRUE, maxit=100)\n",
    "    }\n",
    "    \n",
    "    # Create x, y, z refs\n",
    "    data.x <- mean.mds$points[,1]\n",
    "    data.y <- mean.mds$points[,2]\n",
    "    data.z <- mean.mds$points[,3]\n",
    "    # plot\n",
    "    colors <- colnames(mean.mat)\n",
    "\n",
    "    plot <- plot3d(data.x,data.y,data.z, col = colors, size = 10)\n",
    "\n",
    "    dir.create(paste(name,'/animation/',sep=''))\n",
    "\n",
    "    by = 10\n",
    "    if(diagnose){\n",
    "        by=120\n",
    "    }\n",
    "        \n",
    "    for(i in seq(0,350, by)){ # make an animation\n",
    "        view3d(theta=i)\n",
    "        save.name <- paste(name,'/animation/',str_pad(i,4,pad='0'),'.png',sep='')\n",
    "        snapshot3d(save.name, fmt = 'png',\n",
    "                width = 1000, height = 1000)\n",
    "    }\n",
    "}\n",
    "\n",
    "# ImageMagick code to turn it into a .gif\n",
    "#magick -delay 40 *.png -loop 0 movie.gif"
   ]
  },
  {
   "cell_type": "code",
   "execution_count": 85,
   "id": "83f518fb-e993-46bb-9752-63fd70937948",
   "metadata": {},
   "outputs": [
    {
     "ename": "ERROR",
     "evalue": "Error in plot(mean.mds$eig, col = \"red\", xlim = c(1, 10), ylim = c(0, : object 'mean.mds' not found\n",
     "output_type": "error",
     "traceback": [
      "Error in plot(mean.mds$eig, col = \"red\", xlim = c(1, 10), ylim = c(0, : object 'mean.mds' not found\nTraceback:\n",
      "1. plot(mean.mds$eig, col = \"red\", xlim = c(1, 10), ylim = c(0, \n .     13000))"
     ]
    }
   ],
   "source": [
    "plot(mean.mds$eig, col = 'red', xlim=c(1,10), ylim = c(0,13000))"
   ]
  },
  {
   "cell_type": "code",
   "execution_count": 86,
   "id": "56c54ab2-805d-4246-bc2f-1bd8c4a8e85e",
   "metadata": {},
   "outputs": [
    {
     "ename": "ERROR",
     "evalue": "Error in eval(expr, envir, enclos): object 'mean.mds' not found\n",
     "output_type": "error",
     "traceback": [
      "Error in eval(expr, envir, enclos): object 'mean.mds' not found\nTraceback:\n"
     ]
    }
   ],
   "source": [
    "mean.mds$GOF"
   ]
  },
  {
   "cell_type": "code",
   "execution_count": 130,
   "id": "c49d196e-e482-4141-880c-615a5431d969",
   "metadata": {},
   "outputs": [
    {
     "data": {
      "image/png": "[encoded data removed]",
      "text/plain": [
       "plot without title"
      ]
     },
     "metadata": {
      "image/png": {
       "height": 420,
       "width": 420
      }
     },
     "output_type": "display_data"
    }
   ],
   "source": [
    "mean.mds <- cmdscale(data.dist, k = 3, eig=TRUE)\n",
    "plot(mean.mds$eig, col = 'red', xlim=c(1,10))"
   ]
  },
  {
   "cell_type": "code",
   "execution_count": 131,
   "id": "66af118f-5372-4a7a-99a6-6b071649f970",
   "metadata": {},
   "outputs": [],
   "source": [
    "log.mean.mds <- cmdscale(log(data.dist+1), k = 3, eig=TRUE)"
   ]
  },
  {
   "cell_type": "code",
   "execution_count": 132,
   "id": "e336b517-a616-424a-8194-c1c902ceeb21",
   "metadata": {},
   "outputs": [
    {
     "data": {
      "image/png": "[encoded data removed]",
      "text/plain": [
       "plot without title"
      ]
     },
     "metadata": {
      "image/png": {
       "height": 420,
       "width": 420
      }
     },
     "output_type": "display_data"
    }
   ],
   "source": [
    "plot(log.mean.mds$eig, col = 'red', xlim=c(1,10))"
   ]
  },
  {
   "cell_type": "code",
   "execution_count": 110,
   "id": "b2f8714c-d320-47f5-844c-5bf4f10f62ff",
   "metadata": {},
   "outputs": [],
   "source": [
    "visualise3d(log(data.dist),'log mean')"
   ]
  },
  {
   "cell_type": "code",
   "execution_count": 109,
   "id": "b6260c75-c6e3-41d7-a66f-5ac54f48ea5b",
   "metadata": {},
   "outputs": [],
   "source": [
    "visualise3d((data.dist),'raw fixed')"
   ]
  },
  {
   "cell_type": "code",
   "execution_count": null,
   "id": "af81f4bb-d092-4704-980f-1c54cd592d72",
   "metadata": {},
   "outputs": [],
   "source": [
    "visualise3d((data.dist),'raw', classical=FALSE)"
   ]
  },
  {
   "cell_type": "code",
   "execution_count": null,
   "id": "2201b8fb-934d-415b-bc4b-f32a2f0a5f66",
   "metadata": {},
   "outputs": [],
   "source": []
  },
  {
   "cell_type": "code",
   "execution_count": 136,
   "id": "5ef1009e-206c-4952-8f39-ea5329526d2a",
   "metadata": {},
   "outputs": [
    {
     "data": {
      "image/png": "[encoded data removed]",
      "text/plain": [
       "plot without title"
      ]
     },
     "metadata": {
      "image/png": {
       "height": 420,
       "width": 420
      }
     },
     "output_type": "display_data"
    }
   ],
   "source": [
    "Probability <- c(0,0.45,0.55,0,0) \n",
    "plot(Probability, col = 'blue', ylim=c(0,1), type = 'l')"
   ]
  },
  {
   "cell_type": "markdown",
   "id": "9c0864c2-c456-4605-9049-ec2527fa402c",
   "metadata": {},
   "source": [
    "### Model Prediction Accuracy Tests Through Cross-Validation"
   ]
  },
  {
   "cell_type": "markdown",
   "id": "3a77b2d7-9428-4afe-8dd8-bcceb2ab3929",
   "metadata": {},
   "source": [
    "Ok, the plan is:  \n",
    "1. Divide aggregate colour comparisons data into ~10 sets, producing 10 full dissimilarity matrices but with only 10% of the judgments per entry  \n",
    "2. Derive MDS solution for 9 of the sets  \n",
    "3. Use 9 sets to calculate expected dissimilarity between colours (expected dissimilarity matrix)  \n",
    "4. Calculate SSE between constructed matrix and holdout set  \n",
    "5. Compare raw data vs. log data by normalising total variance of reserved set  \n"
   ]
  },
  {
   "cell_type": "code",
   "execution_count": 258,
   "id": "94821ade-627d-429c-ad9f-25c6481cede6",
   "metadata": {},
   "outputs": [],
   "source": [
    "# split the data into 10 sets\n",
    "split.data <- function(data, n_split,method='data'){\n",
    "    data$realcomparison <- as.character(data$realcomparison)\n",
    "    output <- list()\n",
    "    data$ID <- seq.int(nrow(data))\n",
    "    if(method=='data'){\n",
    "        for(i in 1:n_split){\n",
    "        \n",
    "            out <- data %>%\n",
    "                group_by(realcomparison) %>%\n",
    "                sample_frac(1/n_split,replace=FALSE) # select fraction of data\n",
    "            \n",
    "            data[!(data$ID %in% out$ID),] # remove selected data from original data\n",
    "            out <- subset(out, select = -c(ID)) # remove ID column\n",
    "            #print(head(out)) # testing\n",
    "            output[[i]] <- out # add to output list\n",
    "        }\n",
    "        \n",
    "    }   else if (method=='participant'){\n",
    "            # this works algorithmically, but is not useful\n",
    "            # random participant splitting means that some comparisons are not\n",
    "            # sampled for any number of groups greater than 2, which is useless\n",
    "            # I'll need to write a cleverer algorithm for this\n",
    "            output <- initial_split(data, \n",
    "                                 prop=1-1/n_split)   \n",
    "    }\n",
    "    \n",
    "    return(output)\n",
    "}"
   ]
  },
  {
   "cell_type": "code",
   "execution_count": 37,
   "id": "25f72153-902f-4516-b9a5-11a40b82607f",
   "metadata": {},
   "outputs": [],
   "source": [
    "#shuffled_data= clean.data[sample(1:nrow(clean.data)), ]\n",
    "\n",
    "#temp.grouped  <- shuffled_data %>%\n",
    " # group_by(participant,realcomparison) %>%\n",
    "  #mutate(isTrainingSet = (row_number() <= 0.1 * n())) %>%\n",
    "  #ungroup()\n",
    "\n",
    "#firstHalf <- filter(temp.grouped , isTrainingSet)\n",
    "#secondHalf <- filter(temp.grouped , !isTrainingSet)"
   ]
  },
  {
   "cell_type": "code",
   "execution_count": 38,
   "id": "1dfca03d-51af-409f-a36d-34df6a88e0bd",
   "metadata": {},
   "outputs": [],
   "source": [
    "#nrow(firstHalf)\n",
    "#print(length(unique(firstHalf$realcomparison)))\n",
    "#print(length(unique(clean.data$realcomparison)))"
   ]
  },
  {
   "cell_type": "code",
   "execution_count": 39,
   "id": "4ea31e56-b25e-492f-9ad6-ac9837e4eb43",
   "metadata": {},
   "outputs": [],
   "source": [
    "#temp <- clean.data\n",
    "#temp$realcomparison <- as.character(temp$realcomparison)\n",
    "#splitObj <- initial_split(temp,\n",
    " #                        prop = 0.25,\n",
    "  #                       strata=realcomparison)\n",
    "#nrow(clean.data)\n",
    "#print(length(unique(clean.data$realcomparison)))\n",
    "#train <- training(splitObj)\n",
    "#nrow(train)\n",
    "#print(length(unique(train$realcomparison)))"
   ]
  },
  {
   "cell_type": "code",
   "execution_count": 40,
   "id": "cb29b19b-6d0a-4744-a6e2-64105d16324c",
   "metadata": {},
   "outputs": [],
   "source": [
    "#clean.split.participant <- split.data(clean.data, 10, method='participant')"
   ]
  },
  {
   "cell_type": "code",
   "execution_count": 41,
   "id": "263cdb10-797e-4bf9-955d-044ee12a76f2",
   "metadata": {},
   "outputs": [],
   "source": [
    "clean.split.data <- split.data(clean.data, 10, method='data')\n"
   ]
  },
  {
   "cell_type": "code",
   "execution_count": 42,
   "id": "e7d0b021-f2ec-4d54-aa0c-e7e39dad327b",
   "metadata": {},
   "outputs": [],
   "source": [
    "mean.matrix.list <- function(split.list){\n",
    "    n <- length(split.list)\n",
    "    output <- list()\n",
    "    \n",
    "    for(i in 1:n){\n",
    "        mean.df <- group.avg.df(split.list[[i]], colourSetHEX)\n",
    "        mean.mat <- matrix.df.fill(mean.df, color.mat.df)\n",
    "        output[[i]] <- mean.mat\n",
    "    }\n",
    "    return(output)\n",
    "}"
   ]
  },
  {
   "cell_type": "code",
   "execution_count": 43,
   "id": "162ff4f1-566c-486c-b3b9-f0f5eb0ba0ea",
   "metadata": {},
   "outputs": [],
   "source": [
    "split.mats.data <- mean.matrix.list(clean.split.data)\n"
   ]
  },
  {
   "cell_type": "code",
   "execution_count": 44,
   "id": "fbb50457-1d93-426c-a7b7-804b75566948",
   "metadata": {},
   "outputs": [
    {
     "name": "stdout",
     "output_type": "stream",
     "text": [
      "[1] 4371\n",
      "[1] 4371\n",
      "[1] 4371\n",
      "[1] 4371\n",
      "[1] 4371\n",
      "[1] 4371\n",
      "[1] 4371\n",
      "[1] 4371\n",
      "[1] 4371\n",
      "[1] 4371\n"
     ]
    }
   ],
   "source": [
    "for(i in 1:length(clean.split.data)){\n",
    "    print(length(unique(clean.split.data[[i]]$realcomparison)))\n",
    "}"
   ]
  },
  {
   "cell_type": "code",
   "execution_count": 45,
   "id": "37f2e819-de5b-48dd-b55e-0a84c775192f",
   "metadata": {},
   "outputs": [
    {
     "ename": "ERROR",
     "evalue": "Error in eval(expr, envir, enclos): object 'clean.split.participant' not found\n",
     "output_type": "error",
     "traceback": [
      "Error in eval(expr, envir, enclos): object 'clean.split.participant' not found\nTraceback:\n"
     ]
    }
   ],
   "source": [
    "for(i in 1:length(clean.split.participant)){\n",
    "    print(length(unique(clean.split.participant[[i]]$realcomparison)))\n",
    "}"
   ]
  },
  {
   "cell_type": "code",
   "execution_count": null,
   "id": "daa46ac2-f703-4802-bf6d-615aed38f61d",
   "metadata": {},
   "outputs": [],
   "source": [
    "#split.mats.participant <- mean.matrix.list(clean.split.participant)"
   ]
  },
  {
   "cell_type": "code",
   "execution_count": 191,
   "id": "08a543ba-9b56-4d84-a8f7-627226cfc033",
   "metadata": {},
   "outputs": [],
   "source": [
    "# plot a matrix\n",
    "mean.matrix.plot <- function(df,name,log=FALSE,symmetry=TRUE,skip.mean=FALSE){\n",
    "    if(skip.mean){\n",
    "        mean.df <- df\n",
    "    } else{\n",
    "        mean.df <- group.avg.df(df, colourSetHEX)\n",
    "    }\n",
    "    #print(log)\n",
    "    #print(head(mean.df))\n",
    "    #row.facs <- row.factors(rowsTotalSetHEX,row.cor(mean.df))\n",
    "    #mean.df$color1 <- rowsTotalSetHEX$colour\n",
    "    #mean.df$color2 <- rowsTotalSetHEX$colour\n",
    "    mean.df$color1 <- with(mean.df, factor(firstColour, levels = row.facs))\n",
    "    mean.df$color2 <- with(mean.df, factor(secondColour, levels = row.facs))\n",
    "    \n",
    "    if(symmetry){\n",
    "        sym.data <- mean.df\n",
    "        sym.data$C1 <- mean.df$color1\n",
    "        sym.data$C2 <- mean.df$color2\n",
    "        sym.data$color1 <- sym.data$C2\n",
    "        sym.data$color2 <- sym.data$C1\n",
    "        sym.data <- subset(sym.data, select = -c(C1, C2))\n",
    "        #print(colnames(mean.df))\n",
    "        #print(colnames(sym.data))\n",
    "        mean.df <- rbind(mean.df,sym.data)\n",
    "    }\n",
    "    \n",
    "    if(log){\n",
    "        name <- paste(name,'_log_',sep='')\n",
    "        plot <- ggplot(mean.df, aes(x = color1, y = color2, fill = log(value+1))) + \n",
    "        geom_raster() + ggtitle('log(dissimilarity+1)') +\n",
    "        theme(axis.text.x = element_text(colour=row.facs, angle=90),\n",
    "             axis.text.y = element_text(colour=row.facs)) +\n",
    "        scale_fill_gradientn(colours = c(\"white\",\"black\"),\n",
    "                        limits = c(0,log(7+1)),\n",
    "                        breaks=c(0,1,2,3,4,5,6,7))\n",
    "    } else {\n",
    "        plot <- ggplot(mean.df, aes(x = color1, y = color2, fill = value)) + \n",
    "        geom_raster() + ggtitle('dissimilarity') +\n",
    "        theme(axis.text.x = element_text(colour=row.facs, angle=90),\n",
    "             axis.text.y = element_text(colour=row.facs)) +\n",
    "        scale_fill_gradientn(colours = c(\"white\",\"black\"),\n",
    "                        limits = c(0,7),\n",
    "                        breaks=c(0,1,2,3,4,5,6,7))\n",
    "    }\n",
    "    name <- paste(name,'.png',sep='')\n",
    "    ggsave(name,plot,height=15,width=17)\n",
    "}"
   ]
  },
  {
   "cell_type": "code",
   "execution_count": 47,
   "id": "b17fd7a1-e890-4ce1-89cc-760bc7cb0160",
   "metadata": {},
   "outputs": [],
   "source": [
    "# plot a set of matrices in a folder\n",
    "plot.set.mat <- function(mat.list,name,log=FALSE){\n",
    "    name <- paste('mat_set/',name,'/',sep='')\n",
    "    dir.create(name)\n",
    "    for(i in 1:length(mat.list)){\n",
    "        mat_name <- paste(name,i,sep='')\n",
    "        mean.matrix.plot(mat.list[[i]],mat_name,log=log)\n",
    "    }\n",
    "}"
   ]
  },
  {
   "cell_type": "code",
   "execution_count": 48,
   "id": "877b5a3e-818b-4bc1-b819-5ec48c150ddf",
   "metadata": {},
   "outputs": [],
   "source": [
    "#plot.set.mat(clean.split,'CV log',log=TRUE)\n",
    "#plot.set.mat(clean.split.participant)"
   ]
  },
  {
   "cell_type": "code",
   "execution_count": 49,
   "id": "b319cdcd-972b-4f44-a67c-1d8483f32fac",
   "metadata": {},
   "outputs": [],
   "source": [
    "# convert a similarity judgment dataframe to a distance matrix for MDS\n",
    "dist.create <- function(data){\n",
    "        #print(head(data))\n",
    "        mean.data.temp <- group.avg.df(data,colourSetHEX)\n",
    "        dist.temp <- matrix.df.fill(mean.data.temp,color.mat.df)\n",
    "        #print(head(dist.temp))\n",
    "        #dist.temp$color1 <- rowsTotalSetHEX$colour\n",
    "        #dist.temp$color2 <- rowsTotalSetHEX$colour\n",
    "        #return(dist.temp)\n",
    "        dist.mat.temp <- as.dist(t(dist.temp), diag=TRUE)\n",
    "        #print(head(dist.mat))\n",
    "        return(dist.mat.temp)\n",
    "}"
   ]
  },
  {
   "cell_type": "code",
   "execution_count": 50,
   "id": "9cfb16e7-d2ac-4f85-9905-402d8d2c565a",
   "metadata": {},
   "outputs": [],
   "source": [
    "# make a set of 3D visualisations\n",
    "plot.set.3D <- function(data.list, name, log=FALSE,quick=TRUE){\n",
    "    folder.str <- 'CV 3D sets/'\n",
    "    dir.create(folder.str)\n",
    "    if(log){\n",
    "        name <- paste(name,'_log',sep='')\n",
    "    }\n",
    "    dir.create(paste(folder.str,name,sep=''))\n",
    "    \n",
    "    for(i in 1:length(data.list)){\n",
    "        subfolder.str <- paste(folder.str,name,'/',i,sep='')\n",
    "        dir.create(subfolder.str)\n",
    "        \n",
    "        dist.mat <- dist.create(data.list[[i]])\n",
    "        \n",
    "        print(subfolder.str)\n",
    "        if(log){\n",
    "            visualise3d(log(dist.mat+1),subfolder.str,diagnose=quick)\n",
    "        } else {\n",
    "            visualise3d(dist.mat,subfolder.str,diagnose=quick)\n",
    "        }\n",
    "    }\n",
    "}"
   ]
  },
  {
   "cell_type": "code",
   "execution_count": 69,
   "id": "30be8a75-b16a-4e29-9737-d8a1bd72e197",
   "metadata": {},
   "outputs": [],
   "source": [
    "# put everything together, do a certain number of splits\n",
    "cv.visual <- function(data,n_split,name,log=FALSE,quick=TRUE){\n",
    "    data.temp <- split.data(data, n_split,method='data')\n",
    "    name <- paste(name,'_n_split_',n_split,sep='')\n",
    "    plot.set.3D(data.temp,name,log=log,quick=quick)\n",
    "    plot.set.mat(data.temp,name,log=log)\n",
    "}"
   ]
  },
  {
   "cell_type": "code",
   "execution_count": 303,
   "id": "193660a1-6969-47b6-8a29-b302db09989f",
   "metadata": {},
   "outputs": [
    {
     "name": "stderr",
     "output_type": "stream",
     "text": [
      "Warning message in dir.create(folder.str):\n",
      "\"'CV 3D sets' already exists\"\n",
      "Warning message in dir.create(paste(folder.str, name, sep = \"\")):\n",
      "\"'CV 3D sets\\raw_n_split_2' already exists\"\n",
      "Warning message in dir.create(subfolder.str):\n",
      "\"'CV 3D sets\\raw_n_split_2\\1' already exists\"\n"
     ]
    },
    {
     "name": "stdout",
     "output_type": "stream",
     "text": [
      "[1] \"CV 3D sets/raw_n_split_2/1\"\n"
     ]
    },
    {
     "name": "stderr",
     "output_type": "stream",
     "text": [
      "Warning message in dir.create(name):\n",
      "\"'CV 3D sets\\raw_n_split_2\\1' already exists\"\n",
      "Warning message in dir.create(paste(name, \"/animation/\", sep = \"\")):\n",
      "\"'CV 3D sets\\raw_n_split_2\\1\\animation' already exists\"\n"
     ]
    },
    {
     "ename": "ERROR",
     "evalue": "Error in s$close(): attempt to apply non-function\n",
     "output_type": "error",
     "traceback": [
      "Error in s$close(): attempt to apply non-function\nTraceback:\n",
      "1. cv.visual(clean.data, 2, \"raw\", quick = FALSE)",
      "2. plot.set.3D(data.temp, name, log = log, quick = quick)   # at line 5 of file <text>",
      "3. visualise3d(dist.mat, subfolder.str, diagnose = quick)   # at line 20 of file <text>",
      "4. snapshot3d(save.name, fmt = \"png\", width = 1000, height = 1000)   # at line 31-32 of file <text>",
      "5. capture.output(webshot2::webshot(f1, file = filename, selector = \"#webshot\", \n .     vwidth = width + 100, vheight = height, ...), type = \"message\")",
      "6. evalVis(expr)",
      "7. withVisible(eval(expr, pf))",
      "8. eval(expr, pf)",
      "9. eval(expr, pf)",
      "10. webshot2::webshot(f1, file = filename, selector = \"#webshot\", \n  .     vwidth = width + 100, vheight = height, ...)",
      "11. cm$wait_for(p)",
      "12. synchronize(p, loop = private$child_loop)",
      "13. with_promise_domain(domain, {\n  .     tryCatch({\n  .         result <- force(expr)\n  .         if (is.promising(result)) {\n  .             value <- NULL\n  .             type <- NULL\n  .             result$then(function(val) {\n  .                 value <<- val\n  .                 type <<- \"success\"\n  .             })$catch(function(reason) {\n  .                 value <<- reason\n  .                 type <<- \"error\"\n  .             })\n  .             while (is.null(type) && !domain$interrupted) {\n  .                 run_now(loop = loop)\n  .             }\n  .             if (is.null(type)) {\n  .                 generateInterrupt()\n  .             }\n  .             else if (type == \"success\") {\n  .                 value\n  .             }\n  .             else if (type == \"error\") {\n  .                 stop(value)\n  .             }\n  .         }\n  .     }, interrupt = function(e) {\n  .         domain$interrupted <<- TRUE\n  .         message(\"Attempting to interrupt gracefully; press Esc/Ctrl+C to force interrupt\")\n  .         while (!loop_empty(loop = loop)) {\n  .             run_now(loop = loop)\n  .         }\n  .         generateInterrupt()\n  .     })\n  . })",
      "14. domain$wrapSync(expr)",
      "15. force(expr)",
      "16. tryCatch({\n  .     result <- force(expr)\n  .     if (is.promising(result)) {\n  .         value <- NULL\n  .         type <- NULL\n  .         result$then(function(val) {\n  .             value <<- val\n  .             type <<- \"success\"\n  .         })$catch(function(reason) {\n  .             value <<- reason\n  .             type <<- \"error\"\n  .         })\n  .         while (is.null(type) && !domain$interrupted) {\n  .             run_now(loop = loop)\n  .         }\n  .         if (is.null(type)) {\n  .             generateInterrupt()\n  .         }\n  .         else if (type == \"success\") {\n  .             value\n  .         }\n  .         else if (type == \"error\") {\n  .             stop(value)\n  .         }\n  .     }\n  . }, interrupt = function(e) {\n  .     domain$interrupted <<- TRUE\n  .     message(\"Attempting to interrupt gracefully; press Esc/Ctrl+C to force interrupt\")\n  .     while (!loop_empty(loop = loop)) {\n  .         run_now(loop = loop)\n  .     }\n  .     generateInterrupt()\n  . })",
      "17. tryCatchList(expr, classes, parentenv, handlers)",
      "18. tryCatchOne(expr, names, parentenv, handlers[[1L]])",
      "19. doTryCatch(return(expr), name, parentenv, handler)"
     ]
    }
   ],
   "source": [
    "cv.visual(clean.data,2,'raw',quick=FALSE)\n",
    "#cv.visual(clean.data,1,'log',log=TRUE,quick=FALSE)"
   ]
  },
  {
   "cell_type": "code",
   "execution_count": 53,
   "id": "9a4212e4-67af-4c3b-b83a-3ced8b79d015",
   "metadata": {},
   "outputs": [],
   "source": [
    "#plot.set.3D(clean.split.data,'raw')\n",
    "#plot.set.3D(clean.split.data,'log',log=TRUE) "
   ]
  },
  {
   "cell_type": "markdown",
   "id": "707d4960-36c3-4c69-8e57-412b5df55637",
   "metadata": {},
   "source": [
    "#### Calculate correlations when splitting the data"
   ]
  },
  {
   "cell_type": "markdown",
   "id": "51d26052-2b54-4ce6-89db-3fd22bf45af9",
   "metadata": {},
   "source": [
    "Let's just compare the correlation and SSE between partitions of the data"
   ]
  },
  {
   "cell_type": "markdown",
   "id": "58f050ba-ed4e-41aa-aa80-95eddb8be05e",
   "metadata": {},
   "source": [
    "Two different ways Nao will want to see for doing this:  \n",
    "* Holdout judgments (e.g. 10% of judgments in the test set)\n",
    "* Holdout participants (e.g. 10% of participants in the test set)"
   ]
  },
  {
   "cell_type": "markdown",
   "id": "0a627795-26fa-492a-8a6c-07def0b50582",
   "metadata": {},
   "source": [
    "##### Holdout Judgments"
   ]
  },
  {
   "cell_type": "markdown",
   "id": "8f032e52-eed8-47c7-85f6-5e57bc51844d",
   "metadata": {},
   "source": [
    "Make a group mean matrix using 10-90% of the data in 10% increments, observe performance on predicting the judgments in the 10% holdout set"
   ]
  },
  {
   "cell_type": "code",
   "execution_count": 57,
   "id": "0b3a3e47-3be5-4fa9-bdfa-54540a18cb57",
   "metadata": {},
   "outputs": [],
   "source": [
    "# format the training & test data\n",
    "cv.data.judge <- split.data(clean.data, 10, method='data')\n",
    "test.data <- cv.data.judge[[10]]\n",
    "\n",
    "train.10 <- group.avg.df(cv.data.judge[[1]], colourSetHEX)\n",
    "test.data.avg <- group.avg.df(test.data, colourSetHEX)"
   ]
  },
  {
   "cell_type": "code",
   "execution_count": 277,
   "id": "dda5d425-f8be-46c6-8d10-88ec8f1b91ef",
   "metadata": {},
   "outputs": [],
   "source": [
    "# plot the correlation between two datasets\n",
    "cor.plot <- function(train,test,log=FALSE,xlabel='Training data',ylabel='Test data'){\n",
    "    vals.df <- as.data.frame(c(train,test))\n",
    "\n",
    "    if(log){\n",
    "        vals.df$value <- log(vals.df$value+1)\n",
    "        vals.df$value.1 <- log(vals.df$value.1+1)\n",
    "    }\n",
    "    plot <- ggplot(data = vals.df, aes(x = value, y = value.1)) + geom_point() +\n",
    "            xlab(xlabel) + ylab(ylabel) +\n",
    "            geom_smooth(method = 'lm', alpha = 0.15) +\n",
    "            xlim(0,7) + ylim(0,7)\n",
    "    print(plot)\n",
    "    return(vals.df)\n",
    "}"
   ]
  },
  {
   "cell_type": "code",
   "execution_count": 96,
   "id": "0f4727de-fc69-4d41-a70c-6770e128bf37",
   "metadata": {},
   "outputs": [],
   "source": [
    "# calculate standard squared erro\n",
    "SSE <- function(lm){\n",
    "    out <- sum((lm$fitted.values - mean(lm$fitted.values))^2)\n",
    "    print(paste(\"SSE:\",out))\n",
    "    return(out)\n",
    "}"
   ]
  },
  {
   "cell_type": "code",
   "execution_count": 99,
   "id": "13929920-5073-4785-b6f5-8b626c004fec",
   "metadata": {},
   "outputs": [
    {
     "data": {
      "text/html": [
       "2.71224045411058"
      ],
      "text/latex": [
       "2.71224045411058"
      ],
      "text/markdown": [
       "2.71224045411058"
      ],
      "text/plain": [
       "[1] 2.71224"
      ]
     },
     "metadata": {},
     "output_type": "display_data"
    },
    {
     "data": {
      "text/html": [
       "0.142504661879407"
      ],
      "text/latex": [
       "0.142504661879407"
      ],
      "text/markdown": [
       "0.142504661879407"
      ],
      "text/plain": [
       "[1] 0.1425047"
      ]
     },
     "metadata": {},
     "output_type": "display_data"
    }
   ],
   "source": [
    "var(test.data.avg$value)\n",
    "var(log(test.data.avg$value+1))"
   ]
  },
  {
   "cell_type": "code",
   "execution_count": 61,
   "id": "3716ee45-b026-491e-930a-77f439c52a4c",
   "metadata": {},
   "outputs": [],
   "source": [
    "data.90 <- rbind(cv.data.judge[[1]],\n",
    "                 cv.data.judge[[2]],\n",
    "                 cv.data.judge[[3]],\n",
    "                 cv.data.judge[[4]],\n",
    "                 cv.data.judge[[5]],\n",
    "                 cv.data.judge[[6]],\n",
    "                 cv.data.judge[[7]],\n",
    "                 cv.data.judge[[8]],\n",
    "                 cv.data.judge[[9]],\n",
    "                )"
   ]
  },
  {
   "cell_type": "code",
   "execution_count": 62,
   "id": "10591975-69f3-4690-8a6d-bebdf6cd1e8e",
   "metadata": {},
   "outputs": [],
   "source": [
    "train.90 <- group.avg.df(data.90, colourSetHEX)\n"
   ]
  },
  {
   "cell_type": "code",
   "execution_count": 216,
   "id": "ae253e5b-0b61-4f20-8ee5-0aac57e841d0",
   "metadata": {},
   "outputs": [
    {
     "name": "stdout",
     "output_type": "stream",
     "text": [
      "  firstColour secondColour     value\n",
      "1     #E088A1      #E088A1 0.5714286\n",
      "2     #E088A1      #C4577A 1.9333333\n",
      "3     #E088A1      #B06079 2.9000000\n",
      "4     #E088A1      #9C1C53 3.6842105\n",
      "5     #E088A1      #7C3D4E 3.8571429\n",
      "6     #E088A1      #7D0B45 3.4545455\n",
      "  firstColour secondColour    value\n",
      "1     #E088A1      #E088A1 0.500000\n",
      "2     #E088A1      #C4577A 2.333333\n",
      "3     #E088A1      #B06079 3.000000\n",
      "4     #E088A1      #9C1C53 3.250000\n",
      "5     #E088A1      #7C3D4E 3.000000\n",
      "6     #E088A1      #7D0B45 4.500000\n",
      "  firstColour secondColour    value firstColour.1 secondColour.1   value.1\n",
      "1     #E088A1      #E088A1 0.500000       #E088A1        #E088A1 0.5714286\n",
      "2     #E088A1      #C4577A 2.333333       #E088A1        #C4577A 1.9333333\n",
      "3     #E088A1      #B06079 3.000000       #E088A1        #B06079 2.9000000\n",
      "4     #E088A1      #9C1C53 3.250000       #E088A1        #9C1C53 3.6842105\n",
      "5     #E088A1      #7C3D4E 3.000000       #E088A1        #7C3D4E 3.8571429\n",
      "6     #E088A1      #7D0B45 4.500000       #E088A1        #7D0B45 3.4545455\n"
     ]
    },
    {
     "name": "stderr",
     "output_type": "stream",
     "text": [
      "`geom_smooth()` using formula 'y ~ x'\n",
      "\n"
     ]
    },
    {
     "name": "stdout",
     "output_type": "stream",
     "text": [
      "  firstColour secondColour     value\n",
      "1     #E088A1      #E088A1 0.5714286\n",
      "2     #E088A1      #C4577A 1.9333333\n",
      "3     #E088A1      #B06079 2.9000000\n",
      "4     #E088A1      #9C1C53 3.6842105\n",
      "5     #E088A1      #7C3D4E 3.8571429\n",
      "6     #E088A1      #7D0B45 3.4545455\n",
      "  firstColour secondColour     value\n",
      "1     #E088A1      #E088A1 0.3333333\n",
      "2     #E088A1      #C4577A 3.3076923\n",
      "3     #E088A1      #B06079 2.1666667\n",
      "4     #E088A1      #9C1C53 2.9130435\n",
      "5     #E088A1      #7C3D4E 3.5000000\n",
      "6     #E088A1      #7D0B45 3.6363636\n",
      "  firstColour secondColour     value firstColour.1 secondColour.1   value.1\n",
      "1     #E088A1      #E088A1 0.3333333       #E088A1        #E088A1 0.5714286\n",
      "2     #E088A1      #C4577A 3.3076923       #E088A1        #C4577A 1.9333333\n",
      "3     #E088A1      #B06079 2.1666667       #E088A1        #B06079 2.9000000\n",
      "4     #E088A1      #9C1C53 2.9130435       #E088A1        #9C1C53 3.6842105\n",
      "5     #E088A1      #7C3D4E 3.5000000       #E088A1        #7C3D4E 3.8571429\n",
      "6     #E088A1      #7D0B45 3.6363636       #E088A1        #7D0B45 3.4545455\n"
     ]
    },
    {
     "name": "stderr",
     "output_type": "stream",
     "text": [
      "`geom_smooth()` using formula 'y ~ x'\n",
      "\n"
     ]
    },
    {
     "data": {
      "image/png": "[encoded data removed]",
      "text/plain": [
       "plot without title"
      ]
     },
     "metadata": {
      "image/png": {
       "height": 420,
       "width": 420
      }
     },
     "output_type": "display_data"
    },
    {
     "data": {
      "image/png": "[encoded data removed]",
      "text/plain": [
       "plot without title"
      ]
     },
     "metadata": {
      "image/png": {
       "height": 420,
       "width": 420
      }
     },
     "output_type": "display_data"
    }
   ],
   "source": [
    "raw.10 <- cor.plot(train.10,test.data.avg, log=FALSE)\n",
    "raw.90 <- cor.plot(train.90, test.data.avg, log=FALSE)"
   ]
  },
  {
   "cell_type": "code",
   "execution_count": 77,
   "id": "2c43f8e7-e290-4b10-9b76-2f7599c6642d",
   "metadata": {},
   "outputs": [
    {
     "name": "stderr",
     "output_type": "stream",
     "text": [
      "`geom_smooth()` using formula 'y ~ x'\n",
      "\n",
      "`geom_smooth()` using formula 'y ~ x'\n",
      "\n"
     ]
    },
    {
     "data": {
      "image/png": "[encoded data removed]",
      "text/plain": [
       "plot without title"
      ]
     },
     "metadata": {
      "image/png": {
       "height": 420,
       "width": 420
      }
     },
     "output_type": "display_data"
    },
    {
     "data": {
      "image/png": "[encoded data removed]",
      "text/plain": [
       "plot without title"
      ]
     },
     "metadata": {
      "image/png": {
       "height": 420,
       "width": 420
      }
     },
     "output_type": "display_data"
    }
   ],
   "source": [
    "test1 <- cor.plot(train.10,test.data.avg, log=TRUE)\n",
    "test2 <- cor.plot(train.90, test.data.avg, log=TRUE)"
   ]
  },
  {
   "cell_type": "code",
   "execution_count": 78,
   "id": "c057f8b3-dfee-45d4-9544-87ab7bc3664a",
   "metadata": {},
   "outputs": [
    {
     "data": {
      "text/html": [
       "0.777877000664493"
      ],
      "text/latex": [
       "0.777877000664493"
      ],
      "text/markdown": [
       "0.777877000664493"
      ],
      "text/plain": [
       "[1] 0.777877"
      ]
     },
     "metadata": {},
     "output_type": "display_data"
    },
    {
     "data": {
      "text/html": [
       "0.868752582054655"
      ],
      "text/latex": [
       "0.868752582054655"
      ],
      "text/markdown": [
       "0.868752582054655"
      ],
      "text/plain": [
       "[1] 0.8687526"
      ]
     },
     "metadata": {},
     "output_type": "display_data"
    }
   ],
   "source": [
    "cor(test1$value,test1$value.1)\n",
    "cor(test2$value,test2$value.1)"
   ]
  },
  {
   "cell_type": "code",
   "execution_count": 103,
   "id": "da95a066-eb0e-47fa-a220-3af50f036751",
   "metadata": {},
   "outputs": [
    {
     "data": {
      "text/plain": [
       "\n",
       "Call:\n",
       "lm(formula = value ~ value.1, data = raw.10)\n",
       "\n",
       "Residuals:\n",
       "    Min      1Q  Median      3Q     Max \n",
       "-6.3759 -0.7093  0.0420  0.7223  4.6362 \n",
       "\n",
       "Coefficients:\n",
       "            Estimate Std. Error t value Pr(>|t|)    \n",
       "(Intercept)  1.26955    0.05109   24.85   <2e-16 ***\n",
       "value.1      0.72948    0.01024   71.27   <2e-16 ***\n",
       "---\n",
       "Signif. codes:  0 '***' 0.001 '**' 0.01 '*' 0.05 '.' 0.1 ' ' 1\n",
       "\n",
       "Residual standard error: 1.114 on 4369 degrees of freedom\n",
       "Multiple R-squared:  0.5376,\tAdjusted R-squared:  0.5375 \n",
       "F-statistic:  5079 on 1 and 4369 DF,  p-value: < 2.2e-16\n"
      ]
     },
     "metadata": {},
     "output_type": "display_data"
    },
    {
     "name": "stdout",
     "output_type": "stream",
     "text": [
      "[1] \"SSE: 6307.26631996079\"\n"
     ]
    },
    {
     "data": {
      "text/html": [
       "6307.26631996079"
      ],
      "text/latex": [
       "6307.26631996079"
      ],
      "text/markdown": [
       "6307.26631996079"
      ],
      "text/plain": [
       "[1] 6307.266"
      ]
     },
     "metadata": {},
     "output_type": "display_data"
    },
    {
     "name": "stdout",
     "output_type": "stream",
     "text": [
      "[1] \"SSE: 6307.26631996079\"\n"
     ]
    },
    {
     "data": {
      "text/html": [
       "2325.48198682079"
      ],
      "text/latex": [
       "2325.48198682079"
      ],
      "text/markdown": [
       "2325.48198682079"
      ],
      "text/plain": [
       "[1] 2325.482"
      ]
     },
     "metadata": {},
     "output_type": "display_data"
    }
   ],
   "source": [
    "lm.10.raw <- lm(value~value.1, data = raw.10) # 10% training data\n",
    "summary(lm.10.raw)\n",
    "SSE(lm.10.raw)\n",
    "SSE(lm.10.raw)/var(test.data.avg$value)"
   ]
  },
  {
   "cell_type": "code",
   "execution_count": 104,
   "id": "25e1bb25-63a2-451c-bf5c-0557154bb377",
   "metadata": {},
   "outputs": [
    {
     "data": {
      "text/plain": [
       "\n",
       "Call:\n",
       "lm(formula = value ~ value.1, data = raw.90)\n",
       "\n",
       "Residuals:\n",
       "    Min      1Q  Median      3Q     Max \n",
       "-2.8869 -0.4649  0.0221  0.4863  4.0458 \n",
       "\n",
       "Coefficients:\n",
       "            Estimate Std. Error t value Pr(>|t|)    \n",
       "(Intercept) 1.287548   0.035279    36.5   <2e-16 ***\n",
       "value.1     0.725771   0.007068   102.7   <2e-16 ***\n",
       "---\n",
       "Signif. codes:  0 '***' 0.001 '**' 0.01 '*' 0.05 '.' 0.1 ' ' 1\n",
       "\n",
       "Residual standard error: 0.7694 on 4369 degrees of freedom\n",
       "Multiple R-squared:  0.7071,\tAdjusted R-squared:  0.707 \n",
       "F-statistic: 1.055e+04 on 1 and 4369 DF,  p-value: < 2.2e-16\n"
      ]
     },
     "metadata": {},
     "output_type": "display_data"
    },
    {
     "name": "stdout",
     "output_type": "stream",
     "text": [
      "[1] \"SSE: 6243.23008824304\"\n"
     ]
    },
    {
     "data": {
      "text/html": [
       "2301.87190032543"
      ],
      "text/latex": [
       "2301.87190032543"
      ],
      "text/markdown": [
       "2301.87190032543"
      ],
      "text/plain": [
       "[1] 2301.872"
      ]
     },
     "metadata": {},
     "output_type": "display_data"
    }
   ],
   "source": [
    "lm.90.raw <- lm(value~value.1, data = raw.90) # 90% training data\n",
    "summary(lm.90.raw)\n",
    "SSE(lm.90.raw)/var(test.data.avg$value)"
   ]
  },
  {
   "cell_type": "code",
   "execution_count": 102,
   "id": "bae72bf4-ca4a-454e-9a81-52d9e2674e2c",
   "metadata": {},
   "outputs": [
    {
     "data": {
      "text/plain": [
       "\n",
       "Call:\n",
       "lm(formula = value ~ value.1, data = raw.10)\n",
       "\n",
       "Residuals:\n",
       "    Min      1Q  Median      3Q     Max \n",
       "-6.3759 -0.7093  0.0420  0.7223  4.6362 \n",
       "\n",
       "Coefficients:\n",
       "            Estimate Std. Error t value Pr(>|t|)    \n",
       "(Intercept)  1.26955    0.05109   24.85   <2e-16 ***\n",
       "value.1      0.72948    0.01024   71.27   <2e-16 ***\n",
       "---\n",
       "Signif. codes:  0 '***' 0.001 '**' 0.01 '*' 0.05 '.' 0.1 ' ' 1\n",
       "\n",
       "Residual standard error: 1.114 on 4369 degrees of freedom\n",
       "Multiple R-squared:  0.5376,\tAdjusted R-squared:  0.5375 \n",
       "F-statistic:  5079 on 1 and 4369 DF,  p-value: < 2.2e-16\n"
      ]
     },
     "metadata": {},
     "output_type": "display_data"
    },
    {
     "name": "stdout",
     "output_type": "stream",
     "text": [
      "[1] \"SSE: 375.575360754166\"\n"
     ]
    },
    {
     "data": {
      "text/html": [
       "375.575360754166"
      ],
      "text/latex": [
       "375.575360754166"
      ],
      "text/markdown": [
       "375.575360754166"
      ],
      "text/plain": [
       "[1] 375.5754"
      ]
     },
     "metadata": {},
     "output_type": "display_data"
    },
    {
     "name": "stdout",
     "output_type": "stream",
     "text": [
      "[1] \"SSE: 375.575360754166\"\n"
     ]
    },
    {
     "data": {
      "text/html": [
       "2635.53034547033"
      ],
      "text/latex": [
       "2635.53034547033"
      ],
      "text/markdown": [
       "2635.53034547033"
      ],
      "text/plain": [
       "[1] 2635.53"
      ]
     },
     "metadata": {},
     "output_type": "display_data"
    }
   ],
   "source": [
    "lm.10.log <- lm(value~value.1, data = test1) # 10% training data\n",
    "summary(lm.10.raw)\n",
    "SSE(lm.10.log)\n",
    "SSE(lm.10.log)/var(log(test.data.avg$value+1))"
   ]
  },
  {
   "cell_type": "code",
   "execution_count": 105,
   "id": "558e43cf-061c-47a3-b78c-a3c206cc9506",
   "metadata": {},
   "outputs": [
    {
     "data": {
      "text/plain": [
       "\n",
       "Call:\n",
       "lm(formula = value ~ value.1, data = test2)\n",
       "\n",
       "Residuals:\n",
       "     Min       1Q   Median       3Q      Max \n",
       "-1.00783 -0.07597  0.01132  0.08839  1.40708 \n",
       "\n",
       "Coefficients:\n",
       "            Estimate Std. Error t value Pr(>|t|)    \n",
       "(Intercept) 0.438749   0.011135    39.4   <2e-16 ***\n",
       "value.1     0.747796   0.006449   115.9   <2e-16 ***\n",
       "---\n",
       "Signif. codes:  0 '***' 0.001 '**' 0.01 '*' 0.05 '.' 0.1 ' ' 1\n",
       "\n",
       "Residual standard error: 0.1609 on 4369 degrees of freedom\n",
       "Multiple R-squared:  0.7547,\tAdjusted R-squared:  0.7547 \n",
       "F-statistic: 1.344e+04 on 1 and 4369 DF,  p-value: < 2.2e-16\n"
      ]
     },
     "metadata": {},
     "output_type": "display_data"
    },
    {
     "name": "stdout",
     "output_type": "stream",
     "text": [
      "[1] \"SSE: 348.238039121259\"\n"
     ]
    },
    {
     "data": {
      "text/html": [
       "348.238039121259"
      ],
      "text/latex": [
       "348.238039121259"
      ],
      "text/markdown": [
       "348.238039121259"
      ],
      "text/plain": [
       "[1] 348.238"
      ]
     },
     "metadata": {},
     "output_type": "display_data"
    },
    {
     "name": "stdout",
     "output_type": "stream",
     "text": [
      "[1] \"SSE: 348.238039121259\"\n"
     ]
    },
    {
     "data": {
      "text/html": [
       "2443.69576776339"
      ],
      "text/latex": [
       "2443.69576776339"
      ],
      "text/markdown": [
       "2443.69576776339"
      ],
      "text/plain": [
       "[1] 2443.696"
      ]
     },
     "metadata": {},
     "output_type": "display_data"
    }
   ],
   "source": [
    "lm.90.log <- lm(value~value.1, data = test2) # 90% training data\n",
    "summary(lm.90.log)\n",
    "SSE(lm.90.log)\n",
    "SSE(lm.90.log)/var(log(test.data.avg$value+1))"
   ]
  },
  {
   "cell_type": "markdown",
   "id": "b25d9a41-3aa9-43f9-bd9c-66be47ed33ae",
   "metadata": {},
   "source": [
    "##### Holdout Participants"
   ]
  },
  {
   "cell_type": "markdown",
   "id": "5e03bbb9-37c0-4ec7-b7c5-ef06f2837f9e",
   "metadata": {},
   "source": [
    "Make a group mean matrix using 90% of participants, observe performance on predicting the judgments in the 10% holdout set"
   ]
  },
  {
   "cell_type": "code",
   "execution_count": 116,
   "id": "a2a0693e-288a-4d42-a493-fcf91cf399d0",
   "metadata": {},
   "outputs": [],
   "source": [
    "cv.data.judge <- split.data(clean.data, 2, method='participant')"
   ]
  },
  {
   "cell_type": "code",
   "execution_count": 117,
   "id": "d4aee824-fcda-4393-835a-9b1bc9e7c8cf",
   "metadata": {},
   "outputs": [],
   "source": [
    "# format the training & test data\n",
    "train.90 <- group.avg.df(training(cv.data.judge), colourSetHEX)\n",
    "test.data <- testing(cv.data.judge)\n",
    "\n",
    "test.data.avg <- group.avg.df(test.data, colourSetHEX)"
   ]
  },
  {
   "cell_type": "code",
   "execution_count": 118,
   "id": "82431c8d-7192-4a33-b689-f087c0afa4e2",
   "metadata": {},
   "outputs": [
    {
     "name": "stderr",
     "output_type": "stream",
     "text": [
      "`geom_smooth()` using formula 'y ~ x'\n",
      "\n"
     ]
    },
    {
     "data": {
      "image/png": "[encoded data removed]",
      "text/plain": [
       "plot without title"
      ]
     },
     "metadata": {
      "image/png": {
       "height": 420,
       "width": 420
      }
     },
     "output_type": "display_data"
    }
   ],
   "source": [
    "raw.90 <- cor.plot(train.90, test.data.avg, log=FALSE)"
   ]
  },
  {
   "cell_type": "code",
   "execution_count": 119,
   "id": "b266e263-2857-47a0-9b5f-12811568f8a2",
   "metadata": {},
   "outputs": [
    {
     "name": "stderr",
     "output_type": "stream",
     "text": [
      "`geom_smooth()` using formula 'y ~ x'\n",
      "\n"
     ]
    },
    {
     "data": {
      "image/png": "[encoded data removed]",
      "text/plain": [
       "plot without title"
      ]
     },
     "metadata": {
      "image/png": {
       "height": 420,
       "width": 420
      }
     },
     "output_type": "display_data"
    }
   ],
   "source": [
    "test2 <- cor.plot(train.90, test.data.avg, log=TRUE)"
   ]
  },
  {
   "cell_type": "code",
   "execution_count": 123,
   "id": "fa291b9d-0830-4ed3-ab2e-fdf08b197928",
   "metadata": {},
   "outputs": [
    {
     "data": {
      "text/html": [
       "0.917694139857871"
      ],
      "text/latex": [
       "0.917694139857871"
      ],
      "text/markdown": [
       "0.917694139857871"
      ],
      "text/plain": [
       "[1] 0.9176941"
      ]
     },
     "metadata": {},
     "output_type": "display_data"
    },
    {
     "data": {
      "text/html": [
       "0.934389159974209"
      ],
      "text/latex": [
       "0.934389159974209"
      ],
      "text/markdown": [
       "0.934389159974209"
      ],
      "text/plain": [
       "[1] 0.9343892"
      ]
     },
     "metadata": {},
     "output_type": "display_data"
    }
   ],
   "source": [
    "cor(raw.90$value,raw.90$value.1)\n",
    "cor(test2$value,test2$value.1)"
   ]
  },
  {
   "cell_type": "code",
   "execution_count": 121,
   "id": "f4feac0c-e7fa-4aae-91b5-6650a0b77f20",
   "metadata": {},
   "outputs": [
    {
     "data": {
      "text/plain": [
       "\n",
       "Call:\n",
       "lm(formula = value ~ value.1, data = raw.90)\n",
       "\n",
       "Residuals:\n",
       "     Min       1Q   Median       3Q      Max \n",
       "-3.13748 -0.35121  0.00973  0.35904  3.03484 \n",
       "\n",
       "Coefficients:\n",
       "            Estimate Std. Error t value Pr(>|t|)    \n",
       "(Intercept) 0.374062   0.029628   12.62   <2e-16 ***\n",
       "value.1     0.919256   0.006021  152.68   <2e-16 ***\n",
       "---\n",
       "Signif. codes:  0 '***' 0.001 '**' 0.01 '*' 0.05 '.' 0.1 ' ' 1\n",
       "\n",
       "Residual standard error: 0.5649 on 4369 degrees of freedom\n",
       "Multiple R-squared:  0.8422,\tAdjusted R-squared:  0.8421 \n",
       "F-statistic: 2.331e+04 on 1 and 4369 DF,  p-value: < 2.2e-16\n"
      ]
     },
     "metadata": {},
     "output_type": "display_data"
    },
    {
     "name": "stdout",
     "output_type": "stream",
     "text": [
      "[1] \"SSE: 7439.18620163902\"\n"
     ]
    },
    {
     "data": {
      "text/html": [
       "3692.78892541809"
      ],
      "text/latex": [
       "3692.78892541809"
      ],
      "text/markdown": [
       "3692.78892541809"
      ],
      "text/plain": [
       "[1] 3692.789"
      ]
     },
     "metadata": {},
     "output_type": "display_data"
    }
   ],
   "source": [
    "lm.90.raw <- lm(value~value.1, data = raw.90) # 90% training data\n",
    "summary(lm.90.raw)\n",
    "SSE(lm.90.raw)/var(test.data.avg$value)"
   ]
  },
  {
   "cell_type": "code",
   "execution_count": 122,
   "id": "393a9d2f-ca3e-40af-b902-b43197186372",
   "metadata": {},
   "outputs": [
    {
     "data": {
      "text/plain": [
       "\n",
       "Call:\n",
       "lm(formula = value ~ value.1, data = test2)\n",
       "\n",
       "Residuals:\n",
       "     Min       1Q   Median       3Q      Max \n",
       "-1.00082 -0.05986  0.00657  0.06680  0.73212 \n",
       "\n",
       "Coefficients:\n",
       "            Estimate Std. Error t value Pr(>|t|)    \n",
       "(Intercept) 0.113563   0.009307    12.2   <2e-16 ***\n",
       "value.1     0.932505   0.005379   173.4   <2e-16 ***\n",
       "---\n",
       "Signif. codes:  0 '***' 0.001 '**' 0.01 '*' 0.05 '.' 0.1 ' ' 1\n",
       "\n",
       "Residual standard error: 0.1155 on 4369 degrees of freedom\n",
       "Multiple R-squared:  0.8731,\tAdjusted R-squared:  0.8731 \n",
       "F-statistic: 3.006e+04 on 1 and 4369 DF,  p-value: < 2.2e-16\n"
      ]
     },
     "metadata": {},
     "output_type": "display_data"
    },
    {
     "name": "stdout",
     "output_type": "stream",
     "text": [
      "[1] \"SSE: 400.834871922438\"\n"
     ]
    },
    {
     "data": {
      "text/html": [
       "400.834871922438"
      ],
      "text/latex": [
       "400.834871922438"
      ],
      "text/markdown": [
       "400.834871922438"
      ],
      "text/plain": [
       "[1] 400.8349"
      ]
     },
     "metadata": {},
     "output_type": "display_data"
    },
    {
     "name": "stdout",
     "output_type": "stream",
     "text": [
      "[1] \"SSE: 400.834871922438\"\n"
     ]
    },
    {
     "data": {
      "text/html": [
       "3800.00252098097"
      ],
      "text/latex": [
       "3800.00252098097"
      ],
      "text/markdown": [
       "3800.00252098097"
      ],
      "text/plain": [
       "[1] 3800.003"
      ]
     },
     "metadata": {},
     "output_type": "display_data"
    }
   ],
   "source": [
    "lm.90.log <- lm(value~value.1, data = test2) # 90% training data\n",
    "summary(lm.90.log)\n",
    "SSE(lm.90.log)\n",
    "SSE(lm.90.log)/var(log(test.data.avg$value+1))"
   ]
  },
  {
   "cell_type": "markdown",
   "id": "25ca88f4-5f33-4578-a7aa-8f7d4b716bad",
   "metadata": {},
   "source": [
    "#### Calculate predicted distances from the MDS models"
   ]
  },
  {
   "cell_type": "markdown",
   "id": "18590d0e-521b-479f-a1fe-182534957e54",
   "metadata": {},
   "source": [
    "Ok, now let's see how well this works when we derive the dissimilarity matrix from the MDS model. We're going to lose some performance due to throwing away some information, but let's see how well it works"
   ]
  },
  {
   "cell_type": "markdown",
   "id": "22745b13-cfce-46b9-ab83-acae5b5ba857",
   "metadata": {},
   "source": [
    "##### MDS Model to Dissimilarity Matrix"
   ]
  },
  {
   "cell_type": "code",
   "execution_count": 234,
   "id": "674d253a-4ded-4c9b-bd99-17a88ac6d435",
   "metadata": {},
   "outputs": [],
   "source": [
    "# euclidean distance\n",
    "euclidean <- function(a, b){return(sqrt(sum((a-b)^2)))}"
   ]
  },
  {
   "cell_type": "code",
   "execution_count": 235,
   "id": "fc9e178e-1f75-42a1-9cec-4aaab35fdb44",
   "metadata": {},
   "outputs": [],
   "source": [
    "# find the dissimilarity between two colours in an MDS model\n",
    "dissim.dist <- function(colour1, colour2, mds, method='euclidean'){\n",
    "    x <- mds$points[colour1,]\n",
    "    y <- mds$points[colour2,]\n",
    "    if(method=='euclidean'){\n",
    "        val <- euclidean(x, y)\n",
    "        return(val) \n",
    "    }\n",
    "}"
   ]
  },
  {
   "cell_type": "code",
   "execution_count": 236,
   "id": "4ff8739d-061e-4a4d-8411-0acd5b3463b2",
   "metadata": {},
   "outputs": [],
   "source": [
    "# populate a dissimilarity df using an MDS model\n",
    "\n",
    "mds2df <- function(mds, method='euclidean'){\n",
    "    empty <- colourSetHEX\n",
    "    empty$value <- NA\n",
    "    for(row in 1:nrow(empty)){\n",
    "        empty[row,3] <- dissim.dist(empty[row,1],\n",
    "                           empty[row,2],\n",
    "                           mds=mds,method=method)\n",
    "    }\n",
    "    return(empty)\n",
    "}"
   ]
  },
  {
   "cell_type": "code",
   "execution_count": 237,
   "id": "dfafe12b-707b-4cbd-b7b9-fe81eba80a4d",
   "metadata": {},
   "outputs": [],
   "source": [
    "test <- mds2df(mean.mds)"
   ]
  },
  {
   "cell_type": "code",
   "execution_count": 195,
   "id": "12f166d8-131c-4d2f-a044-74b916f9450f",
   "metadata": {},
   "outputs": [
    {
     "name": "stderr",
     "output_type": "stream",
     "text": [
      "Warning message:\n",
      "\"Vectorized input to `element_text()` is not officially supported.\n",
      "Results may be unexpected or may change in future versions of ggplot2.\"\n",
      "Warning message:\n",
      "\"Vectorized input to `element_text()` is not officially supported.\n",
      "Results may be unexpected or may change in future versions of ggplot2.\"\n"
     ]
    }
   ],
   "source": [
    "mean.matrix.plot(test,'test',skip.mean=TRUE)"
   ]
  },
  {
   "cell_type": "code",
   "execution_count": 238,
   "id": "9c82d3bf-4e54-4784-bc73-11af6f7c523f",
   "metadata": {},
   "outputs": [
    {
     "data": {
      "text/html": [
       "<table class=\"dataframe\">\n",
       "<caption>A data.frame: 6 × 3</caption>\n",
       "<thead>\n",
       "\t<tr><th></th><th scope=col>firstColour</th><th scope=col>secondColour</th><th scope=col>value</th></tr>\n",
       "\t<tr><th></th><th scope=col>&lt;chr&gt;</th><th scope=col>&lt;chr&gt;</th><th scope=col>&lt;dbl&gt;</th></tr>\n",
       "</thead>\n",
       "<tbody>\n",
       "\t<tr><th scope=row>1</th><td>#E088A1</td><td>#E088A1</td><td>0.5714286</td></tr>\n",
       "\t<tr><th scope=row>2</th><td>#E088A1</td><td>#C4577A</td><td>1.9333333</td></tr>\n",
       "\t<tr><th scope=row>3</th><td>#E088A1</td><td>#B06079</td><td>2.9000000</td></tr>\n",
       "\t<tr><th scope=row>4</th><td>#E088A1</td><td>#9C1C53</td><td>3.6842105</td></tr>\n",
       "\t<tr><th scope=row>5</th><td>#E088A1</td><td>#7C3D4E</td><td>3.8571429</td></tr>\n",
       "\t<tr><th scope=row>6</th><td>#E088A1</td><td>#7D0B45</td><td>3.4545455</td></tr>\n",
       "</tbody>\n",
       "</table>\n"
      ],
      "text/latex": [
       "A data.frame: 6 × 3\n",
       "\\begin{tabular}{r|lll}\n",
       "  & firstColour & secondColour & value\\\\\n",
       "  & <chr> & <chr> & <dbl>\\\\\n",
       "\\hline\n",
       "\t1 & \\#E088A1 & \\#E088A1 & 0.5714286\\\\\n",
       "\t2 & \\#E088A1 & \\#C4577A & 1.9333333\\\\\n",
       "\t3 & \\#E088A1 & \\#B06079 & 2.9000000\\\\\n",
       "\t4 & \\#E088A1 & \\#9C1C53 & 3.6842105\\\\\n",
       "\t5 & \\#E088A1 & \\#7C3D4E & 3.8571429\\\\\n",
       "\t6 & \\#E088A1 & \\#7D0B45 & 3.4545455\\\\\n",
       "\\end{tabular}\n"
      ],
      "text/markdown": [
       "\n",
       "A data.frame: 6 × 3\n",
       "\n",
       "| <!--/--> | firstColour &lt;chr&gt; | secondColour &lt;chr&gt; | value &lt;dbl&gt; |\n",
       "|---|---|---|---|\n",
       "| 1 | #E088A1 | #E088A1 | 0.5714286 |\n",
       "| 2 | #E088A1 | #C4577A | 1.9333333 |\n",
       "| 3 | #E088A1 | #B06079 | 2.9000000 |\n",
       "| 4 | #E088A1 | #9C1C53 | 3.6842105 |\n",
       "| 5 | #E088A1 | #7C3D4E | 3.8571429 |\n",
       "| 6 | #E088A1 | #7D0B45 | 3.4545455 |\n",
       "\n"
      ],
      "text/plain": [
       "  firstColour secondColour value    \n",
       "1 #E088A1     #E088A1      0.5714286\n",
       "2 #E088A1     #C4577A      1.9333333\n",
       "3 #E088A1     #B06079      2.9000000\n",
       "4 #E088A1     #9C1C53      3.6842105\n",
       "5 #E088A1     #7C3D4E      3.8571429\n",
       "6 #E088A1     #7D0B45      3.4545455"
      ]
     },
     "metadata": {},
     "output_type": "display_data"
    },
    {
     "data": {
      "text/html": [
       "<table class=\"dataframe\">\n",
       "<caption>A data.frame: 6 × 3</caption>\n",
       "<thead>\n",
       "\t<tr><th></th><th scope=col>firstColour</th><th scope=col>secondColour</th><th scope=col>value</th></tr>\n",
       "\t<tr><th></th><th scope=col>&lt;chr&gt;</th><th scope=col>&lt;chr&gt;</th><th scope=col>&lt;dbl&gt;</th></tr>\n",
       "</thead>\n",
       "<tbody>\n",
       "\t<tr><th scope=row>1</th><td>#E088A1</td><td>#E088A1</td><td>0.0000000</td></tr>\n",
       "\t<tr><th scope=row>2</th><td>#E088A1</td><td>#C4577A</td><td>0.7191488</td></tr>\n",
       "\t<tr><th scope=row>3</th><td>#E088A1</td><td>#B06079</td><td>0.9987285</td></tr>\n",
       "\t<tr><th scope=row>4</th><td>#E088A1</td><td>#9C1C53</td><td>2.0135018</td></tr>\n",
       "\t<tr><th scope=row>5</th><td>#E088A1</td><td>#7C3D4E</td><td>2.0592994</td></tr>\n",
       "\t<tr><th scope=row>6</th><td>#E088A1</td><td>#7D0B45</td><td>2.3037880</td></tr>\n",
       "</tbody>\n",
       "</table>\n"
      ],
      "text/latex": [
       "A data.frame: 6 × 3\n",
       "\\begin{tabular}{r|lll}\n",
       "  & firstColour & secondColour & value\\\\\n",
       "  & <chr> & <chr> & <dbl>\\\\\n",
       "\\hline\n",
       "\t1 & \\#E088A1 & \\#E088A1 & 0.0000000\\\\\n",
       "\t2 & \\#E088A1 & \\#C4577A & 0.7191488\\\\\n",
       "\t3 & \\#E088A1 & \\#B06079 & 0.9987285\\\\\n",
       "\t4 & \\#E088A1 & \\#9C1C53 & 2.0135018\\\\\n",
       "\t5 & \\#E088A1 & \\#7C3D4E & 2.0592994\\\\\n",
       "\t6 & \\#E088A1 & \\#7D0B45 & 2.3037880\\\\\n",
       "\\end{tabular}\n"
      ],
      "text/markdown": [
       "\n",
       "A data.frame: 6 × 3\n",
       "\n",
       "| <!--/--> | firstColour &lt;chr&gt; | secondColour &lt;chr&gt; | value &lt;dbl&gt; |\n",
       "|---|---|---|---|\n",
       "| 1 | #E088A1 | #E088A1 | 0.0000000 |\n",
       "| 2 | #E088A1 | #C4577A | 0.7191488 |\n",
       "| 3 | #E088A1 | #B06079 | 0.9987285 |\n",
       "| 4 | #E088A1 | #9C1C53 | 2.0135018 |\n",
       "| 5 | #E088A1 | #7C3D4E | 2.0592994 |\n",
       "| 6 | #E088A1 | #7D0B45 | 2.3037880 |\n",
       "\n"
      ],
      "text/plain": [
       "  firstColour secondColour value    \n",
       "1 #E088A1     #E088A1      0.0000000\n",
       "2 #E088A1     #C4577A      0.7191488\n",
       "3 #E088A1     #B06079      0.9987285\n",
       "4 #E088A1     #9C1C53      2.0135018\n",
       "5 #E088A1     #7C3D4E      2.0592994\n",
       "6 #E088A1     #7D0B45      2.3037880"
      ]
     },
     "metadata": {},
     "output_type": "display_data"
    }
   ],
   "source": [
    "head(test.data.avg)\n",
    "head(test)"
   ]
  },
  {
   "cell_type": "code",
   "execution_count": 241,
   "id": "dc0933fc-daf8-4c66-8b94-577140c330fb",
   "metadata": {},
   "outputs": [
    {
     "name": "stderr",
     "output_type": "stream",
     "text": [
      "`geom_smooth()` using formula 'y ~ x'\n",
      "\n",
      "Warning message:\n",
      "\"Removed 10 rows containing missing values (geom_smooth).\"\n"
     ]
    },
    {
     "data": {
      "image/png": "[encoded data removed]",
      "text/plain": [
       "plot without title"
      ]
     },
     "metadata": {
      "image/png": {
       "height": 420,
       "width": 420
      }
     },
     "output_type": "display_data"
    }
   ],
   "source": [
    "bum <- cor.plot(test.data.avg,test)"
   ]
  },
  {
   "cell_type": "markdown",
   "id": "1475c321-244a-4371-82c9-075a07d4e563",
   "metadata": {},
   "source": [
    "50-50 split, 3D Euclidean Model"
   ]
  },
  {
   "cell_type": "code",
   "execution_count": 279,
   "id": "173536a6-28b9-4004-af12-dd99eb60f32d",
   "metadata": {},
   "outputs": [
    {
     "name": "stderr",
     "output_type": "stream",
     "text": [
      "`geom_smooth()` using formula 'y ~ x'\n",
      "\n"
     ]
    },
    {
     "data": {
      "image/png": "[encoded data removed]",
      "text/plain": [
       "plot without title"
      ]
     },
     "metadata": {
      "image/png": {
       "height": 420,
       "width": 420
      }
     },
     "output_type": "display_data"
    }
   ],
   "source": [
    "# format the training & test data\n",
    "cv.data.judge <- split.data(clean.data, 2, method='data')\n",
    "\n",
    "test.data <- cv.data.judge[[2]]\n",
    "test.data.avg <- group.avg.df(test.data, colourSetHEX)\n",
    "\n",
    "#print(head(cv.data.judge)) # testing\n",
    "\n",
    "train.50 <- group.avg.df(cv.data.judge[[1]], colourSetHEX)\n",
    "train.50.mat <- matrix.df.fill(train.50,color.mat.df)\n",
    "\n",
    "#print(train.50.mat) # testing\n",
    "#print(nrow(train.50.mat))\n",
    "#print(ncol(train.50.mat))\n",
    "\n",
    "train.50.mds <- cmdscale(data2dist(train.50.mat),k=3, eig=TRUE)\n",
    "#print(head(train.50.mds))\n",
    "train.50.mds2df <- mds2df(train.50.mds)\n",
    "\n",
    "plot <- cor.plot(train.50.mds2df,test.data.avg,\n",
    "                 xlabel='Model Prediction',ylabel='Holdout Data')"
   ]
  },
  {
   "cell_type": "code",
   "execution_count": 281,
   "id": "c2f999a6-fee6-4c52-9f21-71bf587250b3",
   "metadata": {},
   "outputs": [
    {
     "data": {
      "text/html": [
       "0.976016472986729"
      ],
      "text/latex": [
       "0.976016472986729"
      ],
      "text/markdown": [
       "0.976016472986729"
      ],
      "text/plain": [
       "[1] 0.9760165"
      ]
     },
     "metadata": {},
     "output_type": "display_data"
    }
   ],
   "source": [
    "head(train.50.mds2df)$value[2]"
   ]
  },
  {
   "cell_type": "code",
   "execution_count": 288,
   "id": "987e4839-5524-45b6-97e6-6cd7b42d04a9",
   "metadata": {},
   "outputs": [],
   "source": [
    "# find the error\n",
    "error_mds <- function(test.data, model){\n",
    "    sum = 0\n",
    "    for(i in 1:nrow(test.data)){\n",
    "        e = (test.data$value[i] - model$value[i])^2\n",
    "        sum = sum + e\n",
    "    }\n",
    "    return(sum)\n",
    "}"
   ]
  },
  {
   "cell_type": "code",
   "execution_count": 289,
   "id": "82a48f8f-4055-40be-944d-89e229cdafd9",
   "metadata": {},
   "outputs": [
    {
     "data": {
      "text/html": [
       "6842.54267386315"
      ],
      "text/latex": [
       "6842.54267386315"
      ],
      "text/markdown": [
       "6842.54267386315"
      ],
      "text/plain": [
       "[1] 6842.543"
      ]
     },
     "metadata": {},
     "output_type": "display_data"
    }
   ],
   "source": [
    "error_mds(test.data.avg, train.50.mds2df)"
   ]
  },
  {
   "cell_type": "code",
   "execution_count": 290,
   "id": "0e8d2dbc-5abc-41fc-b7ec-3c2fa59f8ae9",
   "metadata": {},
   "outputs": [
    {
     "data": {
      "text/html": [
       "6817.93691862545"
      ],
      "text/latex": [
       "6817.93691862545"
      ],
      "text/markdown": [
       "6817.93691862545"
      ],
      "text/plain": [
       "[1] 6817.937"
      ]
     },
     "metadata": {},
     "output_type": "display_data"
    }
   ],
   "source": [
    "error_mds(train.50, train.50.mds2df)"
   ]
  },
  {
   "cell_type": "code",
   "execution_count": 300,
   "id": "06314412-6667-4b92-96b9-4caa7adb6d0f",
   "metadata": {},
   "outputs": [
    {
     "name": "stderr",
     "output_type": "stream",
     "text": [
      "Warning message in mean.default(lm$fitted.values):\n",
      "\"argument is not numeric or logical: returning NA\"\n"
     ]
    },
    {
     "name": "stdout",
     "output_type": "stream",
     "text": [
      "[1] \"SSE: 0\"\n"
     ]
    },
    {
     "data": {
      "text/html": [
       "0"
      ],
      "text/latex": [
       "0"
      ],
      "text/markdown": [
       "0"
      ],
      "text/plain": [
       "[1] 0"
      ]
     },
     "metadata": {},
     "output_type": "display_data"
    }
   ],
   "source": [
    "SSE(train.50.mds2df)"
   ]
  },
  {
   "cell_type": "code",
   "execution_count": 301,
   "id": "11dec4fd-e5d0-4629-a8ce-9868f5c7dac1",
   "metadata": {},
   "outputs": [],
   "source": [
    "lm.50 <- lm(value~value.1, data = plot)"
   ]
  },
  {
   "cell_type": "code",
   "execution_count": 302,
   "id": "859d0c25-88d1-45d1-9829-da1399b167ec",
   "metadata": {},
   "outputs": [
    {
     "data": {
      "text/plain": [
       "\n",
       "Call:\n",
       "lm(formula = value ~ value.1, data = plot)\n",
       "\n",
       "Residuals:\n",
       "     Min       1Q   Median       3Q      Max \n",
       "-2.70860 -0.47205  0.04495  0.47946  2.37657 \n",
       "\n",
       "Coefficients:\n",
       "            Estimate Std. Error t value Pr(>|t|)    \n",
       "(Intercept) -0.80830    0.03671  -22.02   <2e-16 ***\n",
       "value.1      0.95188    0.00746  127.60   <2e-16 ***\n",
       "---\n",
       "Signif. codes:  0 '***' 0.001 '**' 0.01 '*' 0.05 '.' 0.1 ' ' 1\n",
       "\n",
       "Residual standard error: 0.6998 on 4369 degrees of freedom\n",
       "Multiple R-squared:  0.7884,\tAdjusted R-squared:  0.7884 \n",
       "F-statistic: 1.628e+04 on 1 and 4369 DF,  p-value: < 2.2e-16\n"
      ]
     },
     "metadata": {},
     "output_type": "display_data"
    },
    {
     "name": "stdout",
     "output_type": "stream",
     "text": [
      "[1] \"SSE: 7973.3362558689\"\n"
     ]
    },
    {
     "data": {
      "text/html": [
       "7973.3362558689"
      ],
      "text/latex": [
       "7973.3362558689"
      ],
      "text/markdown": [
       "7973.3362558689"
      ],
      "text/plain": [
       "[1] 7973.336"
      ]
     },
     "metadata": {},
     "output_type": "display_data"
    },
    {
     "name": "stdout",
     "output_type": "stream",
     "text": [
      "[1] \"SSE: 7973.3362558689\"\n"
     ]
    },
    {
     "data": {
      "text/html": [
       "3959.56259180843"
      ],
      "text/latex": [
       "3959.56259180843"
      ],
      "text/markdown": [
       "3959.56259180843"
      ],
      "text/plain": [
       "[1] 3959.563"
      ]
     },
     "metadata": {},
     "output_type": "display_data"
    }
   ],
   "source": [
    "summary(lm.50)\n",
    "SSE(lm.50)\n",
    "SSE(lm.50)/var(test.data.avg$value)"
   ]
  },
  {
   "cell_type": "code",
   "execution_count": null,
   "id": "686bbf3e-24b2-4df6-a5f5-4b207d0e974e",
   "metadata": {},
   "outputs": [],
   "source": []
  }
 ],
 "metadata": {
  "kernelspec": {
   "display_name": "R",
   "language": "R",
   "name": "ir"
  },
  "language_info": {
   "codemirror_mode": "r",
   "file_extension": ".r",
   "mimetype": "text/x-r-source",
   "name": "R",
   "pygments_lexer": "r",
   "version": "4.0.5"
  }
 },
 "nbformat": 4,
 "nbformat_minor": 5
}
