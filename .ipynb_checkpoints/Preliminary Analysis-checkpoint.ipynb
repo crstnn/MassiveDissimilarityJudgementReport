{
 "cells": [
  {
   "cell_type": "markdown",
   "id": "14351d42-33cb-48e3-83cf-ad64594309c7",
   "metadata": {},
   "source": [
    "# Preliminary Analysis of Dominik's 93 Colour Patch Comparison Data"
   ]
  },
  {
   "cell_type": "markdown",
   "id": "624bc122-04e9-4619-88ca-5a0003cfa479",
   "metadata": {},
   "source": [
    "2022-Jan-28  \n",
    "Ariel Zeleznikow-Johnston"
   ]
  },
  {
   "cell_type": "code",
   "execution_count": 1,
   "id": "df255c52-512d-4ea2-968f-c9e08791d980",
   "metadata": {},
   "outputs": [],
   "source": [
    "# hardcoded values\n",
    "n.compare = 320\n",
    "cor_threshold = 0.5\n",
    "n.stim = 93\n",
    "catch_threshold = 70"
   ]
  },
  {
   "cell_type": "code",
   "execution_count": 2,
   "id": "58743a36-c581-4198-b584-8916c6501142",
   "metadata": {},
   "outputs": [],
   "source": [
    "Sys.setenv(RGL_USE_NULL = TRUE)\n",
    "library(rlang)\n",
    "library(rgl)\n",
    "library(stringr)"
   ]
  },
  {
   "cell_type": "code",
   "execution_count": 3,
   "id": "abd5314e-e30a-408d-8665-b8e1c73b9749",
   "metadata": {
    "tags": []
   },
   "outputs": [
    {
     "name": "stderr",
     "output_type": "stream",
     "text": [
      "Skipping install of 'webshot2' from a github remote, the SHA1 (dff26265) has not changed since last install.\n",
      "  Use `force = TRUE` to force installation\n",
      "\n"
     ]
    }
   ],
   "source": [
    "library(remotes)\n",
    "remotes::install_github(\"rstudio/webshot2\")\n"
   ]
  },
  {
   "cell_type": "code",
   "execution_count": 4,
   "id": "42ff4941-47f0-4de0-9e76-e477e3b470f8",
   "metadata": {},
   "outputs": [
    {
     "name": "stdout",
     "output_type": "stream",
     "text": [
      "package 'rsample' successfully unpacked and MD5 sums checked\n",
      "\n",
      "The downloaded binary packages are in\n",
      "\tC:\\Users\\zelez\\AppData\\Local\\Temp\\RtmpkLmSDT\\downloaded_packages\n"
     ]
    }
   ],
   "source": [
    "install.packages(\"rsample\")"
   ]
  },
  {
   "cell_type": "code",
   "execution_count": 5,
   "id": "925aea7e-4bd2-42f9-815e-2c858aea8b6c",
   "metadata": {},
   "outputs": [],
   "source": [
    "library(webshot2)"
   ]
  },
  {
   "cell_type": "code",
   "execution_count": 6,
   "id": "f4b2772d-6281-4f0d-b104-19a56782a5bc",
   "metadata": {},
   "outputs": [],
   "source": [
    "library(entropy)"
   ]
  },
  {
   "cell_type": "code",
   "execution_count": 7,
   "id": "3886692e-8ef9-4012-8353-f87f14043dad",
   "metadata": {},
   "outputs": [
    {
     "name": "stderr",
     "output_type": "stream",
     "text": [
      "-- \u001b[1mAttaching packages\u001b[22m ----------------------------------------------------------------------------------------------------------------------------------- tidyverse 1.3.1 --\n",
      "\n",
      "\u001b[32mv\u001b[39m \u001b[34mggplot2\u001b[39m 3.3.6     \u001b[32mv\u001b[39m \u001b[34mpurrr  \u001b[39m 0.3.4\n",
      "\u001b[32mv\u001b[39m \u001b[34mtibble \u001b[39m 3.1.4     \u001b[32mv\u001b[39m \u001b[34mdplyr  \u001b[39m 1.0.8\n",
      "\u001b[32mv\u001b[39m \u001b[34mtidyr  \u001b[39m 1.2.0     \u001b[32mv\u001b[39m \u001b[34mforcats\u001b[39m 0.5.1\n",
      "\u001b[32mv\u001b[39m \u001b[34mreadr  \u001b[39m 2.0.2     \n",
      "\n",
      "-- \u001b[1mConflicts\u001b[22m -------------------------------------------------------------------------------------------------------------------------------------- tidyverse_conflicts() --\n",
      "\u001b[31mx\u001b[39m \u001b[34mpurrr\u001b[39m::\u001b[32m%@%()\u001b[39m         masks \u001b[34mrlang\u001b[39m::%@%()\n",
      "\u001b[31mx\u001b[39m \u001b[34mpurrr\u001b[39m::\u001b[32mas_function()\u001b[39m masks \u001b[34mrlang\u001b[39m::as_function()\n",
      "\u001b[31mx\u001b[39m \u001b[34mdplyr\u001b[39m::\u001b[32mfilter()\u001b[39m      masks \u001b[34mstats\u001b[39m::filter()\n",
      "\u001b[31mx\u001b[39m \u001b[34mpurrr\u001b[39m::\u001b[32mflatten()\u001b[39m     masks \u001b[34mrlang\u001b[39m::flatten()\n",
      "\u001b[31mx\u001b[39m \u001b[34mpurrr\u001b[39m::\u001b[32mflatten_chr()\u001b[39m masks \u001b[34mrlang\u001b[39m::flatten_chr()\n",
      "\u001b[31mx\u001b[39m \u001b[34mpurrr\u001b[39m::\u001b[32mflatten_dbl()\u001b[39m masks \u001b[34mrlang\u001b[39m::flatten_dbl()\n",
      "\u001b[31mx\u001b[39m \u001b[34mpurrr\u001b[39m::\u001b[32mflatten_int()\u001b[39m masks \u001b[34mrlang\u001b[39m::flatten_int()\n",
      "\u001b[31mx\u001b[39m \u001b[34mpurrr\u001b[39m::\u001b[32mflatten_lgl()\u001b[39m masks \u001b[34mrlang\u001b[39m::flatten_lgl()\n",
      "\u001b[31mx\u001b[39m \u001b[34mpurrr\u001b[39m::\u001b[32mflatten_raw()\u001b[39m masks \u001b[34mrlang\u001b[39m::flatten_raw()\n",
      "\u001b[31mx\u001b[39m \u001b[34mpurrr\u001b[39m::\u001b[32minvoke()\u001b[39m      masks \u001b[34mrlang\u001b[39m::invoke()\n",
      "\u001b[31mx\u001b[39m \u001b[34mdplyr\u001b[39m::\u001b[32mlag()\u001b[39m         masks \u001b[34mstats\u001b[39m::lag()\n",
      "\u001b[31mx\u001b[39m \u001b[34mpurrr\u001b[39m::\u001b[32msplice()\u001b[39m      masks \u001b[34mrlang\u001b[39m::splice()\n",
      "\n"
     ]
    },
    {
     "name": "stdout",
     "output_type": "stream",
     "text": [
      "package 'ramify' successfully unpacked and MD5 sums checked\n",
      "\n",
      "The downloaded binary packages are in\n",
      "\tC:\\Users\\zelez\\AppData\\Local\\Temp\\RtmpkLmSDT\\downloaded_packages\n",
      "package 'reshape2' successfully unpacked and MD5 sums checked\n",
      "\n",
      "The downloaded binary packages are in\n",
      "\tC:\\Users\\zelez\\AppData\\Local\\Temp\\RtmpkLmSDT\\downloaded_packages\n"
     ]
    },
    {
     "name": "stderr",
     "output_type": "stream",
     "text": [
      "Loading required package: viridisLite\n",
      "\n",
      "\n",
      "Attaching package: 'MASS'\n",
      "\n",
      "\n",
      "The following object is masked from 'package:dplyr':\n",
      "\n",
      "    select\n",
      "\n",
      "\n"
     ]
    },
    {
     "name": "stdout",
     "output_type": "stream",
     "text": [
      "package 'hrbrthemes' successfully unpacked and MD5 sums checked\n",
      "\n",
      "The downloaded binary packages are in\n",
      "\tC:\\Users\\zelez\\AppData\\Local\\Temp\\RtmpkLmSDT\\downloaded_packages\n"
     ]
    },
    {
     "name": "stderr",
     "output_type": "stream",
     "text": [
      "\n",
      "Attaching package: 'scales'\n",
      "\n",
      "\n",
      "The following object is masked from 'package:viridis':\n",
      "\n",
      "    viridis_pal\n",
      "\n",
      "\n",
      "The following object is masked from 'package:purrr':\n",
      "\n",
      "    discard\n",
      "\n",
      "\n",
      "The following object is masked from 'package:readr':\n",
      "\n",
      "    col_factor\n",
      "\n",
      "\n"
     ]
    },
    {
     "name": "stdout",
     "output_type": "stream",
     "text": [
      "package 'pglm' successfully unpacked and MD5 sums checked\n",
      "\n",
      "The downloaded binary packages are in\n",
      "\tC:\\Users\\zelez\\AppData\\Local\\Temp\\RtmpkLmSDT\\downloaded_packages\n"
     ]
    },
    {
     "name": "stderr",
     "output_type": "stream",
     "text": [
      "\n",
      "Attaching package: 'gtools'\n",
      "\n",
      "\n",
      "The following object is masked from 'package:rlang':\n",
      "\n",
      "    chr\n",
      "\n",
      "\n"
     ]
    }
   ],
   "source": [
    "library(tidyverse)\n",
    "install.packages(\"ramify\")\n",
    "library(dplyr)\n",
    "library(ggplot2)\n",
    "install.packages(\"reshape2\")\n",
    "library(viridis)\n",
    "library(MASS)\n",
    "install.packages(\"hrbrthemes\")\n",
    "library(scales)\n",
    "library(broom)\n",
    "install.packages(\"pglm\")\n",
    "library(gtools)"
   ]
  },
  {
   "cell_type": "markdown",
   "id": "20915d66-e17f-4db4-81ee-5c27470352b1",
   "metadata": {},
   "source": [
    "### Loading Data"
   ]
  },
  {
   "cell_type": "code",
   "execution_count": 8,
   "id": "50cdb806-c4d8-4b01-a92b-5f94329e5d0e",
   "metadata": {},
   "outputs": [],
   "source": [
    "# matching regex of any amount of characters then followed by .csv\n",
    "files <- list.files(path=\"./data\", pattern=\"*.csv\", full.names=TRUE)\n",
    "filesizes <- file.size(files)\n",
    "\n",
    "# individual participant files use a unique ID to mark which colour pairs they saw\n",
    "truthColourTableColumnNames <- c(\"r1\", \"g1\", \"b1\", \"r2\", \"g2\", \"b2\")\n",
    "truthColourTable <- read.csv(\"./colourcodes/colourcodes.csv\", header=F)\n",
    "names(truthColourTable) <- truthColourTableColumnNames\n",
    "\n",
    "# not sure what the point of this is...?\n",
    "files <- files[-(which(filesizes < 4))]\n",
    "\n",
    "pilotdata <- sapply(files, read.csv, simplify=FALSE) %>% bind_rows(.id = \"fileId\")"
   ]
  },
  {
   "cell_type": "code",
   "execution_count": 9,
   "id": "c92f6abf-55c1-4710-b525-db2ce4aa00cc",
   "metadata": {},
   "outputs": [],
   "source": [
    "# changing realcomparison from zero-indexed to one-indexed\n",
    "\n",
    "participantsIDFrame <- data.frame(unique(pilotdata$participant))\n",
    "\n",
    "pilotdata <- pilotdata %>% arrange(\"participant\")"
   ]
  },
  {
   "cell_type": "code",
   "execution_count": 10,
   "id": "6be27c56-b064-425f-9e60-554576da3a5c",
   "metadata": {},
   "outputs": [],
   "source": [
    "# variables of interest from collected data\n",
    "trial_vars<- c( \"participant\", \"practice_comparison\", \"pracsimilarity\", \"realcomparison\", \"similarity\", \"response_time\", \"trials_2.thisN\") \n",
    "catch_vars<- c(\"participant\", \"catch_response_time\", \"catchnumberprac\", \"catchpracsimilarity\", \"catchnumber\", \"catchsimilarity\", \"catchRT\", \"catchtrialorder\")\n",
    "trialdata <- (pilotdata %>% filter(!is.na(realcomparison)))[trial_vars] # no catch trials\n",
    "catchdata <- (pilotdata %>% filter(!is.na(catchnumber)))[catch_vars] # no main trials\n",
    "trialdata = rename(trialdata, dissimilarity = similarity)\n",
    "\n",
    "trialdata$realcomparison <- trialdata$realcomparison + 1 # fixing the indexing?\n",
    "\n",
    "rgb2hex <- function(r, g, b) {rgb(r, g, b, maxColorValue = 255)}"
   ]
  },
  {
   "cell_type": "code",
   "execution_count": 11,
   "id": "48ed3f9d-489b-47f3-b826-85206e6da5a2",
   "metadata": {},
   "outputs": [],
   "source": [
    "# getting the colour pair comparison information\n",
    "\n",
    "# compartmentalising the two dots presented to participants\n",
    "firstColourSet <- truthColourTable[,truthColourTableColumnNames[1:3]]\n",
    "secondColourSet <- truthColourTable[,truthColourTableColumnNames[4:6]]\n",
    "\n",
    "names(firstColourSet) <- names(secondColourSet) <- c(\"r\", \"g\", \"b\")\n",
    "\n",
    "#conversion of 3 RGB columns in both colour tables to HEX for easier manipulation\n",
    "firstColourSetHEX <- apply(firstColourSet, 1, function (x) rgb2hex(x[1], x[2], x[3]))\n",
    "secondColourSetHEX <- apply(secondColourSet, 1, function (x) rgb2hex(x[1], x[2], x[3]))\n",
    "                            \n",
    "#conversion of 3 RGB columns in both colour tables to HEX for easier manipulation\n",
    "firstColourSetHEX <- apply(firstColourSet, 1, function (x) rgb2hex(x[1], x[2], x[3]))\n",
    "secondColourSetHEX <- apply(secondColourSet, 1, function (x) rgb2hex(x[1], x[2], x[3]))\n",
    "\n",
    "# colourSetHEX is used as a reference throughout the rest of the analysis for the colour pair comparisons     \n",
    "colourSetHEX <- data.frame(firstColour = firstColourSetHEX, secondColour = secondColourSetHEX)\n"
   ]
  },
  {
   "cell_type": "markdown",
   "id": "81e8f595-ca83-420d-9ab7-0dd85e30600f",
   "metadata": {},
   "source": [
    "### Cleaning Data"
   ]
  },
  {
   "cell_type": "markdown",
   "id": "81b40a80-1e23-4d74-b1a2-d2ef62f9f141",
   "metadata": {},
   "source": [
    "##### Catch Trials"
   ]
  },
  {
   "cell_type": "code",
   "execution_count": 12,
   "id": "bc41d0f8-f561-42a8-9e1f-2bc310ce9d3b",
   "metadata": {},
   "outputs": [],
   "source": [
    "# catch trial scoring\n",
    "#hist(catchdataParticipant$accuracy)\n"
   ]
  },
  {
   "cell_type": "code",
   "execution_count": 13,
   "id": "20abf6df-13e7-4ef9-b7c2-44b12426e6bd",
   "metadata": {},
   "outputs": [],
   "source": [
    "# assess whether participants passed\n",
    "catch.assess <- function(catchdata){\n",
    "    catchdata <- catchdata %>% mutate(is_valid_catch_response = if_else(catchnumber == catchsimilarity, 1, 0), is_invalid_catch_response = if_else(catchnumber != catchsimilarity, 1, 0))\n",
    "    catchdataParticipant <- catchdata %>% group_by(participant) %>% \n",
    "      summarise(correct_responses=sum(is_valid_catch_response), incorrect_responses = sum(is_invalid_catch_response))\n",
    "\n",
    "    catchdataParticipant$total <- catchdataParticipant$correct_responses + catchdataParticipant$incorrect_responses\n",
    "    catchdataParticipant$accuracy <- (catchdataParticipant$correct_responses/catchdataParticipant$total) * 100\n",
    "    return(catchdataParticipant)\n",
    "}\n",
    "\n",
    "# remove participants who scored below a certain threshold\n",
    "catch.remove <- function(catchdata, trialdata, threshold){\n",
    "    catch.participant <- catch.assess(catchdata)\n",
    "    passed <- subset(catch.participant, accuracy >= threshold)$participant\n",
    "    clean <- subset(trialdata, trialdata$participant %in% passed)\n",
    "    return(clean)\n",
    "}\n"
   ]
  },
  {
   "cell_type": "code",
   "execution_count": 14,
   "id": "4db0363e-c4e6-49f7-88a1-04a0cc69f279",
   "metadata": {},
   "outputs": [],
   "source": [
    "# clean the trial data\n",
    "clean.data <- catch.remove(catchdata,trialdata,catch_threshold) # using 80% threshold"
   ]
  },
  {
   "cell_type": "markdown",
   "id": "68ec94b4-fa08-424b-a2a6-4876fcf213af",
   "metadata": {},
   "source": [
    "##### Within-subject double pass consistency"
   ]
  },
  {
   "cell_type": "code",
   "execution_count": 15,
   "id": "1baa7082-6406-48db-a5ba-728284d0f9fc",
   "metadata": {},
   "outputs": [],
   "source": [
    "# each participant should have completed 320 trials\n",
    "count.remove <- function(data, threshold){\n",
    "    count <- data %>% count(participant)\n",
    "    passed <- subset(count, n == threshold)$participant\n",
    "    clean <- subset(data, participant %in% passed)\n",
    "    return(clean)\n",
    "}\n",
    "\n",
    "clean.data <- count.remove(clean.data,n.compare)"
   ]
  },
  {
   "cell_type": "markdown",
   "id": "798acd1b-8f4c-4f94-a8d9-e55f80981893",
   "metadata": {},
   "source": [
    "##### Within-subject double pass consistency"
   ]
  },
  {
   "cell_type": "code",
   "execution_count": 16,
   "id": "c3a30604-f773-409a-8078-116e4d3533a6",
   "metadata": {},
   "outputs": [
    {
     "name": "stderr",
     "output_type": "stream",
     "text": [
      "Warning message in cor(v1, v2):\n",
      "\"the standard deviation is zero\"\n",
      "Something went wrong with correlations for participant: 60fdee1f5bb38a56c58631bc\n",
      "\n"
     ]
    }
   ],
   "source": [
    "double.pass.check <- function(data){\n",
    "    v1 <- data$dissimilarity[1:(n.compare/2)]\n",
    "    v2 <- data$dissimilarity[(n.compare/2+1):n.compare]\n",
    "    return(cor(v1,v2))\n",
    "}\n",
    "\n",
    "pass.remove <- function(data, threshold=cor_threshold){\n",
    "    IDs <- unique(data$participant)\n",
    "    passed <- vector()\n",
    "    for(id in IDs){\n",
    "        tryCatch(\n",
    "            {\n",
    "                if(double.pass.check(subset(data, participant == id)) >= threshold){\n",
    "                    passed <- c(passed,id)\n",
    "                }\n",
    "            },\n",
    "            error=function(cond){\n",
    "                message(paste(\"Something went wrong with correlations for participant:\",id))\n",
    "            }\n",
    "        )\n",
    "        \n",
    "    }\n",
    "    clean <- subset(data, participant %in% passed)\n",
    "    return(clean)\n",
    "}\n",
    "\n",
    "clean.data <- pass.remove(clean.data)"
   ]
  },
  {
   "cell_type": "markdown",
   "id": "f61c300b-ad30-4fb3-9556-f9dbe87528d9",
   "metadata": {},
   "source": [
    "### Descriptive plots & statistics"
   ]
  },
  {
   "cell_type": "markdown",
   "id": "4802ca6f-42f9-426f-a18c-7ea0c92f9214",
   "metadata": {},
   "source": [
    "##### Matrix Visualisations"
   ]
  },
  {
   "cell_type": "markdown",
   "id": "89845cda-1b75-4b48-ba6a-40ae56ca3d77",
   "metadata": {},
   "source": [
    "Setting up the matrix"
   ]
  },
  {
   "cell_type": "code",
   "execution_count": 17,
   "id": "44ec34a3-f78e-4c89-a993-8772bad3fbe4",
   "metadata": {},
   "outputs": [],
   "source": [
    "# read in the colour comparison truth table\n",
    "colourSetHEX <- data.frame(firstColour = firstColourSetHEX, secondColour = secondColourSetHEX)\n",
    "\n",
    "rowsTotalSetHEX <- rbind(data.frame(colour = firstColourSetHEX), data.frame(colour = secondColourSetHEX)) %>% group_by_all %>% count\n",
    "\n",
    "# preliminary check that the data has been read in correctly\n",
    "countOfUniqueRowsFirstSet <- length(unique(firstColourSetHEX))\n",
    "countOfUniqueRowsSecondSet <- length(unique(secondColourSetHEX))\n",
    "countOfUniqueRowsTotalSet <- length(rowsTotalSetHEX$colour)"
   ]
  },
  {
   "cell_type": "code",
   "execution_count": 18,
   "id": "8e08265d-03c3-4bfa-b782-2ae1247aed97",
   "metadata": {},
   "outputs": [],
   "source": [
    "# set lower triangle of matrix to NA - this gives heatmap its unique upper triangle\n",
    "upperTriangularMatrix <- upper.tri(matrix(1, ncol = countOfUniqueRowsTotalSet, nrow = countOfUniqueRowsTotalSet), \n",
    "                              diag = FALSE)\n",
    "upperTriangularMatrix[upperTriangularMatrix == 1] <- NA\n",
    "color.mat.df <- data.frame(upperTriangularMatrix)\n",
    "color.mat <- upperTriangularMatrix\n",
    "\n",
    "#head(uniqueColourCountDF)"
   ]
  },
  {
   "cell_type": "code",
   "execution_count": 19,
   "id": "4e3177d4-a01e-4bfe-bf63-b1c6228d16ed",
   "metadata": {},
   "outputs": [],
   "source": [
    "# setting all give colours as both row and column names\n",
    "colnames(color.mat.df) <- rownames(color.mat.df) <- rowsTotalSetHEX$colour\n",
    "colnames(color.mat) <- rownames(color.mat) <- rowsTotalSetHEX$colour"
   ]
  },
  {
   "cell_type": "markdown",
   "id": "97a3462e-aded-4bea-85c7-727dae4cba72",
   "metadata": {},
   "source": [
    "Matrix plot of group mean for each comparison"
   ]
  },
  {
   "cell_type": "code",
   "execution_count": 20,
   "id": "0a7c9901-9661-420f-8988-0547750eb670",
   "metadata": {},
   "outputs": [],
   "source": [
    "# get mean dissimilarity for each colour comparison\n",
    "group.mean <- clean.data %>% \n",
    "                group_by(realcomparison) %>% \n",
    "                summarise(across(dissimilarity, mean, na.rm = TRUE))"
   ]
  },
  {
   "cell_type": "code",
   "execution_count": 21,
   "id": "85417eb6-8668-4c3c-8b81-a01f49b41e2a",
   "metadata": {},
   "outputs": [],
   "source": [
    "# create a mean dissimilarity dataframe using realcomparison indexing\n",
    "group.avg.df <- function(data, colors.df){\n",
    "    means.df <- data %>%\n",
    "                group_by(realcomparison) %>%\n",
    "                summarise(across(dissimilarity, mean, na.rm = TRUE))\n",
    "    # sorting \n",
    "    means.df$realcomparison <- as.numeric(means.df$realcomparison)\n",
    "    # fill in NA values\n",
    "    if(nrow(means.df) < 4371){\n",
    "        full <- 1:4371\n",
    "        incomplete <- means.df$realcomparison\n",
    "        missing <- setdiff(full,incomplete)\n",
    "        addon <- tibble(realcomparison = missing, dissimilarity = NA)\n",
    "        means.df <- rbind(means.df,addon)\n",
    "        \n",
    "    }\n",
    "    # get it in the right format for making a matrix\n",
    "    means.df <- means.df[order(means.df$realcomparison),]\n",
    "    colors.df$value <- means.df$dissimilarity\n",
    "    return(colors.df)\n",
    "}"
   ]
  },
  {
   "cell_type": "code",
   "execution_count": 22,
   "id": "61b34a06-593a-4412-9489-737f8f15f911",
   "metadata": {},
   "outputs": [],
   "source": [
    "gp.mean.data <- colourSetHEX\n",
    "gp.mean.data$value <- group.mean$dissimilarity"
   ]
  },
  {
   "cell_type": "code",
   "execution_count": 23,
   "id": "541c6f05-a75b-414f-aa9b-3b50ffceea85",
   "metadata": {},
   "outputs": [],
   "source": [
    "#head(gp.mean.data)"
   ]
  },
  {
   "cell_type": "code",
   "execution_count": 24,
   "id": "ada27eb7-4a1d-4093-889b-ee102ef31f25",
   "metadata": {},
   "outputs": [],
   "source": [
    "# fill matrix\n",
    "matrix.df.fill <- function(data,matrix.df){\n",
    "    for(i in 1:nrow(data)){\n",
    "        #print(i)\n",
    "        row <- data[i,]\n",
    "        #print(matrix.df[row$firstColour,row$secondColour])\n",
    "        matrix.df[row$firstColour,row$secondColour] <- row$value\n",
    "        matrix.df[row$secondColour,row$firstColour] <- row$value # symmetric\n",
    "        #print(matrix.df[row$firstColour,row$secondColour])\n",
    "    }\n",
    "    return(matrix.df)\n",
    "}"
   ]
  },
  {
   "cell_type": "code",
   "execution_count": 25,
   "id": "29bd41eb-69af-4dd8-9939-2b04ab049b6b",
   "metadata": {},
   "outputs": [],
   "source": [
    "group.mean.mat.df <- matrix.df.fill(gp.mean.data,color.mat.df)\n"
   ]
  },
  {
   "cell_type": "code",
   "execution_count": 26,
   "id": "7d2686ca-488a-499e-9931-77e373ade13b",
   "metadata": {},
   "outputs": [],
   "source": [
    "# for visualisation purposes, make a column value indicating correlation with first row\n",
    "row.cor <- function(df){\n",
    "    v.cor <- vector()\n",
    "    for(i in 1:nrow(df)){\n",
    "        v.cor <- c(v.cor, cor(df[1],df[i]))\n",
    "    }    \n",
    "    return(v.cor)\n",
    "}\n",
    "\n",
    "row.factors <- function(colors, correlations){\n",
    "    colors$cor <- correlations\n",
    "    ordered <- colors[order(-colors$cor),]\n",
    "    return(ordered$colour)\n",
    "}\n",
    "\n",
    "row.facs <- row.factors(rowsTotalSetHEX,row.cor(group.mean.mat.df))"
   ]
  },
  {
   "cell_type": "code",
   "execution_count": 27,
   "id": "0657c1b9-bcc5-4560-9792-0be8ca7be64f",
   "metadata": {},
   "outputs": [],
   "source": [
    "group.mean.mat.df$color1 <- rowsTotalSetHEX$colour\n",
    "group.mean.mat.df$color2 <- rowsTotalSetHEX$colour"
   ]
  },
  {
   "cell_type": "code",
   "execution_count": 28,
   "id": "af939607-d9f0-42cf-8a3b-ccbad0501b09",
   "metadata": {},
   "outputs": [],
   "source": [
    "#head(group.mean.mat.df)"
   ]
  },
  {
   "cell_type": "code",
   "execution_count": 29,
   "id": "7c9fdcd1-7883-4de3-8295-b82d437154c7",
   "metadata": {},
   "outputs": [],
   "source": [
    "group.mean.df <- gather(group.mean.mat.df, color1, mean,\n",
    "                        rowsTotalSetHEX$colour[1]:rowsTotalSetHEX$colour[nrow(rowsTotalSetHEX)],\n",
    "                       factor_key=TRUE)"
   ]
  },
  {
   "cell_type": "code",
   "execution_count": 30,
   "id": "443cdd29-9849-4bc4-ba1f-01516535080b",
   "metadata": {},
   "outputs": [],
   "source": [
    "group.mean.df$color1 <- with(group.mean.df, factor(color1, levels = row.facs))\n",
    "group.mean.df$color2 <- with(group.mean.df, factor(color2, levels = row.facs))"
   ]
  },
  {
   "cell_type": "code",
   "execution_count": 51,
   "id": "75f284f1-0a89-48da-a825-330b191094c1",
   "metadata": {},
   "outputs": [
    {
     "name": "stderr",
     "output_type": "stream",
     "text": [
      "Warning message:\n",
      "\"Vectorized input to `element_text()` is not officially supported.\n",
      "Results may be unexpected or may change in future versions of ggplot2.\"\n",
      "Warning message:\n",
      "\"Vectorized input to `element_text()` is not officially supported.\n",
      "Results may be unexpected or may change in future versions of ggplot2.\"\n"
     ]
    }
   ],
   "source": [
    "# plot the matrix\n",
    "matrix.mean <- ggplot(group.mean.df, aes(x = color1, y = color2, fill = mean)) + geom_raster() + \n",
    "    theme(axis.text.x = element_text(colour=row.facs, angle=90),\n",
    "         axis.text.y = element_text(colour=row.facs)) +\n",
    "    scale_fill_gradientn(colours = c(\"white\",\"black\"),\n",
    "                        limits = c(0,7),\n",
    "                        breaks=c(0,1,2,3,4,5,6,7))\n",
    "ggsave(\"mean dissim matrix.png\",matrix.mean,height=15,width=17)\n",
    "    "
   ]
  },
  {
   "cell_type": "code",
   "execution_count": 52,
   "id": "c1ec7f49-fa60-47c6-bdd8-229bcb9a60bd",
   "metadata": {},
   "outputs": [
    {
     "data": {
      "text/html": [
       "<style>\n",
       ".list-inline {list-style: none; margin:0; padding: 0}\n",
       ".list-inline>li {display: inline-block}\n",
       ".list-inline>li:not(:last-child)::after {content: \"\\00b7\"; padding: 0 .5ex}\n",
       "</style>\n",
       "<ol class=list-inline><li>'#010300'</li><li>'#293028'</li><li>'#171639'</li><li>'#032040'</li><li>'#09384C'</li><li>'#331F3B'</li><li>'#0A3B38'</li><li>'#2F2874'</li><li>'#261D6E'</li><li>'#034E49'</li><li>'#163D1F'</li><li>'#03406F'</li><li>'#3F597A'</li><li>'#595F51'</li><li>'#4E486C'</li><li>'#5D6355'</li><li>'#430F59'</li><li>'#022C88'</li><li>'#0C4FA2'</li><li>'#52253C'</li><li>'#39319E'</li><li>'#02529A'</li><li>'#086E79'</li><li>'#642B7C'</li><li>'#716B92'</li><li>'#5D4263'</li><li>'#445507'</li><li>'#367467'</li><li>'#427AC4'</li><li>'#7171C9'</li><li>'#5F7AA7'</li><li>'#487F55'</li><li>'#207427'</li><li>'#685A14'</li><li>'#9DA193'</li><li>'#591D1F'</li><li>'#3394B7'</li><li>'#86A2C9'</li><li>'#8B5F92'</li><li>'#B4BAAC'</li><li>'#5891A2'</li><li>'#7E8274'</li><li>'#41A79A'</li><li>'#73B7C3'</li><li>'#68A899'</li><li>'#8F5AA8'</li><li>'#5FC16E'</li><li>'#40A144'</li><li>'#758E00'</li><li>'#7D0B45'</li><li>'#76450B'</li><li>'#9796C0'</li><li>'#83B37F'</li><li>'#A3E2AC'</li><li>'#8DCFC1'</li><li>'#84932A'</li><li>'#782918'</li><li>'#7C3D4E'</li><li>'#D8DACD'</li><li>'#B28AB7'</li><li>'#AAC901'</li><li>'#9C1C53'</li><li>'#A25739'</li><li>'#F6F7F1'</li><li>'#AEBE5A'</li><li>'#96484B'</li><li>'#C5DD24'</li><li>'#B06079'</li><li>'#9B081A'</li><li>'#A51A01'</li><li>'#DA0B27'</li><li>'#AF972D'</li><li>'#AE783C'</li><li>'#FCDD2A'</li><li>'#AC6401'</li><li>'#C4577A'</li><li>'#D8E26A'</li><li>'#E83406'</li><li>'#D3BE51'</li><li>'#E088A1'</li><li>'#FBEC77'</li><li>'#AA8F02'</li><li>'#F4D000'</li><li>'#D2797D'</li><li>'#E26164'</li><li>'#E67E72'</li><li>'#FF8F00'</li><li>'#F699A1'</li><li>'#FAC88D'</li><li>'#FB702E'</li><li>'#FBA628'</li><li>'#E49A5B'</li><li>'#FAAF99'</li></ol>\n"
      ],
      "text/latex": [
       "\\begin{enumerate*}\n",
       "\\item '\\#010300'\n",
       "\\item '\\#293028'\n",
       "\\item '\\#171639'\n",
       "\\item '\\#032040'\n",
       "\\item '\\#09384C'\n",
       "\\item '\\#331F3B'\n",
       "\\item '\\#0A3B38'\n",
       "\\item '\\#2F2874'\n",
       "\\item '\\#261D6E'\n",
       "\\item '\\#034E49'\n",
       "\\item '\\#163D1F'\n",
       "\\item '\\#03406F'\n",
       "\\item '\\#3F597A'\n",
       "\\item '\\#595F51'\n",
       "\\item '\\#4E486C'\n",
       "\\item '\\#5D6355'\n",
       "\\item '\\#430F59'\n",
       "\\item '\\#022C88'\n",
       "\\item '\\#0C4FA2'\n",
       "\\item '\\#52253C'\n",
       "\\item '\\#39319E'\n",
       "\\item '\\#02529A'\n",
       "\\item '\\#086E79'\n",
       "\\item '\\#642B7C'\n",
       "\\item '\\#716B92'\n",
       "\\item '\\#5D4263'\n",
       "\\item '\\#445507'\n",
       "\\item '\\#367467'\n",
       "\\item '\\#427AC4'\n",
       "\\item '\\#7171C9'\n",
       "\\item '\\#5F7AA7'\n",
       "\\item '\\#487F55'\n",
       "\\item '\\#207427'\n",
       "\\item '\\#685A14'\n",
       "\\item '\\#9DA193'\n",
       "\\item '\\#591D1F'\n",
       "\\item '\\#3394B7'\n",
       "\\item '\\#86A2C9'\n",
       "\\item '\\#8B5F92'\n",
       "\\item '\\#B4BAAC'\n",
       "\\item '\\#5891A2'\n",
       "\\item '\\#7E8274'\n",
       "\\item '\\#41A79A'\n",
       "\\item '\\#73B7C3'\n",
       "\\item '\\#68A899'\n",
       "\\item '\\#8F5AA8'\n",
       "\\item '\\#5FC16E'\n",
       "\\item '\\#40A144'\n",
       "\\item '\\#758E00'\n",
       "\\item '\\#7D0B45'\n",
       "\\item '\\#76450B'\n",
       "\\item '\\#9796C0'\n",
       "\\item '\\#83B37F'\n",
       "\\item '\\#A3E2AC'\n",
       "\\item '\\#8DCFC1'\n",
       "\\item '\\#84932A'\n",
       "\\item '\\#782918'\n",
       "\\item '\\#7C3D4E'\n",
       "\\item '\\#D8DACD'\n",
       "\\item '\\#B28AB7'\n",
       "\\item '\\#AAC901'\n",
       "\\item '\\#9C1C53'\n",
       "\\item '\\#A25739'\n",
       "\\item '\\#F6F7F1'\n",
       "\\item '\\#AEBE5A'\n",
       "\\item '\\#96484B'\n",
       "\\item '\\#C5DD24'\n",
       "\\item '\\#B06079'\n",
       "\\item '\\#9B081A'\n",
       "\\item '\\#A51A01'\n",
       "\\item '\\#DA0B27'\n",
       "\\item '\\#AF972D'\n",
       "\\item '\\#AE783C'\n",
       "\\item '\\#FCDD2A'\n",
       "\\item '\\#AC6401'\n",
       "\\item '\\#C4577A'\n",
       "\\item '\\#D8E26A'\n",
       "\\item '\\#E83406'\n",
       "\\item '\\#D3BE51'\n",
       "\\item '\\#E088A1'\n",
       "\\item '\\#FBEC77'\n",
       "\\item '\\#AA8F02'\n",
       "\\item '\\#F4D000'\n",
       "\\item '\\#D2797D'\n",
       "\\item '\\#E26164'\n",
       "\\item '\\#E67E72'\n",
       "\\item '\\#FF8F00'\n",
       "\\item '\\#F699A1'\n",
       "\\item '\\#FAC88D'\n",
       "\\item '\\#FB702E'\n",
       "\\item '\\#FBA628'\n",
       "\\item '\\#E49A5B'\n",
       "\\item '\\#FAAF99'\n",
       "\\end{enumerate*}\n"
      ],
      "text/markdown": [
       "1. '#010300'\n",
       "2. '#293028'\n",
       "3. '#171639'\n",
       "4. '#032040'\n",
       "5. '#09384C'\n",
       "6. '#331F3B'\n",
       "7. '#0A3B38'\n",
       "8. '#2F2874'\n",
       "9. '#261D6E'\n",
       "10. '#034E49'\n",
       "11. '#163D1F'\n",
       "12. '#03406F'\n",
       "13. '#3F597A'\n",
       "14. '#595F51'\n",
       "15. '#4E486C'\n",
       "16. '#5D6355'\n",
       "17. '#430F59'\n",
       "18. '#022C88'\n",
       "19. '#0C4FA2'\n",
       "20. '#52253C'\n",
       "21. '#39319E'\n",
       "22. '#02529A'\n",
       "23. '#086E79'\n",
       "24. '#642B7C'\n",
       "25. '#716B92'\n",
       "26. '#5D4263'\n",
       "27. '#445507'\n",
       "28. '#367467'\n",
       "29. '#427AC4'\n",
       "30. '#7171C9'\n",
       "31. '#5F7AA7'\n",
       "32. '#487F55'\n",
       "33. '#207427'\n",
       "34. '#685A14'\n",
       "35. '#9DA193'\n",
       "36. '#591D1F'\n",
       "37. '#3394B7'\n",
       "38. '#86A2C9'\n",
       "39. '#8B5F92'\n",
       "40. '#B4BAAC'\n",
       "41. '#5891A2'\n",
       "42. '#7E8274'\n",
       "43. '#41A79A'\n",
       "44. '#73B7C3'\n",
       "45. '#68A899'\n",
       "46. '#8F5AA8'\n",
       "47. '#5FC16E'\n",
       "48. '#40A144'\n",
       "49. '#758E00'\n",
       "50. '#7D0B45'\n",
       "51. '#76450B'\n",
       "52. '#9796C0'\n",
       "53. '#83B37F'\n",
       "54. '#A3E2AC'\n",
       "55. '#8DCFC1'\n",
       "56. '#84932A'\n",
       "57. '#782918'\n",
       "58. '#7C3D4E'\n",
       "59. '#D8DACD'\n",
       "60. '#B28AB7'\n",
       "61. '#AAC901'\n",
       "62. '#9C1C53'\n",
       "63. '#A25739'\n",
       "64. '#F6F7F1'\n",
       "65. '#AEBE5A'\n",
       "66. '#96484B'\n",
       "67. '#C5DD24'\n",
       "68. '#B06079'\n",
       "69. '#9B081A'\n",
       "70. '#A51A01'\n",
       "71. '#DA0B27'\n",
       "72. '#AF972D'\n",
       "73. '#AE783C'\n",
       "74. '#FCDD2A'\n",
       "75. '#AC6401'\n",
       "76. '#C4577A'\n",
       "77. '#D8E26A'\n",
       "78. '#E83406'\n",
       "79. '#D3BE51'\n",
       "80. '#E088A1'\n",
       "81. '#FBEC77'\n",
       "82. '#AA8F02'\n",
       "83. '#F4D000'\n",
       "84. '#D2797D'\n",
       "85. '#E26164'\n",
       "86. '#E67E72'\n",
       "87. '#FF8F00'\n",
       "88. '#F699A1'\n",
       "89. '#FAC88D'\n",
       "90. '#FB702E'\n",
       "91. '#FBA628'\n",
       "92. '#E49A5B'\n",
       "93. '#FAAF99'\n",
       "\n",
       "\n"
      ],
      "text/plain": [
       " [1] \"#010300\" \"#293028\" \"#171639\" \"#032040\" \"#09384C\" \"#331F3B\" \"#0A3B38\"\n",
       " [8] \"#2F2874\" \"#261D6E\" \"#034E49\" \"#163D1F\" \"#03406F\" \"#3F597A\" \"#595F51\"\n",
       "[15] \"#4E486C\" \"#5D6355\" \"#430F59\" \"#022C88\" \"#0C4FA2\" \"#52253C\" \"#39319E\"\n",
       "[22] \"#02529A\" \"#086E79\" \"#642B7C\" \"#716B92\" \"#5D4263\" \"#445507\" \"#367467\"\n",
       "[29] \"#427AC4\" \"#7171C9\" \"#5F7AA7\" \"#487F55\" \"#207427\" \"#685A14\" \"#9DA193\"\n",
       "[36] \"#591D1F\" \"#3394B7\" \"#86A2C9\" \"#8B5F92\" \"#B4BAAC\" \"#5891A2\" \"#7E8274\"\n",
       "[43] \"#41A79A\" \"#73B7C3\" \"#68A899\" \"#8F5AA8\" \"#5FC16E\" \"#40A144\" \"#758E00\"\n",
       "[50] \"#7D0B45\" \"#76450B\" \"#9796C0\" \"#83B37F\" \"#A3E2AC\" \"#8DCFC1\" \"#84932A\"\n",
       "[57] \"#782918\" \"#7C3D4E\" \"#D8DACD\" \"#B28AB7\" \"#AAC901\" \"#9C1C53\" \"#A25739\"\n",
       "[64] \"#F6F7F1\" \"#AEBE5A\" \"#96484B\" \"#C5DD24\" \"#B06079\" \"#9B081A\" \"#A51A01\"\n",
       "[71] \"#DA0B27\" \"#AF972D\" \"#AE783C\" \"#FCDD2A\" \"#AC6401\" \"#C4577A\" \"#D8E26A\"\n",
       "[78] \"#E83406\" \"#D3BE51\" \"#E088A1\" \"#FBEC77\" \"#AA8F02\" \"#F4D000\" \"#D2797D\"\n",
       "[85] \"#E26164\" \"#E67E72\" \"#FF8F00\" \"#F699A1\" \"#FAC88D\" \"#FB702E\" \"#FBA628\"\n",
       "[92] \"#E49A5B\" \"#FAAF99\""
      ]
     },
     "metadata": {},
     "output_type": "display_data"
    }
   ],
   "source": [
    "row.facs"
   ]
  },
  {
   "cell_type": "markdown",
   "id": "ae3a8b0d-c9b9-47fe-9284-78fa279ddd82",
   "metadata": {},
   "source": [
    "Check for triangle inequality violations"
   ]
  },
  {
   "cell_type": "code",
   "execution_count": 32,
   "id": "f83d7a78-f091-4431-9aa9-2cc1a89e20ca",
   "metadata": {},
   "outputs": [
    {
     "data": {
      "text/html": [
       "<table class=\"dataframe\">\n",
       "<caption>A data.frame: 6 × 95</caption>\n",
       "<thead>\n",
       "\t<tr><th></th><th scope=col>#010300</th><th scope=col>#022C88</th><th scope=col>#02529A</th><th scope=col>#032040</th><th scope=col>#03406F</th><th scope=col>#034E49</th><th scope=col>#086E79</th><th scope=col>#09384C</th><th scope=col>#0A3B38</th><th scope=col>#0C4FA2</th><th scope=col>⋯</th><th scope=col>#F6F7F1</th><th scope=col>#FAAF99</th><th scope=col>#FAC88D</th><th scope=col>#FB702E</th><th scope=col>#FBA628</th><th scope=col>#FBEC77</th><th scope=col>#FCDD2A</th><th scope=col>#FF8F00</th><th scope=col>color1</th><th scope=col>color2</th></tr>\n",
       "\t<tr><th></th><th scope=col>&lt;dbl&gt;</th><th scope=col>&lt;dbl&gt;</th><th scope=col>&lt;dbl&gt;</th><th scope=col>&lt;dbl&gt;</th><th scope=col>&lt;dbl&gt;</th><th scope=col>&lt;dbl&gt;</th><th scope=col>&lt;dbl&gt;</th><th scope=col>&lt;dbl&gt;</th><th scope=col>&lt;dbl&gt;</th><th scope=col>&lt;dbl&gt;</th><th scope=col>⋯</th><th scope=col>&lt;dbl&gt;</th><th scope=col>&lt;dbl&gt;</th><th scope=col>&lt;dbl&gt;</th><th scope=col>&lt;dbl&gt;</th><th scope=col>&lt;dbl&gt;</th><th scope=col>&lt;dbl&gt;</th><th scope=col>&lt;dbl&gt;</th><th scope=col>&lt;dbl&gt;</th><th scope=col>&lt;chr&gt;</th><th scope=col>&lt;chr&gt;</th></tr>\n",
       "</thead>\n",
       "<tbody>\n",
       "\t<tr><th scope=row>#010300</th><td>0.000000</td><td>5.1818182</td><td>5.9000000</td><td>3.8214286</td><td>5.1666667</td><td>4.733333</td><td>5.117647</td><td>3.7500000</td><td>4.029412</td><td>5.350000</td><td>⋯</td><td>6.500000</td><td>6.605263</td><td>6.333333</td><td>6.833333</td><td>6.675000</td><td>6.500000</td><td>5.733333</td><td>6.619048</td><td>#010300</td><td>#010300</td></tr>\n",
       "\t<tr><th scope=row>#022C88</th><td>5.181818</td><td>0.1956522</td><td>1.1578947</td><td>2.5833333</td><td>0.9375000</td><td>3.181818</td><td>2.500000</td><td>2.5625000</td><td>4.923077</td><td>1.600000</td><td>⋯</td><td>6.233333</td><td>5.800000</td><td>6.000000</td><td>6.545455</td><td>6.000000</td><td>5.928571</td><td>5.657895</td><td>6.088235</td><td>#022C88</td><td>#022C88</td></tr>\n",
       "\t<tr><th scope=row>#02529A</th><td>5.900000</td><td>1.1578947</td><td>0.7352941</td><td>2.9210526</td><td>1.5714286</td><td>3.541667</td><td>2.075000</td><td>2.9444444</td><td>3.250000</td><td>0.500000</td><td>⋯</td><td>6.035714</td><td>5.472222</td><td>6.142857</td><td>6.092593</td><td>6.538462</td><td>6.038462</td><td>6.666667</td><td>5.631579</td><td>#02529A</td><td>#02529A</td></tr>\n",
       "\t<tr><th scope=row>#032040</th><td>3.821429</td><td>2.5833333</td><td>2.9210526</td><td>0.8076923</td><td>1.7692308</td><td>3.472222</td><td>2.875000</td><td>0.8333333</td><td>2.200000</td><td>3.157895</td><td>⋯</td><td>6.136364</td><td>6.352941</td><td>6.033333</td><td>6.229167</td><td>6.025000</td><td>6.058824</td><td>6.041667</td><td>6.263158</td><td>#032040</td><td>#032040</td></tr>\n",
       "\t<tr><th scope=row>#03406F</th><td>5.166667</td><td>0.9375000</td><td>1.5714286</td><td>1.7692308</td><td>0.7941176</td><td>3.277778</td><td>2.846154</td><td>1.4500000</td><td>3.136364</td><td>1.781250</td><td>⋯</td><td>6.000000</td><td>5.788462</td><td>6.357143</td><td>6.208333</td><td>6.200000</td><td>5.961538</td><td>5.625000</td><td>6.000000</td><td>#03406F</td><td>#03406F</td></tr>\n",
       "\t<tr><th scope=row>#034E49</th><td>4.733333</td><td>3.1818182</td><td>3.5416667</td><td>3.4722222</td><td>3.2777778</td><td>1.045455</td><td>2.115385</td><td>2.1250000</td><td>0.800000</td><td>2.900000</td><td>⋯</td><td>6.342105</td><td>6.406250</td><td>5.307692</td><td>5.750000</td><td>5.970588</td><td>5.785714</td><td>5.625000</td><td>6.343750</td><td>#034E49</td><td>#034E49</td></tr>\n",
       "</tbody>\n",
       "</table>\n"
      ],
      "text/latex": [
       "A data.frame: 6 × 95\n",
       "\\begin{tabular}{r|lllllllllllllllllllll}\n",
       "  & \\#010300 & \\#022C88 & \\#02529A & \\#032040 & \\#03406F & \\#034E49 & \\#086E79 & \\#09384C & \\#0A3B38 & \\#0C4FA2 & ⋯ & \\#F6F7F1 & \\#FAAF99 & \\#FAC88D & \\#FB702E & \\#FBA628 & \\#FBEC77 & \\#FCDD2A & \\#FF8F00 & color1 & color2\\\\\n",
       "  & <dbl> & <dbl> & <dbl> & <dbl> & <dbl> & <dbl> & <dbl> & <dbl> & <dbl> & <dbl> & ⋯ & <dbl> & <dbl> & <dbl> & <dbl> & <dbl> & <dbl> & <dbl> & <dbl> & <chr> & <chr>\\\\\n",
       "\\hline\n",
       "\t\\#010300 & 0.000000 & 5.1818182 & 5.9000000 & 3.8214286 & 5.1666667 & 4.733333 & 5.117647 & 3.7500000 & 4.029412 & 5.350000 & ⋯ & 6.500000 & 6.605263 & 6.333333 & 6.833333 & 6.675000 & 6.500000 & 5.733333 & 6.619048 & \\#010300 & \\#010300\\\\\n",
       "\t\\#022C88 & 5.181818 & 0.1956522 & 1.1578947 & 2.5833333 & 0.9375000 & 3.181818 & 2.500000 & 2.5625000 & 4.923077 & 1.600000 & ⋯ & 6.233333 & 5.800000 & 6.000000 & 6.545455 & 6.000000 & 5.928571 & 5.657895 & 6.088235 & \\#022C88 & \\#022C88\\\\\n",
       "\t\\#02529A & 5.900000 & 1.1578947 & 0.7352941 & 2.9210526 & 1.5714286 & 3.541667 & 2.075000 & 2.9444444 & 3.250000 & 0.500000 & ⋯ & 6.035714 & 5.472222 & 6.142857 & 6.092593 & 6.538462 & 6.038462 & 6.666667 & 5.631579 & \\#02529A & \\#02529A\\\\\n",
       "\t\\#032040 & 3.821429 & 2.5833333 & 2.9210526 & 0.8076923 & 1.7692308 & 3.472222 & 2.875000 & 0.8333333 & 2.200000 & 3.157895 & ⋯ & 6.136364 & 6.352941 & 6.033333 & 6.229167 & 6.025000 & 6.058824 & 6.041667 & 6.263158 & \\#032040 & \\#032040\\\\\n",
       "\t\\#03406F & 5.166667 & 0.9375000 & 1.5714286 & 1.7692308 & 0.7941176 & 3.277778 & 2.846154 & 1.4500000 & 3.136364 & 1.781250 & ⋯ & 6.000000 & 5.788462 & 6.357143 & 6.208333 & 6.200000 & 5.961538 & 5.625000 & 6.000000 & \\#03406F & \\#03406F\\\\\n",
       "\t\\#034E49 & 4.733333 & 3.1818182 & 3.5416667 & 3.4722222 & 3.2777778 & 1.045455 & 2.115385 & 2.1250000 & 0.800000 & 2.900000 & ⋯ & 6.342105 & 6.406250 & 5.307692 & 5.750000 & 5.970588 & 5.785714 & 5.625000 & 6.343750 & \\#034E49 & \\#034E49\\\\\n",
       "\\end{tabular}\n"
      ],
      "text/markdown": [
       "\n",
       "A data.frame: 6 × 95\n",
       "\n",
       "| <!--/--> | #010300 &lt;dbl&gt; | #022C88 &lt;dbl&gt; | #02529A &lt;dbl&gt; | #032040 &lt;dbl&gt; | #03406F &lt;dbl&gt; | #034E49 &lt;dbl&gt; | #086E79 &lt;dbl&gt; | #09384C &lt;dbl&gt; | #0A3B38 &lt;dbl&gt; | #0C4FA2 &lt;dbl&gt; | ⋯ ⋯ | #F6F7F1 &lt;dbl&gt; | #FAAF99 &lt;dbl&gt; | #FAC88D &lt;dbl&gt; | #FB702E &lt;dbl&gt; | #FBA628 &lt;dbl&gt; | #FBEC77 &lt;dbl&gt; | #FCDD2A &lt;dbl&gt; | #FF8F00 &lt;dbl&gt; | color1 &lt;chr&gt; | color2 &lt;chr&gt; |\n",
       "|---|---|---|---|---|---|---|---|---|---|---|---|---|---|---|---|---|---|---|---|---|---|\n",
       "| #010300 | 0.000000 | 5.1818182 | 5.9000000 | 3.8214286 | 5.1666667 | 4.733333 | 5.117647 | 3.7500000 | 4.029412 | 5.350000 | ⋯ | 6.500000 | 6.605263 | 6.333333 | 6.833333 | 6.675000 | 6.500000 | 5.733333 | 6.619048 | #010300 | #010300 |\n",
       "| #022C88 | 5.181818 | 0.1956522 | 1.1578947 | 2.5833333 | 0.9375000 | 3.181818 | 2.500000 | 2.5625000 | 4.923077 | 1.600000 | ⋯ | 6.233333 | 5.800000 | 6.000000 | 6.545455 | 6.000000 | 5.928571 | 5.657895 | 6.088235 | #022C88 | #022C88 |\n",
       "| #02529A | 5.900000 | 1.1578947 | 0.7352941 | 2.9210526 | 1.5714286 | 3.541667 | 2.075000 | 2.9444444 | 3.250000 | 0.500000 | ⋯ | 6.035714 | 5.472222 | 6.142857 | 6.092593 | 6.538462 | 6.038462 | 6.666667 | 5.631579 | #02529A | #02529A |\n",
       "| #032040 | 3.821429 | 2.5833333 | 2.9210526 | 0.8076923 | 1.7692308 | 3.472222 | 2.875000 | 0.8333333 | 2.200000 | 3.157895 | ⋯ | 6.136364 | 6.352941 | 6.033333 | 6.229167 | 6.025000 | 6.058824 | 6.041667 | 6.263158 | #032040 | #032040 |\n",
       "| #03406F | 5.166667 | 0.9375000 | 1.5714286 | 1.7692308 | 0.7941176 | 3.277778 | 2.846154 | 1.4500000 | 3.136364 | 1.781250 | ⋯ | 6.000000 | 5.788462 | 6.357143 | 6.208333 | 6.200000 | 5.961538 | 5.625000 | 6.000000 | #03406F | #03406F |\n",
       "| #034E49 | 4.733333 | 3.1818182 | 3.5416667 | 3.4722222 | 3.2777778 | 1.045455 | 2.115385 | 2.1250000 | 0.800000 | 2.900000 | ⋯ | 6.342105 | 6.406250 | 5.307692 | 5.750000 | 5.970588 | 5.785714 | 5.625000 | 6.343750 | #034E49 | #034E49 |\n",
       "\n"
      ],
      "text/plain": [
       "        #010300  #022C88   #02529A   #032040   #03406F   #034E49  #086E79 \n",
       "#010300 0.000000 5.1818182 5.9000000 3.8214286 5.1666667 4.733333 5.117647\n",
       "#022C88 5.181818 0.1956522 1.1578947 2.5833333 0.9375000 3.181818 2.500000\n",
       "#02529A 5.900000 1.1578947 0.7352941 2.9210526 1.5714286 3.541667 2.075000\n",
       "#032040 3.821429 2.5833333 2.9210526 0.8076923 1.7692308 3.472222 2.875000\n",
       "#03406F 5.166667 0.9375000 1.5714286 1.7692308 0.7941176 3.277778 2.846154\n",
       "#034E49 4.733333 3.1818182 3.5416667 3.4722222 3.2777778 1.045455 2.115385\n",
       "        #09384C   #0A3B38  #0C4FA2  <U+22EF>        #F6F7F1  #FAAF99  #FAC88D \n",
       "#010300 3.7500000 4.029412 5.350000 <U+22EF> 6.500000 6.605263 6.333333\n",
       "#022C88 2.5625000 4.923077 1.600000 <U+22EF> 6.233333 5.800000 6.000000\n",
       "#02529A 2.9444444 3.250000 0.500000 <U+22EF> 6.035714 5.472222 6.142857\n",
       "#032040 0.8333333 2.200000 3.157895 <U+22EF> 6.136364 6.352941 6.033333\n",
       "#03406F 1.4500000 3.136364 1.781250 <U+22EF> 6.000000 5.788462 6.357143\n",
       "#034E49 2.1250000 0.800000 2.900000 <U+22EF> 6.342105 6.406250 5.307692\n",
       "        #FB702E  #FBA628  #FBEC77  #FCDD2A  #FF8F00  color1  color2 \n",
       "#010300 6.833333 6.675000 6.500000 5.733333 6.619048 #010300 #010300\n",
       "#022C88 6.545455 6.000000 5.928571 5.657895 6.088235 #022C88 #022C88\n",
       "#02529A 6.092593 6.538462 6.038462 6.666667 5.631579 #02529A #02529A\n",
       "#032040 6.229167 6.025000 6.058824 6.041667 6.263158 #032040 #032040\n",
       "#03406F 6.208333 6.200000 5.961538 5.625000 6.000000 #03406F #03406F\n",
       "#034E49 5.750000 5.970588 5.785714 5.625000 6.343750 #034E49 #034E49"
      ]
     },
     "metadata": {},
     "output_type": "display_data"
    }
   ],
   "source": [
    "head(group.mean.mat.df)"
   ]
  },
  {
   "cell_type": "code",
   "execution_count": 33,
   "id": "5ecc5662-5b98-4cd0-8a1a-f418960f59c8",
   "metadata": {},
   "outputs": [],
   "source": [
    "# get rid of extraneous columns\n",
    "mean.mat.df <- subset(group.mean.mat.df, select = c(-color1, -color2))\n",
    "mean.mat <- data.matrix(mean.mat.df)\n"
   ]
  },
  {
   "cell_type": "code",
   "execution_count": 34,
   "id": "3c394812-66a6-464c-9ff9-aaca0799da81",
   "metadata": {},
   "outputs": [],
   "source": [
    "mean.mat[lower.tri(mean.mat, diag = FALSE)] <- NA\n",
    "#head(mean.mat)"
   ]
  },
  {
   "cell_type": "code",
   "execution_count": 35,
   "id": "44ec19c1-249a-4318-86c0-4a2fb1db4e6c",
   "metadata": {},
   "outputs": [],
   "source": [
    "# test for triangle inequality violation given three values\n",
    "tri.violate <- function(vals){\n",
    "        \n",
    "    vals <- sort(vals) # sort from smallest to largest dissimilarity\n",
    "    if(anyNA(vals)){\n",
    "        return(FALSE) # don't bother with NAs, e.g. in lower triangle of matrix\n",
    "    }\n",
    "    if(vals[3] > (vals[1] + vals[2])){ # I think this is all that's needed\n",
    "        return(TRUE)\n",
    "    } else if (vals[2] > vals[1] + vals[3]) { # don't think this is possible\n",
    "        return(TRUE)\n",
    "    } else if (vals[1] > vals[2] + vals[1]){ # don't think this is possible\n",
    "        return(TRUE)\n",
    "    }\n",
    "    else {\n",
    "        return(FALSE)\n",
    "    }\n",
    "}"
   ]
  },
  {
   "cell_type": "code",
   "execution_count": 36,
   "id": "d07558ce-e38b-4bd6-af59-b3a305fbcbf8",
   "metadata": {},
   "outputs": [],
   "source": [
    "# perform the test across all of a subject's judgments\n",
    "mat.tri.violate <- function(mat){\n",
    "    n.stim <- nrow(mat)\n",
    "    violations <- list()\n",
    "    i.violate = 1\n",
    "    for(i in 1:(n.stim-3)){\n",
    "        for(j in (i+1):(n.stim-2)){\n",
    "            k = 1\n",
    "            while(k < (n.stim-j+1)){\n",
    "                \n",
    "                #testing\n",
    "                #print(paste(\"i:\",i,\"j:\",j,\"k:\",k,\"k+j\",k+j))\n",
    "                \n",
    "                stimuli <- c(i,j,j+k)\n",
    "                d.ij <- mat[i,j]\n",
    "                d.jk <- mat[j,j+k]\n",
    "                d.ik <- mat[i,j+k]\n",
    "                vals <- c(d.ij, d.jk, d.ik)\n",
    "                if(tri.violate(vals)){\n",
    "                    violations[[i.violate]] <- stimuli\n",
    "                    i.violate <- i.violate+1\n",
    "                }\n",
    "                k <- k + 1\n",
    "            }\n",
    "        }\n",
    "    }\n",
    "    return(violations)\n",
    "}"
   ]
  },
  {
   "cell_type": "code",
   "execution_count": 37,
   "id": "0cc11a81-7584-46b8-b787-3ef02aadcec8",
   "metadata": {},
   "outputs": [],
   "source": [
    "score.tri.violate <- function(mat){\n",
    "    count <- length(mat.tri.violate(mat))\n",
    "    n.stim <- nrow(mat)\n",
    "    n.combo <- length(combinations(n.stim,3)) / 2 # is this right? Removing symmetry redundancy?\n",
    "    return(count/n.combo)\n",
    "}"
   ]
  },
  {
   "cell_type": "code",
   "execution_count": 38,
   "id": "606c697b-013b-4320-9211-63df95b6e5be",
   "metadata": {},
   "outputs": [
    {
     "data": {
      "text/html": [
       "0.00391987629014277"
      ],
      "text/latex": [
       "0.00391987629014277"
      ],
      "text/markdown": [
       "0.00391987629014277"
      ],
      "text/plain": [
       "[1] 0.003919876"
      ]
     },
     "metadata": {},
     "output_type": "display_data"
    }
   ],
   "source": [
    "score.tri.violate(mean.mat)"
   ]
  },
  {
   "cell_type": "markdown",
   "id": "d378f5ef-6530-42aa-bcfd-c2f36d1eaec0",
   "metadata": {},
   "source": [
    "Check normalised trace"
   ]
  },
  {
   "cell_type": "code",
   "execution_count": 39,
   "id": "3b4b667f-6f22-4134-83a9-7d6314b5fefb",
   "metadata": {},
   "outputs": [
    {
     "data": {
      "text/html": [
       "0.587030796074954"
      ],
      "text/latex": [
       "0.587030796074954"
      ],
      "text/markdown": [
       "0.587030796074954"
      ],
      "text/plain": [
       "[1] 0.5870308"
      ]
     },
     "metadata": {},
     "output_type": "display_data"
    }
   ],
   "source": [
    "group.norm.trace <- sum(diag(mean.mat))/nrow(mean.mat)\n",
    "group.norm.trace"
   ]
  },
  {
   "cell_type": "markdown",
   "id": "87c8a702-a54b-4a3a-bf2d-e842bbf2c5b5",
   "metadata": {},
   "source": [
    "##### Dissimilarity Distributions"
   ]
  },
  {
   "cell_type": "code",
   "execution_count": 40,
   "id": "88b22777-3585-4af5-aeae-7926e18f4b72",
   "metadata": {},
   "outputs": [
    {
     "name": "stderr",
     "output_type": "stream",
     "text": [
      "Warning message:\n",
      "\"Removed 2 rows containing missing values (geom_bar).\"\n"
     ]
    },
    {
     "data": {
      "image/png": "[encoded data removed]",
      "text/plain": [
       "plot without title"
      ]
     },
     "metadata": {
      "image/png": {
       "height": 420,
       "width": 420
      }
     },
     "output_type": "display_data"
    }
   ],
   "source": [
    "# distribution of dissimilarity values\n",
    "dissim.distr <- ggplot(group.mean.df, aes(x=mean)) + geom_histogram(binwidth=0.25) +\n",
    "                xlim(0,7) + xlab('Dissimilarity') + ggtitle('Group Mean') + scale_y_continuous(trans='log1p')\n",
    "dissim.distr"
   ]
  },
  {
   "cell_type": "code",
   "execution_count": 41,
   "id": "8115c3af-a297-4fe7-a181-ed6e7ba23d48",
   "metadata": {},
   "outputs": [
    {
     "name": "stderr",
     "output_type": "stream",
     "text": [
      "`stat_bin()` using `bins = 30`. Pick better value with `binwidth`.\n",
      "\n",
      "Warning message:\n",
      "\"Removed 108 rows containing non-finite values (stat_bin).\"\n",
      "Warning message:\n",
      "\"Removed 2 rows containing missing values (geom_bar).\"\n"
     ]
    },
    {
     "data": {
      "image/png": "[encoded data removed]",
      "text/plain": [
       "plot without title"
      ]
     },
     "metadata": {
      "image/png": {
       "height": 420,
       "width": 420
      }
     },
     "output_type": "display_data"
    }
   ],
   "source": [
    "log.dissim.distr <- ggplot(group.mean.df, aes(x=log(mean))) + geom_histogram() +\n",
    "                xlim(0,log(7)) + xlab('log(Dissimilarity)') + ggtitle('Group Mean') + scale_y_continuous(trans='log1p')\n",
    "log.dissim.distr"
   ]
  },
  {
   "cell_type": "markdown",
   "id": "73e585f0-c13b-43fb-896a-5ee27ae3441d",
   "metadata": {},
   "source": [
    "### Additional visualisations"
   ]
  },
  {
   "cell_type": "markdown",
   "id": "686ae2a6-3d56-406b-8ce4-d554f227c8cf",
   "metadata": {},
   "source": [
    "Data distribution of a beta distribution - can I visualise the data using MDS after putting the data through a beta distribution link function?"
   ]
  },
  {
   "cell_type": "code",
   "execution_count": 45,
   "id": "44cb0f63-ddbe-41e0-9c1f-62c872692c46",
   "metadata": {},
   "outputs": [],
   "source": [
    "# set up the MDS matrix\n",
    "data2dist <- function(mat){\n",
    "    return(as.dist(t(mat), diag=TRUE))\n",
    "}\n",
    "\n",
    "data.dist <- data2dist(mean.mat)"
   ]
  },
  {
   "cell_type": "code",
   "execution_count": 43,
   "id": "d8aef882-b52f-47db-959e-9c12985b9cc4",
   "metadata": {},
   "outputs": [],
   "source": [
    "visualise3d <- function(dist,name,classical=TRUE,diagnose=FALSE){\n",
    "    \n",
    "    \n",
    "    dir.create(name)\n",
    "    if(classical){\n",
    "        mean.mds <- cmdscale(dist, k = 3, eig=TRUE)\n",
    "    } else {\n",
    "        name <- paste(name,'non-metric',sep='_')\n",
    "        mean.mds <- isoMDS(dist, k = 3, eig=TRUE, maxit=100)\n",
    "    }\n",
    "    \n",
    "    # Create x, y, z refs\n",
    "    data.x <- mean.mds$points[,1]\n",
    "    data.y <- mean.mds$points[,2]\n",
    "    data.z <- mean.mds$points[,3]\n",
    "    # plot\n",
    "    colors <- colnames(mean.mat)\n",
    "\n",
    "    plot <- plot3d(data.x,data.y,data.z, col = colors, size = 10)\n",
    "\n",
    "    dir.create(paste(name,'/animation/',sep=''))\n",
    "\n",
    "    by = 10\n",
    "    if(diagnose){\n",
    "        by=120\n",
    "    }\n",
    "        \n",
    "    for(i in seq(0,350, by)){ # make an animation\n",
    "        view3d(theta=i)\n",
    "        save.name <- paste(name,'/animation/',str_pad(i,4,pad='0'),'.png',sep='')\n",
    "        snapshot3d(save.name, fmt = 'png',\n",
    "                width = 1000, height = 1000)\n",
    "    }\n",
    "}\n",
    "\n",
    "# ImageMagick code to turn it into a .gif\n",
    "#magick -delay 40 *.png -loop 0 movie.gif"
   ]
  },
  {
   "cell_type": "code",
   "execution_count": 44,
   "id": "83f518fb-e993-46bb-9752-63fd70937948",
   "metadata": {},
   "outputs": [
    {
     "ename": "ERROR",
     "evalue": "Error in plot(mean.mds$eig, col = \"red\", xlim = c(1, 10), ylim = c(0, : object 'mean.mds' not found\n",
     "output_type": "error",
     "traceback": [
      "Error in plot(mean.mds$eig, col = \"red\", xlim = c(1, 10), ylim = c(0, : object 'mean.mds' not found\nTraceback:\n",
      "1. plot(mean.mds$eig, col = \"red\", xlim = c(1, 10), ylim = c(0, \n .     13000))"
     ]
    }
   ],
   "source": [
    "plot(mean.mds$eig, col = 'red', xlim=c(1,10), ylim = c(0,13000))"
   ]
  },
  {
   "cell_type": "code",
   "execution_count": null,
   "id": "56c54ab2-805d-4246-bc2f-1bd8c4a8e85e",
   "metadata": {},
   "outputs": [],
   "source": [
    "mean.mds$GOF"
   ]
  },
  {
   "cell_type": "code",
   "execution_count": 46,
   "id": "c49d196e-e482-4141-880c-615a5431d969",
   "metadata": {},
   "outputs": [
    {
     "data": {
      "image/png": "[encoded data removed]",
      "text/plain": [
       "plot without title"
      ]
     },
     "metadata": {
      "image/png": {
       "height": 420,
       "width": 420
      }
     },
     "output_type": "display_data"
    }
   ],
   "source": [
    "mean.mds <- cmdscale(data.dist, k = 3, eig=TRUE)\n",
    "plot(mean.mds$eig, col = 'red', xlim=c(1,10))"
   ]
  },
  {
   "cell_type": "code",
   "execution_count": null,
   "id": "66af118f-5372-4a7a-99a6-6b071649f970",
   "metadata": {},
   "outputs": [],
   "source": [
    "log.mean.mds <- cmdscale(log(data.dist+1), k = 3, eig=TRUE)"
   ]
  },
  {
   "cell_type": "code",
   "execution_count": null,
   "id": "e336b517-a616-424a-8194-c1c902ceeb21",
   "metadata": {},
   "outputs": [],
   "source": [
    "plot(log.mean.mds$eig, col = 'red', xlim=c(1,10))"
   ]
  },
  {
   "cell_type": "code",
   "execution_count": null,
   "id": "b2f8714c-d320-47f5-844c-5bf4f10f62ff",
   "metadata": {},
   "outputs": [],
   "source": [
    "visualise3d(log(data.dist),'log mean')"
   ]
  },
  {
   "cell_type": "code",
   "execution_count": null,
   "id": "b6260c75-c6e3-41d7-a66f-5ac54f48ea5b",
   "metadata": {},
   "outputs": [],
   "source": [
    "visualise3d((data.dist),'raw fixed')"
   ]
  },
  {
   "cell_type": "code",
   "execution_count": null,
   "id": "af81f4bb-d092-4704-980f-1c54cd592d72",
   "metadata": {},
   "outputs": [],
   "source": [
    "visualise3d((data.dist),'raw', classical=FALSE)"
   ]
  },
  {
   "cell_type": "code",
   "execution_count": null,
   "id": "2201b8fb-934d-415b-bc4b-f32a2f0a5f66",
   "metadata": {},
   "outputs": [],
   "source": []
  },
  {
   "cell_type": "code",
   "execution_count": null,
   "id": "5ef1009e-206c-4952-8f39-ea5329526d2a",
   "metadata": {},
   "outputs": [],
   "source": [
    "Probability <- c(0,0.45,0.55,0,0) \n",
    "plot(Probability, col = 'blue', ylim=c(0,1), type = 'l')"
   ]
  },
  {
   "cell_type": "markdown",
   "id": "9c0864c2-c456-4605-9049-ec2527fa402c",
   "metadata": {},
   "source": [
    "### Model Prediction Accuracy Tests Through Cross-Validation"
   ]
  },
  {
   "cell_type": "markdown",
   "id": "3a77b2d7-9428-4afe-8dd8-bcceb2ab3929",
   "metadata": {},
   "source": [
    "Ok, the plan is:  \n",
    "1. Divide aggregate colour comparisons data into ~10 sets, producing 10 full dissimilarity matrices but with only 10% of the judgments per entry  \n",
    "2. Derive MDS solution for 9 of the sets  \n",
    "3. Use 9 sets to calculate expected dissimilarity between colours (expected dissimilarity matrix)  \n",
    "4. Calculate SSE between constructed matrix and holdout set  \n",
    "5. Compare raw data vs. log data by normalising total variance of reserved set  \n"
   ]
  },
  {
   "cell_type": "code",
   "execution_count": null,
   "id": "94821ade-627d-429c-ad9f-25c6481cede6",
   "metadata": {},
   "outputs": [],
   "source": [
    "# split the data into 10 sets\n",
    "split.data <- function(data, n_split,method='data'){\n",
    "    data$realcomparison <- as.character(data$realcomparison)\n",
    "    output <- list()\n",
    "    data$ID <- seq.int(nrow(data))\n",
    "    if(method=='data'){\n",
    "        for(i in 1:n_split){\n",
    "        \n",
    "            out <- data %>%\n",
    "                group_by(realcomparison) %>%\n",
    "                sample_frac(1/n_split,replace=FALSE) # select fraction of data\n",
    "            \n",
    "            data[!(data$ID %in% out$ID),] # remove selected data from original data\n",
    "            out <- subset(out, select = -c(ID)) # remove ID column\n",
    "            #print(head(out)) # testing\n",
    "            output[[i]] <- out # add to output list\n",
    "        }\n",
    "        \n",
    "    }   else if (method=='participant'){\n",
    "            # this works algorithmically, but is not useful\n",
    "            # random participant splitting means that some comparisons are not\n",
    "            # sampled for any number of groups greater than 2, which is useless\n",
    "            # I'll need to write a cleverer algorithm for this\n",
    "            participants <- sample(unique(data$participant))\n",
    "            n_participants <- length(participants)\n",
    "            for(i in 1:n_split){\n",
    "                temp_participants <- participants[ floor((i-1)*n_participants/n_split + 1) : floor((i*n_participants/n_split)) ]\n",
    "                out <- subset(data, participant %in% temp_participants)\n",
    "                output[[i]] <- out # add to output list\n",
    "            }\n",
    "    } else if (method=='mean'){\n",
    "        # split the participants based on their mean dissimilarity rating value\n",
    "        \n",
    "        mean.df <- data %>% group_by(participant) %>% summarise(measure = mean(dissimilarity))\n",
    "        mean.df.sorted <- mean.df[order(mean.df$measure),]\n",
    "        IDs.sorted <- mean.df.sorted$participant\n",
    "        \n",
    "        for(i in 1:n_split){\n",
    "            #print(i)\n",
    "            low <- (floor((i-1)*length(IDs.sorted)/n_split)) +1\n",
    "            #print(low)\n",
    "            #print(low/length(IDs.sorted))\n",
    "            high <- (floor(i*length(IDs.sorted)/n_split))\n",
    "            #print(high)\n",
    "            #print(high/length(IDs.sorted))\n",
    "            temp.IDs <- IDs.sorted[low:high]\n",
    "            out <- subset(data, participant %in% temp.IDs)\n",
    "            output[[i]] <- out # add to output list\n",
    "        }\n",
    "    }\n",
    "    \n",
    "    return(output)\n",
    "}"
   ]
  },
  {
   "cell_type": "code",
   "execution_count": null,
   "id": "25f72153-902f-4516-b9a5-11a40b82607f",
   "metadata": {},
   "outputs": [],
   "source": [
    "#shuffled_data= clean.data[sample(1:nrow(clean.data)), ]\n",
    "\n",
    "#temp.grouped  <- shuffled_data %>%\n",
    " # group_by(participant,realcomparison) %>%\n",
    "  #mutate(isTrainingSet = (row_number() <= 0.1 * n())) %>%\n",
    "  #ungroup()\n",
    "\n",
    "#firstHalf <- filter(temp.grouped , isTrainingSet)\n",
    "#secondHalf <- filter(temp.grouped , !isTrainingSet)"
   ]
  },
  {
   "cell_type": "code",
   "execution_count": null,
   "id": "1dfca03d-51af-409f-a36d-34df6a88e0bd",
   "metadata": {},
   "outputs": [],
   "source": [
    "#nrow(firstHalf)\n",
    "#print(length(unique(firstHalf$realcomparison)))\n",
    "#print(length(unique(clean.data$realcomparison)))"
   ]
  },
  {
   "cell_type": "code",
   "execution_count": null,
   "id": "4ea31e56-b25e-492f-9ad6-ac9837e4eb43",
   "metadata": {},
   "outputs": [],
   "source": [
    "#temp <- clean.data\n",
    "#temp$realcomparison <- as.character(temp$realcomparison)\n",
    "#splitObj <- initial_split(temp,\n",
    " #                        prop = 0.25,\n",
    "  #                       strata=realcomparison)\n",
    "#nrow(clean.data)\n",
    "#print(length(unique(clean.data$realcomparison)))\n",
    "#train <- training(splitObj)\n",
    "#nrow(train)\n",
    "#print(length(unique(train$realcomparison)))"
   ]
  },
  {
   "cell_type": "code",
   "execution_count": null,
   "id": "cb29b19b-6d0a-4744-a6e2-64105d16324c",
   "metadata": {},
   "outputs": [],
   "source": [
    "#clean.split.participant <- split.data(clean.data, 10, method='participant')"
   ]
  },
  {
   "cell_type": "code",
   "execution_count": null,
   "id": "263cdb10-797e-4bf9-955d-044ee12a76f2",
   "metadata": {},
   "outputs": [],
   "source": [
    "clean.split.data <- split.data(clean.data, 10, method='data')\n"
   ]
  },
  {
   "cell_type": "code",
   "execution_count": null,
   "id": "e7d0b021-f2ec-4d54-aa0c-e7e39dad327b",
   "metadata": {},
   "outputs": [],
   "source": [
    "mean.matrix.list <- function(split.list){\n",
    "    n <- length(split.list)\n",
    "    output <- list()\n",
    "    \n",
    "    for(i in 1:n){\n",
    "        mean.df <- group.avg.df(split.list[[i]], colourSetHEX)\n",
    "        mean.mat <- matrix.df.fill(mean.df, color.mat.df)\n",
    "        output[[i]] <- mean.mat\n",
    "    }\n",
    "    return(output)\n",
    "}"
   ]
  },
  {
   "cell_type": "code",
   "execution_count": null,
   "id": "162ff4f1-566c-486c-b3b9-f0f5eb0ba0ea",
   "metadata": {},
   "outputs": [],
   "source": [
    "split.mats.data <- mean.matrix.list(clean.split.data)\n"
   ]
  },
  {
   "cell_type": "code",
   "execution_count": null,
   "id": "fbb50457-1d93-426c-a7b7-804b75566948",
   "metadata": {},
   "outputs": [],
   "source": [
    "for(i in 1:length(clean.split.data)){\n",
    "    print(length(unique(clean.split.data[[i]]$realcomparison)))\n",
    "}"
   ]
  },
  {
   "cell_type": "code",
   "execution_count": null,
   "id": "37f2e819-de5b-48dd-b55e-0a84c775192f",
   "metadata": {},
   "outputs": [],
   "source": [
    "for(i in 1:length(clean.split.participant)){\n",
    "    print(length(unique(clean.split.participant[[i]]$realcomparison)))\n",
    "}"
   ]
  },
  {
   "cell_type": "code",
   "execution_count": null,
   "id": "daa46ac2-f703-4802-bf6d-615aed38f61d",
   "metadata": {},
   "outputs": [],
   "source": [
    "#split.mats.participant <- mean.matrix.list(clean.split.participant)"
   ]
  },
  {
   "cell_type": "code",
   "execution_count": 94,
   "id": "08a543ba-9b56-4d84-a8f7-627226cfc033",
   "metadata": {},
   "outputs": [],
   "source": [
    "# plot a matrix\n",
    "mean.matrix.plot <- function(df,name,log=FALSE,symmetry=TRUE,skip.mean=FALSE){\n",
    "    if(skip.mean){\n",
    "        mean.df <- df\n",
    "    } else{\n",
    "        mean.df <- group.avg.df(df, colourSetHEX)\n",
    "    }\n",
    "    #print(log)\n",
    "    #print(head(mean.df))\n",
    "    #row.facs <- row.factors(rowsTotalSetHEX,row.cor(mean.df))\n",
    "    #mean.df$color1 <- rowsTotalSetHEX$colour\n",
    "    #mean.df$color2 <- rowsTotalSetHEX$colour\n",
    "    mean.df$color1 <- with(mean.df, factor(firstColour, levels = row.facs))\n",
    "    mean.df$color2 <- with(mean.df, factor(secondColour, levels = row.facs))\n",
    "    \n",
    "    if(symmetry){\n",
    "        sym.data <- mean.df\n",
    "        sym.data$C1 <- mean.df$color1\n",
    "        sym.data$C2 <- mean.df$color2\n",
    "        sym.data$color1 <- sym.data$C2\n",
    "        sym.data$color2 <- sym.data$C1\n",
    "        sym.data <- subset(sym.data, select = -c(C1, C2))\n",
    "        #print(colnames(mean.df))\n",
    "        #print(colnames(sym.data))\n",
    "        mean.df <- rbind(mean.df,sym.data)\n",
    "    }\n",
    "    \n",
    "    if(log){\n",
    "        name <- paste(name,'_log_',sep='')\n",
    "        plot <- ggplot(mean.df, aes(x = color1, y = color2, fill = log(value+1))) + \n",
    "        geom_raster() + ggtitle('log(dissimilarity+1)') +\n",
    "        theme(axis.text.x = element_text(colour=row.facs, angle=90),\n",
    "             axis.text.y = element_text(colour=row.facs)) +\n",
    "        scale_fill_gradientn(colours = c(\"white\",\"black\"),\n",
    "                        limits = c(0,log(7+1)),\n",
    "                        breaks=c(0,1,2,3,4,5,6,7))\n",
    "    } else {\n",
    "        plot <- ggplot(mean.df, aes(x = color1, y = color2, fill = value)) + \n",
    "        geom_raster() + ggtitle('dissimilarity') +\n",
    "        theme(axis.text.x = element_text(colour=row.facs, angle=90),\n",
    "             axis.text.y = element_text(colour=row.facs)) +\n",
    "        scale_fill_gradientn(colours = c(\"white\",\"black\"),\n",
    "                        limits = c(0,7),\n",
    "                        breaks=c(0,1,2,3,4,5,6,7))\n",
    "    }\n",
    "    name <- paste(name,'.png',sep='')\n",
    "    ggsave(name,plot,height=15,width=17)\n",
    "}"
   ]
  },
  {
   "cell_type": "code",
   "execution_count": null,
   "id": "b17fd7a1-e890-4ce1-89cc-760bc7cb0160",
   "metadata": {},
   "outputs": [],
   "source": [
    "# plot a set of matrices in a folder\n",
    "plot.set.mat <- function(mat.list,name,log=FALSE){\n",
    "    name <- paste('mat_set/',name,'/',sep='')\n",
    "    dir.create(name)\n",
    "    for(i in 1:length(mat.list)){\n",
    "        mat_name <- paste(name,i,sep='')\n",
    "        mean.matrix.plot(mat.list[[i]],mat_name,log=log)\n",
    "    }\n",
    "}"
   ]
  },
  {
   "cell_type": "code",
   "execution_count": null,
   "id": "877b5a3e-818b-4bc1-b819-5ec48c150ddf",
   "metadata": {},
   "outputs": [],
   "source": [
    "#plot.set.mat(clean.split,'CV log',log=TRUE)\n",
    "#plot.set.mat(clean.split.participant)"
   ]
  },
  {
   "cell_type": "code",
   "execution_count": null,
   "id": "b319cdcd-972b-4f44-a67c-1d8483f32fac",
   "metadata": {},
   "outputs": [],
   "source": [
    "# convert a similarity judgment dataframe to a distance matrix for MDS\n",
    "dist.create <- function(data){\n",
    "        #print(head(data))\n",
    "        mean.data.temp <- group.avg.df(data,colourSetHEX)\n",
    "        dist.temp <- matrix.df.fill(mean.data.temp,color.mat.df)\n",
    "        #print(head(dist.temp))\n",
    "        #dist.temp$color1 <- rowsTotalSetHEX$colour\n",
    "        #dist.temp$color2 <- rowsTotalSetHEX$colour\n",
    "        #return(dist.temp)\n",
    "        dist.mat.temp <- as.dist(t(dist.temp), diag=TRUE)\n",
    "        #print(head(dist.mat))\n",
    "        return(dist.mat.temp)\n",
    "}"
   ]
  },
  {
   "cell_type": "code",
   "execution_count": null,
   "id": "9cfb16e7-d2ac-4f85-9905-402d8d2c565a",
   "metadata": {},
   "outputs": [],
   "source": [
    "# make a set of 3D visualisations\n",
    "plot.set.3D <- function(data.list, name, log=FALSE,quick=TRUE){\n",
    "    folder.str <- 'CV 3D sets/'\n",
    "    dir.create(folder.str)\n",
    "    if(log){\n",
    "        name <- paste(name,'_log',sep='')\n",
    "    }\n",
    "    dir.create(paste(folder.str,name,sep=''))\n",
    "    \n",
    "    for(i in 1:length(data.list)){\n",
    "        subfolder.str <- paste(folder.str,name,'/',i,sep='')\n",
    "        dir.create(subfolder.str)\n",
    "        \n",
    "        dist.mat <- dist.create(data.list[[i]])\n",
    "        \n",
    "        print(subfolder.str)\n",
    "        if(log){\n",
    "            visualise3d(log(dist.mat+1),subfolder.str,diagnose=quick)\n",
    "        } else {\n",
    "            visualise3d(dist.mat,subfolder.str,diagnose=quick)\n",
    "        }\n",
    "    }\n",
    "}"
   ]
  },
  {
   "cell_type": "code",
   "execution_count": null,
   "id": "30be8a75-b16a-4e29-9737-d8a1bd72e197",
   "metadata": {},
   "outputs": [],
   "source": [
    "# put everything together, do a certain number of splits\n",
    "cv.visual <- function(data,n_split,name,log=FALSE,quick=TRUE){\n",
    "    data.temp <- split.data(data, n_split,method='data')\n",
    "    name <- paste(name,'_n_split_',n_split,sep='')\n",
    "    plot.set.3D(data.temp,name,log=log,quick=quick)\n",
    "    plot.set.mat(data.temp,name,log=log)\n",
    "}"
   ]
  },
  {
   "cell_type": "code",
   "execution_count": null,
   "id": "193660a1-6969-47b6-8a29-b302db09989f",
   "metadata": {},
   "outputs": [],
   "source": [
    "#cv.visual(clean.data,2,'raw',quick=FALSE)\n",
    "#cv.visual(clean.data,1,'log',log=TRUE,quick=FALSE)"
   ]
  },
  {
   "cell_type": "code",
   "execution_count": null,
   "id": "9a4212e4-67af-4c3b-b83a-3ced8b79d015",
   "metadata": {},
   "outputs": [],
   "source": [
    "#plot.set.3D(clean.split.data,'raw')\n",
    "#plot.set.3D(clean.split.data,'log',log=TRUE) "
   ]
  },
  {
   "cell_type": "markdown",
   "id": "707d4960-36c3-4c69-8e57-412b5df55637",
   "metadata": {},
   "source": [
    "#### Calculate correlations when splitting the data"
   ]
  },
  {
   "cell_type": "markdown",
   "id": "51d26052-2b54-4ce6-89db-3fd22bf45af9",
   "metadata": {},
   "source": [
    "Let's just compare the correlation and SSE between partitions of the data"
   ]
  },
  {
   "cell_type": "markdown",
   "id": "58f050ba-ed4e-41aa-aa80-95eddb8be05e",
   "metadata": {},
   "source": [
    "Two different ways Nao will want to see for doing this:  \n",
    "* Holdout judgments (e.g. 10% of judgments in the test set)\n",
    "* Holdout participants (e.g. 10% of participants in the test set)"
   ]
  },
  {
   "cell_type": "markdown",
   "id": "0a627795-26fa-492a-8a6c-07def0b50582",
   "metadata": {},
   "source": [
    "##### Holdout Judgments"
   ]
  },
  {
   "cell_type": "markdown",
   "id": "8f032e52-eed8-47c7-85f6-5e57bc51844d",
   "metadata": {},
   "source": [
    "Make a group mean matrix using 10-90% of the data in 10% increments, observe performance on predicting the judgments in the 10% holdout set"
   ]
  },
  {
   "cell_type": "code",
   "execution_count": null,
   "id": "0b3a3e47-3be5-4fa9-bdfa-54540a18cb57",
   "metadata": {},
   "outputs": [],
   "source": [
    "# format the training & test data\n",
    "cv.data.judge <- split.data(clean.data, 10, method='data')\n",
    "test.data <- cv.data.judge[[10]]\n",
    "\n",
    "train.10 <- group.avg.df(cv.data.judge[[1]], colourSetHEX)\n",
    "test.data.avg <- group.avg.df(test.data, colourSetHEX)"
   ]
  },
  {
   "cell_type": "code",
   "execution_count": null,
   "id": "dda5d425-f8be-46c6-8d10-88ec8f1b91ef",
   "metadata": {},
   "outputs": [],
   "source": [
    "# plot the correlation between two datasets\n",
    "cor.plot <- function(train,test,log=FALSE,xlabel='Training data',ylabel='Test data'){\n",
    "    vals.df <- as.data.frame(c(train,test))\n",
    "\n",
    "    if(log){\n",
    "        vals.df$value <- log(vals.df$value+1)\n",
    "        vals.df$value.1 <- log(vals.df$value.1+1)\n",
    "    }\n",
    "    plot <- ggplot(data = vals.df, aes(x = value, y = value.1)) + geom_point() +\n",
    "            xlab(xlabel) + ylab(ylabel) +\n",
    "            geom_smooth(method = 'lm', alpha = 0.15) +\n",
    "            xlim(0,7) + ylim(0,7)\n",
    "    print(plot)\n",
    "    return(vals.df)\n",
    "}"
   ]
  },
  {
   "cell_type": "code",
   "execution_count": null,
   "id": "0f4727de-fc69-4d41-a70c-6770e128bf37",
   "metadata": {},
   "outputs": [],
   "source": [
    "# calculate standard squared erro\n",
    "SSE <- function(lm){\n",
    "    out <- sum((lm$fitted.values - mean(lm$fitted.values))^2)\n",
    "    print(paste(\"SSE:\",out))\n",
    "    return(out)\n",
    "}"
   ]
  },
  {
   "cell_type": "code",
   "execution_count": null,
   "id": "13929920-5073-4785-b6f5-8b626c004fec",
   "metadata": {},
   "outputs": [],
   "source": [
    "var(test.data.avg$value)\n",
    "var(log(test.data.avg$value+1))"
   ]
  },
  {
   "cell_type": "code",
   "execution_count": null,
   "id": "3716ee45-b026-491e-930a-77f439c52a4c",
   "metadata": {},
   "outputs": [],
   "source": [
    "data.90 <- rbind(cv.data.judge[[1]],\n",
    "                 cv.data.judge[[2]],\n",
    "                 cv.data.judge[[3]],\n",
    "                 cv.data.judge[[4]],\n",
    "                 cv.data.judge[[5]],\n",
    "                 cv.data.judge[[6]],\n",
    "                 cv.data.judge[[7]],\n",
    "                 cv.data.judge[[8]],\n",
    "                 cv.data.judge[[9]],\n",
    "                )"
   ]
  },
  {
   "cell_type": "code",
   "execution_count": null,
   "id": "10591975-69f3-4690-8a6d-bebdf6cd1e8e",
   "metadata": {},
   "outputs": [],
   "source": [
    "train.90 <- group.avg.df(data.90, colourSetHEX)\n"
   ]
  },
  {
   "cell_type": "code",
   "execution_count": null,
   "id": "ae253e5b-0b61-4f20-8ee5-0aac57e841d0",
   "metadata": {},
   "outputs": [],
   "source": [
    "raw.10 <- cor.plot(train.10,test.data.avg, log=FALSE)\n",
    "raw.90 <- cor.plot(train.90, test.data.avg, log=FALSE)"
   ]
  },
  {
   "cell_type": "code",
   "execution_count": null,
   "id": "2c43f8e7-e290-4b10-9b76-2f7599c6642d",
   "metadata": {},
   "outputs": [],
   "source": [
    "test1 <- cor.plot(train.10,test.data.avg, log=TRUE)\n",
    "test2 <- cor.plot(train.90, test.data.avg, log=TRUE)"
   ]
  },
  {
   "cell_type": "code",
   "execution_count": null,
   "id": "c057f8b3-dfee-45d4-9544-87ab7bc3664a",
   "metadata": {},
   "outputs": [],
   "source": [
    "cor(test1$value,test1$value.1)\n",
    "cor(test2$value,test2$value.1)"
   ]
  },
  {
   "cell_type": "code",
   "execution_count": null,
   "id": "da95a066-eb0e-47fa-a220-3af50f036751",
   "metadata": {},
   "outputs": [],
   "source": [
    "lm.10.raw <- lm(value~value.1, data = raw.10) # 10% training data\n",
    "summary(lm.10.raw)\n",
    "SSE(lm.10.raw)\n",
    "SSE(lm.10.raw)/var(test.data.avg$value)"
   ]
  },
  {
   "cell_type": "code",
   "execution_count": null,
   "id": "25e1bb25-63a2-451c-bf5c-0557154bb377",
   "metadata": {},
   "outputs": [],
   "source": [
    "lm.90.raw <- lm(value~value.1, data = raw.90) # 90% training data\n",
    "summary(lm.90.raw)\n",
    "SSE(lm.90.raw)/var(test.data.avg$value)"
   ]
  },
  {
   "cell_type": "code",
   "execution_count": null,
   "id": "bae72bf4-ca4a-454e-9a81-52d9e2674e2c",
   "metadata": {},
   "outputs": [],
   "source": [
    "lm.10.log <- lm(value~value.1, data = test1) # 10% training data\n",
    "summary(lm.10.raw)\n",
    "SSE(lm.10.log)\n",
    "SSE(lm.10.log)/var(log(test.data.avg$value+1))"
   ]
  },
  {
   "cell_type": "code",
   "execution_count": null,
   "id": "558e43cf-061c-47a3-b78c-a3c206cc9506",
   "metadata": {},
   "outputs": [],
   "source": [
    "lm.90.log <- lm(value~value.1, data = test2) # 90% training data\n",
    "summary(lm.90.log)\n",
    "SSE(lm.90.log)\n",
    "SSE(lm.90.log)/var(log(test.data.avg$value+1))"
   ]
  },
  {
   "cell_type": "markdown",
   "id": "b25d9a41-3aa9-43f9-bd9c-66be47ed33ae",
   "metadata": {},
   "source": [
    "##### Holdout Participants"
   ]
  },
  {
   "cell_type": "markdown",
   "id": "5e03bbb9-37c0-4ec7-b7c5-ef06f2837f9e",
   "metadata": {},
   "source": [
    "Make a group mean matrix using 90% of participants, observe performance on predicting the judgments in the 10% holdout set"
   ]
  },
  {
   "cell_type": "code",
   "execution_count": null,
   "id": "a2a0693e-288a-4d42-a493-fcf91cf399d0",
   "metadata": {},
   "outputs": [],
   "source": [
    "cv.data.judge <- split.data(clean.data, 2, method='participant')"
   ]
  },
  {
   "cell_type": "code",
   "execution_count": null,
   "id": "d4aee824-fcda-4393-835a-9b1bc9e7c8cf",
   "metadata": {},
   "outputs": [],
   "source": [
    "# format the training & test data\n",
    "train.90 <- group.avg.df(training(cv.data.judge), colourSetHEX)\n",
    "test.data <- testing(cv.data.judge)\n",
    "\n",
    "test.data.avg <- group.avg.df(test.data, colourSetHEX)"
   ]
  },
  {
   "cell_type": "code",
   "execution_count": null,
   "id": "82431c8d-7192-4a33-b689-f087c0afa4e2",
   "metadata": {},
   "outputs": [],
   "source": [
    "raw.90 <- cor.plot(train.90, test.data.avg, log=FALSE)"
   ]
  },
  {
   "cell_type": "code",
   "execution_count": null,
   "id": "b266e263-2857-47a0-9b5f-12811568f8a2",
   "metadata": {},
   "outputs": [],
   "source": [
    "test2 <- cor.plot(train.90, test.data.avg, log=TRUE)"
   ]
  },
  {
   "cell_type": "code",
   "execution_count": null,
   "id": "fa291b9d-0830-4ed3-ab2e-fdf08b197928",
   "metadata": {},
   "outputs": [],
   "source": [
    "cor(raw.90$value,raw.90$value.1)\n",
    "cor(test2$value,test2$value.1)"
   ]
  },
  {
   "cell_type": "code",
   "execution_count": null,
   "id": "f4feac0c-e7fa-4aae-91b5-6650a0b77f20",
   "metadata": {},
   "outputs": [],
   "source": [
    "lm.90.raw <- lm(value~value.1, data = raw.90) # 90% training data\n",
    "summary(lm.90.raw)\n",
    "SSE(lm.90.raw)/var(test.data.avg$value)"
   ]
  },
  {
   "cell_type": "code",
   "execution_count": null,
   "id": "393a9d2f-ca3e-40af-b902-b43197186372",
   "metadata": {},
   "outputs": [],
   "source": [
    "lm.90.log <- lm(value~value.1, data = test2) # 90% training data\n",
    "summary(lm.90.log)\n",
    "SSE(lm.90.log)\n",
    "SSE(lm.90.log)/var(log(test.data.avg$value+1))"
   ]
  },
  {
   "cell_type": "markdown",
   "id": "25ca88f4-5f33-4578-a7aa-8f7d4b716bad",
   "metadata": {},
   "source": [
    "#### Calculate predicted distances from the MDS models"
   ]
  },
  {
   "cell_type": "markdown",
   "id": "18590d0e-521b-479f-a1fe-182534957e54",
   "metadata": {},
   "source": [
    "Ok, now let's see how well this works when we derive the dissimilarity matrix from the MDS model. We're going to lose some performance due to throwing away some information, but let's see how well it works"
   ]
  },
  {
   "cell_type": "markdown",
   "id": "22745b13-cfce-46b9-ab83-acae5b5ba857",
   "metadata": {},
   "source": [
    "##### MDS Model to Dissimilarity Matrix"
   ]
  },
  {
   "cell_type": "code",
   "execution_count": 89,
   "id": "674d253a-4ded-4c9b-bd99-17a88ac6d435",
   "metadata": {},
   "outputs": [],
   "source": [
    "# euclidean distance\n",
    "euclidean <- function(a, b){return(sqrt(sum((a-b)^2)))}"
   ]
  },
  {
   "cell_type": "code",
   "execution_count": 90,
   "id": "fc9e178e-1f75-42a1-9cec-4aaab35fdb44",
   "metadata": {},
   "outputs": [],
   "source": [
    "# find the dissimilarity between two colours in an MDS model\n",
    "dissim.dist <- function(colour1, colour2, mds, method='euclidean'){\n",
    "    x <- mds$points[colour1,]\n",
    "    y <- mds$points[colour2,]\n",
    "    if(method=='euclidean'){\n",
    "        val <- euclidean(x, y)\n",
    "        return(val) \n",
    "    }\n",
    "}"
   ]
  },
  {
   "cell_type": "code",
   "execution_count": 91,
   "id": "4ff8739d-061e-4a4d-8411-0acd5b3463b2",
   "metadata": {},
   "outputs": [],
   "source": [
    "# populate a dissimilarity df using an MDS model\n",
    "\n",
    "mds2df <- function(mds, method='euclidean'){\n",
    "    empty <- colourSetHEX\n",
    "    empty$value <- NA\n",
    "    for(row in 1:nrow(empty)){\n",
    "        empty[row,3] <- dissim.dist(empty[row,1],\n",
    "                           empty[row,2],\n",
    "                           mds=mds,method=method)\n",
    "    }\n",
    "    return(empty)\n",
    "}"
   ]
  },
  {
   "cell_type": "code",
   "execution_count": 92,
   "id": "dfafe12b-707b-4cbd-b7b9-fe81eba80a4d",
   "metadata": {},
   "outputs": [],
   "source": [
    "test <- mds2df(mean.mds)"
   ]
  },
  {
   "cell_type": "code",
   "execution_count": 95,
   "id": "12f166d8-131c-4d2f-a044-74b916f9450f",
   "metadata": {},
   "outputs": [
    {
     "name": "stderr",
     "output_type": "stream",
     "text": [
      "Warning message:\n",
      "\"Vectorized input to `element_text()` is not officially supported.\n",
      "Results may be unexpected or may change in future versions of ggplot2.\"\n",
      "Warning message:\n",
      "\"Vectorized input to `element_text()` is not officially supported.\n",
      "Results may be unexpected or may change in future versions of ggplot2.\"\n"
     ]
    }
   ],
   "source": [
    "mean.matrix.plot(test,'test',skip.mean=TRUE)"
   ]
  },
  {
   "cell_type": "code",
   "execution_count": null,
   "id": "9c82d3bf-4e54-4784-bc73-11af6f7c523f",
   "metadata": {},
   "outputs": [],
   "source": [
    "head(test.data.avg)\n",
    "head(test)"
   ]
  },
  {
   "cell_type": "code",
   "execution_count": null,
   "id": "dc0933fc-daf8-4c66-8b94-577140c330fb",
   "metadata": {},
   "outputs": [],
   "source": [
    "bum <- cor.plot(test.data.avg,test)"
   ]
  },
  {
   "cell_type": "markdown",
   "id": "1475c321-244a-4371-82c9-075a07d4e563",
   "metadata": {},
   "source": [
    "50-50 split, 3D Euclidean Model"
   ]
  },
  {
   "cell_type": "code",
   "execution_count": null,
   "id": "173536a6-28b9-4004-af12-dd99eb60f32d",
   "metadata": {},
   "outputs": [],
   "source": [
    "# format the training & test data\n",
    "cv.data.judge <- split.data(clean.data, 2, method='participant')\n",
    "\n",
    "test.data <- cv.data.judge[[2]]\n",
    "test.data.avg <- group.avg.df(test.data, colourSetHEX)\n",
    "\n",
    "#print(head(cv.data.judge)) # testing\n",
    "\n",
    "train.50 <- group.avg.df(cv.data.judge[[1]], colourSetHEX)\n",
    "train.50.mat <- matrix.df.fill(train.50,color.mat.df)\n",
    "\n",
    "#print(train.50.mat) # testing\n",
    "#print(nrow(train.50.mat))\n",
    "#print(ncol(train.50.mat))\n",
    "\n",
    "train.50.mds <- cmdscale(data2dist(train.50.mat),k=3, eig=TRUE)\n",
    "#print(head(train.50.mds))\n",
    "train.50.mds2df <- mds2df(train.50.mds)\n",
    "\n",
    "plot <- cor.plot(train.50.mds2df,test.data.avg,\n",
    "                 xlabel='Model Prediction',ylabel='Holdout Data')"
   ]
  },
  {
   "cell_type": "code",
   "execution_count": null,
   "id": "c2f999a6-fee6-4c52-9f21-71bf587250b3",
   "metadata": {},
   "outputs": [],
   "source": [
    "head(train.50.mds2df)$value[2]"
   ]
  },
  {
   "cell_type": "code",
   "execution_count": null,
   "id": "987e4839-5524-45b6-97e6-6cd7b42d04a9",
   "metadata": {},
   "outputs": [],
   "source": [
    "# find the error\n",
    "error_mds <- function(test.data, model){\n",
    "    sum = 0\n",
    "    for(i in 1:nrow(test.data)){\n",
    "        e = (test.data$value[i] - model$value[i])^2\n",
    "        sum = sum + e\n",
    "    }\n",
    "    return(sum)\n",
    "}"
   ]
  },
  {
   "cell_type": "code",
   "execution_count": null,
   "id": "82a48f8f-4055-40be-944d-89e229cdafd9",
   "metadata": {},
   "outputs": [],
   "source": [
    "error_mds(test.data.avg, train.50.mds2df)"
   ]
  },
  {
   "cell_type": "code",
   "execution_count": null,
   "id": "0e8d2dbc-5abc-41fc-b7ec-3c2fa59f8ae9",
   "metadata": {},
   "outputs": [],
   "source": [
    "error_mds(train.50, train.50.mds2df)"
   ]
  },
  {
   "cell_type": "code",
   "execution_count": null,
   "id": "06314412-6667-4b92-96b9-4caa7adb6d0f",
   "metadata": {},
   "outputs": [],
   "source": [
    "SSE(train.50.mds2df)"
   ]
  },
  {
   "cell_type": "code",
   "execution_count": null,
   "id": "11dec4fd-e5d0-4629-a8ce-9868f5c7dac1",
   "metadata": {},
   "outputs": [],
   "source": [
    "lm.50 <- lm(value~value.1, data = plot)"
   ]
  },
  {
   "cell_type": "code",
   "execution_count": null,
   "id": "859d0c25-88d1-45d1-9829-da1399b167ec",
   "metadata": {},
   "outputs": [],
   "source": [
    "summary(lm.50)\n",
    "SSE(lm.50)\n",
    "SSE(lm.50)/var(test.data.avg$value)"
   ]
  },
  {
   "cell_type": "markdown",
   "id": "7e9fa938-cf1b-4540-9fd9-a4c1fbdfbffd",
   "metadata": {},
   "source": [
    "#### Analysis across multiple dimensions"
   ]
  },
  {
   "cell_type": "code",
   "execution_count": null,
   "id": "782bdc96-f2b5-45e1-a0ea-55bc3d74cd31",
   "metadata": {},
   "outputs": [],
   "source": [
    "# plot how e changes as dimensionality increases\n",
    "dim.e <- function(data, dims=10, groups=2, method='data'){\n",
    "    temp.data <- split.data(data, groups, method)\n",
    "    \n",
    "    test.data <- temp.data[[length(temp.data)]]\n",
    "    test.data.avg <- group.avg.df(test.data, colourSetHEX)\n",
    "    \n",
    "    train.data <- group.avg.df(temp.data[[1]],colourSetHEX)\n",
    "    train.data.mat <- matrix.df.fill(train.data, color.mat.df)\n",
    "    \n",
    "    e_train_list <- vector()\n",
    "    e_test_list <- vector()\n",
    "    for(i in 1:dims){\n",
    "        train.mds <- cmdscale(data2dist(train.data.mat),k=i,eig=TRUE)\n",
    "        train.mds2df <- mds2df(train.mds)\n",
    "        e_test <- error_mds(test.data.avg,train.mds2df)\n",
    "        e_train <- error_mds(train.data,train.mds2df)\n",
    "        e_test_list[i] <- e_test\n",
    "        e_train_list[i] <- e_train\n",
    "    }\n",
    "    print(plot(e_test_list, xlab='Dimension',ylab='Error',main='Test'))\n",
    "    print(plot(e_train_list, xlab='Dimension',ylab='Error',main='Train'))\n",
    "    return(list(e_test_list,e_train_list))\n",
    "}"
   ]
  },
  {
   "cell_type": "code",
   "execution_count": null,
   "id": "bdad47df-8161-4dab-bb8c-46a16fbc4149",
   "metadata": {},
   "outputs": [],
   "source": [
    "test <- dim.e(clean.data, dims=10, method='data')"
   ]
  },
  {
   "cell_type": "code",
   "execution_count": null,
   "id": "e32bf994-b31d-424c-be80-2db746698e75",
   "metadata": {},
   "outputs": [],
   "source": [
    "participant <- dim.e(clean.data, dims=10, method='participant')"
   ]
  },
  {
   "cell_type": "code",
   "execution_count": null,
   "id": "1b8e6292-a5a9-4bc1-8356-0efe5bb66e26",
   "metadata": {},
   "outputs": [],
   "source": [
    "participant"
   ]
  },
  {
   "cell_type": "code",
   "execution_count": null,
   "id": "87ed77d4-f006-469b-87c6-0ba85045c960",
   "metadata": {},
   "outputs": [],
   "source": [
    "test"
   ]
  },
  {
   "cell_type": "markdown",
   "id": "1a5a1672-df84-4fe6-b8ef-739fbba1cd97",
   "metadata": {},
   "source": [
    "### Genji Collaboration Analysis"
   ]
  },
  {
   "cell_type": "markdown",
   "id": "e5403f8b-ee42-4feb-b0f4-60355d152097",
   "metadata": {},
   "source": [
    "\" split the 93 color similarity matrix into 2 halfs, one from subject 1-250's mean, and the other for 251-500's mean\""
   ]
  },
  {
   "cell_type": "code",
   "execution_count": null,
   "id": "4dd0726b-07ba-49d8-8a6d-8d378de37b81",
   "metadata": {},
   "outputs": [],
   "source": [
    "participant.halves <- split.data(clean.data, 2, method='participant')"
   ]
  },
  {
   "cell_type": "code",
   "execution_count": null,
   "id": "42be521e-f010-4cce-9052-4d4172893cd2",
   "metadata": {},
   "outputs": [],
   "source": [
    "#half.1 <- group.avg.df(participant.halves[[1]], colourSetHEX)\n",
    "#half.2 <- group.avg.df(participant.halves[[2]], colourSetHEX)"
   ]
  },
  {
   "cell_type": "code",
   "execution_count": null,
   "id": "2c8ee37d-0c62-4113-94cc-3ebc5e2f0174",
   "metadata": {},
   "outputs": [],
   "source": [
    "mat1 <- matrix.df.fill(half.1, color.mat.df)\n",
    "mat2 <- matrix.df.fill(half.2, color.mat.df)"
   ]
  },
  {
   "cell_type": "code",
   "execution_count": null,
   "id": "cbfe9a8c-3aef-4ce9-a944-ffbffbfb1e4c",
   "metadata": {},
   "outputs": [],
   "source": [
    "plot_color_mat <- function(df,name,duplicate=TRUE){\n",
    "    if(duplicate){ # sometimes only have 4371 values, but want to duplicate for plotting purposes\n",
    "        df2 <- df\n",
    "        df2$firstColour <- df$secondColour\n",
    "        df2$secondColour <- df$firstColour\n",
    "        df <- rbind(df,df2)\n",
    "    }\n",
    "    plot <- ggplot(df, aes(x = firstColour, y = secondColour, fill = value)) + geom_raster() +\n",
    "    theme(axis.text.x = element_text(colour=row.facs, angle=90),\n",
    "         axis.text.y = element_text(colour=row.facs)) +\n",
    "    scale_fill_gradientn(colours = c(\"white\",\"black\"),\n",
    "                        limits = c(0,7),\n",
    "                        breaks=c(0,1,2,3,4,5,6,7),\n",
    "                        na.value='green')\n",
    "    ggsave(paste(name,\".png\"),plot,height=15,width=17)\n",
    "    return(plot)\n",
    "}"
   ]
  },
  {
   "cell_type": "code",
   "execution_count": null,
   "id": "83ae94b4-4521-48a5-879a-3b18474310bd",
   "metadata": {},
   "outputs": [],
   "source": [
    "#plot_color_mat(half.1,'half_1')\n",
    "#plot_color_mat(half.2,'half_2')"
   ]
  },
  {
   "cell_type": "code",
   "execution_count": null,
   "id": "303edc93-42c5-4be0-b260-6901583518e4",
   "metadata": {},
   "outputs": [],
   "source": [
    "#test"
   ]
  },
  {
   "cell_type": "code",
   "execution_count": null,
   "id": "77239a60-650d-464d-bac1-751e3aa1b0bc",
   "metadata": {},
   "outputs": [],
   "source": [
    "write.csv(x=half.1, \"participant_group_1_mean_response_long.csv\")\n",
    "write.csv(x=half.2, \"participant_group_2_mean_response_long.csv\")"
   ]
  },
  {
   "cell_type": "code",
   "execution_count": null,
   "id": "d73118a4-35b7-4d39-991f-a5d6576b2293",
   "metadata": {},
   "outputs": [],
   "source": [
    "write.table(mat1, \"participant_group_1_mean_response_matrix.csv\",sep=',')\n",
    "write.table(mat2, \"participant_group_2_mean_response_matrix.csv\",sep=',')"
   ]
  },
  {
   "cell_type": "markdown",
   "id": "b4286141-730a-44fe-9d55-0d58bfa0ef0c",
   "metadata": {},
   "source": [
    "\"Then, scarmbled.\""
   ]
  },
  {
   "cell_type": "code",
   "execution_count": null,
   "id": "5f2b3648-4893-4f32-a2fa-f28bd7a5d582",
   "metadata": {},
   "outputs": [],
   "source": [
    "mat1.scramble <- matrix(sample(as.matrix(mat1)),nrow=nrow(mat1))\n",
    "write.table(mat1.scramble, \"participant_group_1_mean_response_matrix_SCRAMBLED.csv\",sep=',')"
   ]
  },
  {
   "cell_type": "code",
   "execution_count": null,
   "id": "bcce05bd-68d0-40b7-9de9-e32cc8f86f65",
   "metadata": {},
   "outputs": [],
   "source": [
    "#mat1.scramble"
   ]
  },
  {
   "cell_type": "markdown",
   "id": "a307597c-9213-46a3-a946-af02801f90b9",
   "metadata": {},
   "source": [
    "\"split the groups based on variance\"  \n",
    "NB: I think entropy is actually a better measure"
   ]
  },
  {
   "cell_type": "code",
   "execution_count": null,
   "id": "3b04bc35-5ac4-4350-ae0d-41e9e9ce9297",
   "metadata": {},
   "outputs": [],
   "source": [
    "head(clean.data)"
   ]
  },
  {
   "cell_type": "code",
   "execution_count": null,
   "id": "6664069c-5c82-4073-abd6-b5397bdf1244",
   "metadata": {},
   "outputs": [],
   "source": []
  },
  {
   "cell_type": "code",
   "execution_count": null,
   "id": "da123cc4-5970-4541-9979-20734efead96",
   "metadata": {},
   "outputs": [],
   "source": [
    "binary.test.max <- c(rep(0,40),rep(7,40))\n",
    "binary.test.min <- c(rep(0,40),rep(1,40))\n",
    "graded.test <- c(rep(c(0,1,2,3,4,5,6,7),8))"
   ]
  },
  {
   "cell_type": "code",
   "execution_count": null,
   "id": "f3299c37-e97e-47e3-94c3-b51523d0dc53",
   "metadata": {},
   "outputs": [],
   "source": [
    "var(binary.test.max)\n",
    "var(binary.test.min)\n",
    "var(graded.test)"
   ]
  },
  {
   "cell_type": "code",
   "execution_count": null,
   "id": "c3da6fb7-b3ca-46ba-b3fc-25330b89713b",
   "metadata": {},
   "outputs": [],
   "source": [
    "entropy.empirical(binary.test.max)\n",
    "entropy.empirical(binary.test.min)\n",
    "entropy.empirical(graded.test)\n",
    "entropy.empirical(sample(graded.test))"
   ]
  },
  {
   "cell_type": "code",
   "execution_count": null,
   "id": "dbe29f1e-8cd1-4a98-a24b-e877f6e0661f",
   "metadata": {},
   "outputs": [],
   "source": [
    "entropy.df <- clean.data %>% group_by(participant) %>% summarise(entropy = entropy.empirical(dissimilarity))\n",
    "hist(entropy.df$entropy, \n",
    "     breaks=seq(3.5,6,by = 0.05),\n",
    "    xlim=c(4.5,5.8)\n",
    "    )"
   ]
  },
  {
   "cell_type": "code",
   "execution_count": null,
   "id": "a58c4d22-25f1-4189-aecb-9e0f7aba9d17",
   "metadata": {},
   "outputs": [],
   "source": [
    "variance.df <- clean.data %>% group_by(participant) %>% summarise(variance = var(dissimilarity))\n",
    "hist(variance.df$variance,\n",
    "    xlim=c(0,12),\n",
    "    breaks=seq(0,12, by=0.5))"
   ]
  },
  {
   "cell_type": "code",
   "execution_count": null,
   "id": "5b7550da-be37-44aa-abc1-c50b364f76df",
   "metadata": {},
   "outputs": [],
   "source": [
    "test <- subset(clean.data, participant == '59bd3c6e3a9ab60001119ae5')"
   ]
  },
  {
   "cell_type": "code",
   "execution_count": null,
   "id": "59d1d1bc-c597-4a59-b2a3-1b8c2ae51fcc",
   "metadata": {},
   "outputs": [],
   "source": [
    "simhistplot <- function(df){\n",
    "    \n",
    "   plot <- ggplot(df, aes(x = dissimilarity)) + geom_bar(aes(y = ..prop..)) +\n",
    "    scale_x_discrete(limits=c(0,1,2,3,4,5,6,7), name = 'Dissimilarity') +\n",
    "    ylab('Frequency') + ylim(0,0.8) +\n",
    "    ggtitle(paste('ID:',df$participant[1],' | ',\n",
    "                  'Variance:',round(var(df$dissimilarity),2),' | ',\n",
    "                  'Entropy:',round(entropy.empirical(df$dissimilarity),2)\n",
    "                 ))\n",
    "    return(plot)\n",
    "}\n",
    "\n",
    "var(test$dissimilarity)\n",
    "entropy.empirical(test$dissimilarity)\n",
    "\n",
    "simhistplot(test)"
   ]
  },
  {
   "cell_type": "code",
   "execution_count": null,
   "id": "c1e0115c-76ed-4c09-b4b8-9e4488cc59d3",
   "metadata": {},
   "outputs": [],
   "source": [
    "plot.hist.all <- function(df){\n",
    "    IDs <- sort(unique(df$participant))\n",
    "    \n",
    "    dir.create('subjects_histograms/')\n",
    "    \n",
    "    for(id in IDs){\n",
    "        plot <- simhistplot(subset(clean.data, participant == id))\n",
    "        \n",
    "        save.name <- paste('subjects_histograms/',id,'.png',sep='')\n",
    "        \n",
    "        ggsave(save.name,plot,height=10,width=10)\n",
    "    }\n",
    "}"
   ]
  },
  {
   "cell_type": "code",
   "execution_count": null,
   "id": "4f48b5aa-a040-4288-81de-e86001a9823e",
   "metadata": {},
   "outputs": [],
   "source": [
    "plot.hist.var <- function(df){\n",
    "    IDs <- sort(unique(df$participant))\n",
    "    \n",
    "    var.df <- df %>% group_by(participant) %>% summarise(variance = var(dissimilarity))\n",
    "    var.df.sorted <- var.df[order(var.df$variance),]\n",
    "    IDs.sorted <- var.df.sorted$participant\n",
    "    \n",
    "    dir.create('subjects_variance_sort/')\n",
    "    \n",
    "    count = 0\n",
    "    for(id in IDs.sorted){\n",
    "        count = count + 1\n",
    "        \n",
    "        plot <- simhistplot(subset(clean.data, participant == id))\n",
    "        \n",
    "        save.name <- paste('subjects_variance_sort/',str_pad(count,5,pad='0'),'_',id,'.png',sep='')\n",
    "        \n",
    "        ggsave(save.name,plot,height=10,width=10)\n",
    "    }\n",
    "}"
   ]
  },
  {
   "cell_type": "code",
   "execution_count": null,
   "id": "85a75cb5-e71c-4274-9aeb-f297ff5e9aa3",
   "metadata": {},
   "outputs": [],
   "source": [
    "plot.entropy.var <- function(df){\n",
    "    IDs <- sort(unique(df$participant))\n",
    "    \n",
    "    var.df <- df %>% group_by(participant) %>% summarise(entropy = entropy.empirical(dissimilarity))\n",
    "    var.df.sorted <- var.df[order(var.df$entropy),]\n",
    "    IDs.sorted <- var.df.sorted$participant\n",
    "    \n",
    "    dir.create('subjects_entropy_sort/')\n",
    "    \n",
    "    count = 0\n",
    "    for(id in IDs.sorted){\n",
    "        count = count + 1\n",
    "        \n",
    "        plot <- simhistplot(subset(clean.data, participant == id))\n",
    "        \n",
    "        save.name <- paste('subjects_entropy_sort/',str_pad(count,5,pad='0'),'_',id,'.png',sep='')\n",
    "        \n",
    "        ggsave(save.name,plot,height=10,width=10)\n",
    "    }\n",
    "}"
   ]
  },
  {
   "cell_type": "code",
   "execution_count": null,
   "id": "ce11c4a5-7de4-41c5-aa7a-d42385092ed2",
   "metadata": {},
   "outputs": [],
   "source": [
    "plot.measure.var <- function(df,measure){\n",
    "    IDs <- sort(unique(df$participant))\n",
    "    \n",
    "    if(measure == 'mean'){\n",
    "        var.df <- df %>% group_by(participant) %>% summarise(measure = mean(dissimilarity))\n",
    "        folder.name <- 'subjects_mean_sort/'\n",
    "    }\n",
    "    var.df.sorted <- var.df[order(var.df$measure),]\n",
    "    IDs.sorted <- var.df.sorted$participant\n",
    "    \n",
    "    dir.create(folder.name)\n",
    "    \n",
    "    count = 0\n",
    "    for(id in IDs.sorted){\n",
    "        count = count + 1\n",
    "        \n",
    "        plot <- simhistplot(subset(clean.data, participant == id))\n",
    "        \n",
    "        save.name <- paste(folder.name,str_pad(count,5,pad='0'),'_',id,'.png',sep='')\n",
    "        \n",
    "        ggsave(save.name,plot,height=10,width=10)\n",
    "    }\n",
    "}"
   ]
  },
  {
   "cell_type": "code",
   "execution_count": null,
   "id": "02aab34f-8a20-491c-bab2-9c29d869a1d1",
   "metadata": {},
   "outputs": [],
   "source": [
    "#suppressWarnings(plot.hist.all(clean.data))"
   ]
  },
  {
   "cell_type": "code",
   "execution_count": null,
   "id": "6b3661b0-3508-4cd8-8ba3-799a17725fa8",
   "metadata": {},
   "outputs": [],
   "source": [
    "#suppressWarnings(plot.hist.var(clean.data))"
   ]
  },
  {
   "cell_type": "code",
   "execution_count": null,
   "id": "debc5861-e44b-4022-a128-971c5b1a67dc",
   "metadata": {},
   "outputs": [],
   "source": [
    "#suppressWarnings(plot.entropy.var(clean.data))"
   ]
  },
  {
   "cell_type": "code",
   "execution_count": null,
   "id": "aa430e29-b18a-4872-b7ba-6346734dd675",
   "metadata": {},
   "outputs": [],
   "source": [
    "suppressWarnings(plot.measure.var(clean.data,'mean'))"
   ]
  },
  {
   "cell_type": "markdown",
   "id": "5c090567-00f7-4575-aa33-4e130aea4173",
   "metadata": {},
   "source": [
    "Seems that splitting the participants based on their mean response may actually work better than looking at variance or entropy"
   ]
  },
  {
   "cell_type": "code",
   "execution_count": null,
   "id": "7df8aadc-8471-4439-8270-afbc52817f5c",
   "metadata": {},
   "outputs": [],
   "source": [
    "mean.participant.halves <- split.data(clean.data, 2, method='mean')"
   ]
  },
  {
   "cell_type": "code",
   "execution_count": null,
   "id": "5309a112-160b-4327-97c0-5411bec139b6",
   "metadata": {},
   "outputs": [],
   "source": [
    "half.1 <- group.avg.df(mean.participant.halves[[1]], colourSetHEX)\n",
    "half.2 <- group.avg.df(mean.participant.halves[[2]], colourSetHEX)"
   ]
  },
  {
   "cell_type": "code",
   "execution_count": null,
   "id": "c918e050-624d-421c-a6b8-b01e3d0326ab",
   "metadata": {},
   "outputs": [],
   "source": [
    "mat1 <- matrix.df.fill(half.1, color.mat.df)\n",
    "mat2 <- matrix.df.fill(half.2, color.mat.df)"
   ]
  },
  {
   "cell_type": "code",
   "execution_count": null,
   "id": "1ed9f170-8c28-4bf0-8e48-2c864825e76a",
   "metadata": {},
   "outputs": [],
   "source": [
    "plot_color_mat(half.1,'meansplit_half_1')\n",
    "plot_color_mat(half.2,'meansplit_half_2')"
   ]
  },
  {
   "cell_type": "code",
   "execution_count": null,
   "id": "4af59d66-d29c-4253-a6a9-fe1ab0abb6af",
   "metadata": {},
   "outputs": [],
   "source": [
    "write.csv(x=half.1, \"meansplit_1_mean_response_long.csv\")\n",
    "write.csv(x=half.2, \"meansplit_2_mean_response_long.csv\")\n",
    "write.table(mat1, \"meansplit_1_mean_response_matrix.csv\",sep=',')\n",
    "write.table(mat2, \"meansplit_2_mean_response_matrix.csv\",sep=',')"
   ]
  },
  {
   "cell_type": "markdown",
   "id": "d15fb604-1d0f-4d6d-8db4-05345655604a",
   "metadata": {},
   "source": [
    "### Analysis of MDS Fit for Particular Colours"
   ]
  },
  {
   "cell_type": "markdown",
   "id": "fb47c1f6-36c1-4785-ad20-b4e5aad85a36",
   "metadata": {},
   "source": [
    "Let's calculate the RMS for a particular colour.  \n",
    "RMS(MDS, EMP) = dMDS(X,-)^2 - dEMP(X,-)^2"
   ]
  },
  {
   "cell_type": "code",
   "execution_count": 133,
   "id": "14d40688-d585-4a1f-8589-589d1e736e44",
   "metadata": {},
   "outputs": [
    {
     "data": {
      "text/html": [
       "78"
      ],
      "text/latex": [
       "78"
      ],
      "text/markdown": [
       "78"
      ],
      "text/plain": [
       "[1] 78"
      ]
     },
     "metadata": {},
     "output_type": "display_data"
    }
   ],
   "source": [
    "# test case\n",
    "red <- '#DA0B27'\n",
    "test.index <- which(red == colnames(group.mean.mat.df))\n",
    "test.index"
   ]
  },
  {
   "cell_type": "code",
   "execution_count": 115,
   "id": "9faa189c-5e8f-4d27-955e-94c979d5facb",
   "metadata": {},
   "outputs": [],
   "source": [
    "# first, calculate the distance between two colours according to the empirical data\n",
    "\n",
    "emp.test.vals <- as.numeric(as.vector(group.mean.mat.df[test.index,1:93]))\n",
    "#sum.emp <- sum(test.vals)\n",
    "\n",
    "#sum.emp"
   ]
  },
  {
   "cell_type": "code",
   "execution_count": 217,
   "id": "b503a24d-e948-46a5-bf96-8a4351242135",
   "metadata": {},
   "outputs": [],
   "source": [
    "# next, calculate the distance based on the MDS model\n",
    "\n",
    "mean.mds <- cmdscale(data.dist, k = 50, eig=TRUE)\n",
    "mds.dist <- mds2df(mean.mds)\n",
    "\n",
    "mds.test.vals <- subset(test.mds.dist, firstColour == red | secondColour == red)$value\n",
    "#sum.mds <- sum(mds.test.vals)\n",
    "\n",
    "#sum.mds"
   ]
  },
  {
   "cell_type": "code",
   "execution_count": 218,
   "id": "39aaa2bd-5ccc-4e1f-b93c-8e19a086de12",
   "metadata": {},
   "outputs": [],
   "source": [
    "#sum.mds^2 - sum.emp^2"
   ]
  },
  {
   "cell_type": "markdown",
   "id": "328a1110-2fae-4979-bed8-70ae4d55942e",
   "metadata": {},
   "source": [
    "Various ways to calculate the fit error"
   ]
  },
  {
   "cell_type": "code",
   "execution_count": 219,
   "id": "558eb2c7-76c1-4229-9a46-cf6e9db527a5",
   "metadata": {},
   "outputs": [
    {
     "data": {
      "text/html": [
       "-90980.2949340964"
      ],
      "text/latex": [
       "-90980.2949340964"
      ],
      "text/markdown": [
       "-90980.2949340964"
      ],
      "text/plain": [
       "[1] -90980.29"
      ]
     },
     "metadata": {},
     "output_type": "display_data"
    }
   ],
   "source": [
    "# Nao's suggestion\n",
    "RMS.nao <- function(MDS,EMP){\n",
    "    return(sum(MDS)^2 - sum(EMP)^2)\n",
    "}\n",
    "\n",
    "RMS.nao(mds.test.vals,emp.test.vals)"
   ]
  },
  {
   "cell_type": "code",
   "execution_count": 220,
   "id": "1db967e9-6746-465c-bcb4-0fd1626d9bfc",
   "metadata": {},
   "outputs": [
    {
     "data": {
      "text/html": [
       "11417.8396863546"
      ],
      "text/latex": [
       "11417.8396863546"
      ],
      "text/markdown": [
       "11417.8396863546"
      ],
      "text/plain": [
       "[1] 11417.84"
      ]
     },
     "metadata": {},
     "output_type": "display_data"
    }
   ],
   "source": [
    "# squared error in aggregate distance\n",
    "RMS.se <- function(MDS,EMP){\n",
    "    # sum of the distance from a colour to every other color according to MDS, \n",
    "    # subtracting the distance from a colour to every other color empirically,\n",
    "    # then square\n",
    "    val <- sum(MDS) - sum(EMP)\n",
    "    return(val^2)\n",
    "}\n",
    "RMS.se(mds.test.vals,emp.test.vals)"
   ]
  },
  {
   "cell_type": "markdown",
   "id": "e55f9046-acbe-45d7-9b76-346b8a5b858f",
   "metadata": {},
   "source": [
    "Plot the error for the full set of colors"
   ]
  },
  {
   "cell_type": "code",
   "execution_count": 221,
   "id": "c7ba1c91-76d5-48ef-8bff-0c686eed0ea4",
   "metadata": {},
   "outputs": [],
   "source": [
    "# setting stuff up\n",
    "colors <- colnames(group.mean.mat.df)[1:93]\n",
    "\n",
    "# calculate RMS for each color, place into a vector\n",
    "RMS.colors <- function(empirical,mds,mode='se'){\n",
    "    out.vals <- vector()\n",
    "    for(i in 1:length(colors)){\n",
    "        emp.vals <- as.numeric(as.vector(empirical[i,1:93]))\n",
    "        mds.vals <- subset(mds, firstColour == colors[i] | secondColour == colors[i])$value\n",
    "        \n",
    "        if(mode=='se'){\n",
    "            color.error <- RMS.se(mds.vals,emp.vals)\n",
    "        } else if (mode=='nao'){\n",
    "            color.error <- RMS.nao(mds.vals,emp.vals)\n",
    "        }\n",
    "        out.vals <- c(out.vals,color.error)\n",
    "    }\n",
    "    return(out.vals)\n",
    "}\n",
    "\n",
    "errors <- RMS.colors(group.mean.mat.df,mds.dist,mode='se')"
   ]
  },
  {
   "cell_type": "code",
   "execution_count": 223,
   "id": "0a2ea340-8bcd-4496-8dee-d4019b0c9150",
   "metadata": {},
   "outputs": [
    {
     "name": "stderr",
     "output_type": "stream",
     "text": [
      "Warning message:\n",
      "\"Vectorized input to `element_text()` is not officially supported.\n",
      "Results may be unexpected or may change in future versions of ggplot2.\"\n"
     ]
    },
    {
     "data": {
      "image/png": "[encoded data removed]",
      "text/plain": [
       "plot without title"
      ]
     },
     "metadata": {
      "image/png": {
       "height": 420,
       "width": 420
      }
     },
     "output_type": "display_data"
    }
   ],
   "source": [
    "# plot things\n",
    "\n",
    "error.df <- data.frame(colors,errors)\n",
    "\n",
    "plot.error <- function(df){\n",
    "    plot <- ggplot(df, aes(x=colors,y=errors, fill=colors)) +\n",
    "                    geom_bar(stat=\"identity\",show.legend=FALSE,colour='black') +\n",
    "                    theme(axis.text.y = element_text(colour=df$colors)) + coord_flip() +\n",
    "                    scale_color_manual(values = df$colors) + scale_fill_manual(values = df$colors)\n",
    "                    \n",
    "    ggsave('error_test.png',plot,height=20,width=10)\n",
    "    return(plot)\n",
    "}\n",
    "\n",
    "plot.error(error.df)"
   ]
  },
  {
   "cell_type": "markdown",
   "id": "821e6063-5393-4a70-98f8-e7f7de5a7017",
   "metadata": {},
   "source": [
    "Plot how everything changes as the dimensionality increases"
   ]
  },
  {
   "cell_type": "code",
   "execution_count": 276,
   "id": "c19c53b4-94a1-4a81-b9e9-b96967db090b",
   "metadata": {},
   "outputs": [
    {
     "data": {
      "text/html": [
       "<table class=\"dataframe\">\n",
       "<caption>A data.frame: 6 × 3</caption>\n",
       "<thead>\n",
       "\t<tr><th></th><th scope=col>colors</th><th scope=col>dimension</th><th scope=col>error</th></tr>\n",
       "\t<tr><th></th><th scope=col>&lt;chr&gt;</th><th scope=col>&lt;fct&gt;</th><th scope=col>&lt;dbl&gt;</th></tr>\n",
       "</thead>\n",
       "<tbody>\n",
       "\t<tr><th scope=row>1</th><td>#010300</td><td>1D</td><td>133107.71</td></tr>\n",
       "\t<tr><th scope=row>2</th><td>#022C88</td><td>1D</td><td> 60555.83</td></tr>\n",
       "\t<tr><th scope=row>3</th><td>#02529A</td><td>1D</td><td> 58266.47</td></tr>\n",
       "\t<tr><th scope=row>4</th><td>#032040</td><td>1D</td><td> 53443.72</td></tr>\n",
       "\t<tr><th scope=row>5</th><td>#03406F</td><td>1D</td><td> 51909.25</td></tr>\n",
       "\t<tr><th scope=row>6</th><td>#034E49</td><td>1D</td><td> 39683.09</td></tr>\n",
       "</tbody>\n",
       "</table>\n"
      ],
      "text/latex": [
       "A data.frame: 6 × 3\n",
       "\\begin{tabular}{r|lll}\n",
       "  & colors & dimension & error\\\\\n",
       "  & <chr> & <fct> & <dbl>\\\\\n",
       "\\hline\n",
       "\t1 & \\#010300 & 1D & 133107.71\\\\\n",
       "\t2 & \\#022C88 & 1D &  60555.83\\\\\n",
       "\t3 & \\#02529A & 1D &  58266.47\\\\\n",
       "\t4 & \\#032040 & 1D &  53443.72\\\\\n",
       "\t5 & \\#03406F & 1D &  51909.25\\\\\n",
       "\t6 & \\#034E49 & 1D &  39683.09\\\\\n",
       "\\end{tabular}\n"
      ],
      "text/markdown": [
       "\n",
       "A data.frame: 6 × 3\n",
       "\n",
       "| <!--/--> | colors &lt;chr&gt; | dimension &lt;fct&gt; | error &lt;dbl&gt; |\n",
       "|---|---|---|---|\n",
       "| 1 | #010300 | 1D | 133107.71 |\n",
       "| 2 | #022C88 | 1D |  60555.83 |\n",
       "| 3 | #02529A | 1D |  58266.47 |\n",
       "| 4 | #032040 | 1D |  53443.72 |\n",
       "| 5 | #03406F | 1D |  51909.25 |\n",
       "| 6 | #034E49 | 1D |  39683.09 |\n",
       "\n"
      ],
      "text/plain": [
       "  colors  dimension error    \n",
       "1 #010300 1D        133107.71\n",
       "2 #022C88 1D         60555.83\n",
       "3 #02529A 1D         58266.47\n",
       "4 #032040 1D         53443.72\n",
       "5 #03406F 1D         51909.25\n",
       "6 #034E49 1D         39683.09"
      ]
     },
     "metadata": {},
     "output_type": "display_data"
    }
   ],
   "source": [
    "# make a df for the error across k dimensions\n",
    "\n",
    "error.up2k <- function(max.k=15,mode='se'){\n",
    "    out.df <- as.data.frame(colors)\n",
    "    \n",
    "    # calculate error for each dimension\n",
    "    for(i in 1:max.k){\n",
    "        vals <- RMS.colors(group.mean.mat.df,\n",
    "                           mds2df(cmdscale(data.dist, k = i, eig=TRUE)),\n",
    "                           mode = mode)\n",
    "        out.df <- cbind(out.df,vals)\n",
    "    }\n",
    "    \n",
    "    #fix the column names\n",
    "    dim.names <- c(1:max.k)\n",
    "    dim.names <- paste(dim.names,'D',sep='')\n",
    "    names <- c('colors',dim.names)\n",
    "    colnames(out.df) <- names\n",
    "    \n",
    "    out.df.long <- out.df %>% gather(dimension, error, -c(colors)) %>% mutate(dimension = fct_relevel(dimension, dim.names))\n",
    "    \n",
    "    return(out.df.long)\n",
    "}\n",
    "\n",
    "error.data <- error.up2k(max.k=50)\n",
    "head(error.data)"
   ]
  },
  {
   "cell_type": "code",
   "execution_count": 277,
   "id": "c00172b2-6088-4ec9-9cce-d97739cb8855",
   "metadata": {},
   "outputs": [
    {
     "name": "stderr",
     "output_type": "stream",
     "text": [
      "Warning message:\n",
      "\"Vectorized input to `element_text()` is not officially supported.\n",
      "Results may be unexpected or may change in future versions of ggplot2.\"\n"
     ]
    },
    {
     "data": {
      "image/png": "[encoded data removed]",
      "text/plain": [
       "plot without title"
      ]
     },
     "metadata": {
      "image/png": {
       "height": 420,
       "width": 420
      }
     },
     "output_type": "display_data"
    }
   ],
   "source": [
    "# try and plot it all together\n",
    "\n",
    "plot.error.full <- function(df){\n",
    "    plot <- ggplot(df, aes(x=colors,y=log(error), color=dimension)) +\n",
    "                    geom_point() +\n",
    "                    #geom_point(show.legend=FALSE,colour='black') +\n",
    "                    theme(axis.text.y = element_text(colour=df$colors)) + coord_flip() #+\n",
    "                    #scale_fill_manual(values = df$colors) +\n",
    "                    #scale_color_manual(values = df$colors)\n",
    "                    \n",
    "    ggsave('error_full_test.png',plot,height=20,width=10)\n",
    "    return(plot)\n",
    "}\n",
    "\n",
    "plot.error.full(error.data)"
   ]
  },
  {
   "cell_type": "code",
   "execution_count": 278,
   "id": "75d9a44e-2581-4c94-ba82-07cecbc26155",
   "metadata": {},
   "outputs": [
    {
     "data": {
      "image/png": "[encoded data removed]",
      "text/plain": [
       "plot without title"
      ]
     },
     "metadata": {
      "image/png": {
       "height": 420,
       "width": 420
      }
     },
     "output_type": "display_data"
    }
   ],
   "source": [
    "mean.error.full <- function(df){\n",
    "    plot <- ggplot(df, aes(x = dimension, y = log(error))) +\n",
    "            #geom_boxplot() + \n",
    "            geom_jitter(aes(color=colors),show.legend=FALSE,width=0.1,size=3) + scale_color_manual(values = df$colors) +\n",
    "            theme(text = element_text(size = 20))\n",
    "    \n",
    "    ggsave('error_dimension_test.png',plot,height=20,width=20)\n",
    "    return(plot)\n",
    "}\n",
    "\n",
    "mean.error.full(error.data)"
   ]
  },
  {
   "cell_type": "code",
   "execution_count": null,
   "id": "09679d10-635b-40c8-92f3-4789dc73602a",
   "metadata": {},
   "outputs": [],
   "source": []
  }
 ],
 "metadata": {
  "kernelspec": {
   "display_name": "R",
   "language": "R",
   "name": "ir"
  },
  "language_info": {
   "codemirror_mode": "r",
   "file_extension": ".r",
   "mimetype": "text/x-r-source",
   "name": "R",
   "pygments_lexer": "r",
   "version": "4.0.5"
  }
 },
 "nbformat": 4,
 "nbformat_minor": 5
}
